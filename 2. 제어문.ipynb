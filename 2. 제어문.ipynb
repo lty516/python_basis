{
 "cells": [
  {
   "cell_type": "markdown",
   "metadata": {},
   "source": [
    "# Control Statement\n",
    "\n",
    "### 1) 조건문\n",
    "\n",
    "        if\n",
    "\n",
    "### 2) 반복문\n",
    "\n",
    "        while\n",
    "        for"
   ]
  },
  {
   "cell_type": "markdown",
   "metadata": {},
   "source": [
    "### if\n",
    "\n",
    "   1)  \n",
    " \n",
    "       if 조건식:         (만약에 조건식이 참이라면)\n",
    "           문장           (문장을 실행하기 위해선 조건식이 반드시 참)\n",
    "           문장\n",
    "           ...\n",
    "           \n",
    "       if 조건식: 문장    (실행할 문장이 한개면 예외적으로 가능/ 가독성이 더 좋음)\n",
    "   \n",
    "   2) \n",
    "   \n",
    "       if 조건식:\n",
    "           문장\n",
    "           문장\n",
    "       else:              (조건이 거짓이면 실행 : 조건식을 가질수없다)\n",
    "           문장\n",
    "           문장\n",
    "           문장\n",
    "           ...            (else문 또한 한줄에 작성가능함 p.128)\n",
    "           \n",
    "   3) 다중 조건문 \n",
    "         \n",
    "         if 조건식 :           (참은 하나)\n",
    "             문장           \n",
    "             문장           \n",
    "         elif 조건식 :    \n",
    "             문장        \n",
    "         elif 조건식 :   \n",
    "             문장        \n",
    "         else:         \n",
    "             문장       \n",
    "             문장    \n",
    "             ...\n",
    "             \n",
    "   4) 조건문의 중첩(Nested) : 조건식이 길어지면 실수가능성이 높음 ->조건문을 나눠서 작성하기 위함\n",
    "       \n",
    "           if 조건문 :                     (위에 조건식이 참이면 \n",
    "               문장\n",
    "               \n",
    "                   if 조건문 :             (이친구도 참 일경우\n",
    "                       문장                (위의 조건 두가지 모두 참인경우 문장이 실행(and)\n",
    "                       \n",
    "           else : \n",
    "               문장\n",
    "               \n",
    "               if 조건문 : \n",
    "                   문장"
   ]
  },
  {
   "cell_type": "code",
   "execution_count": null,
   "metadata": {},
   "outputs": [],
   "source": [
    "# 입력받은 숫자가 짝수/홀수인지 판별하는 프로그램을 작성해보시오.\n",
    "\n",
    "num1 = int(input(\"숫자를 입력하세요.\"))\n",
    "\n",
    "if num1 % 2 == 0:\n",
    "    print(\"짝수입니다.\")\n",
    "    \n",
    "if num1 % 2 != 0: print(\"홀수입니다.\")    "
   ]
  },
  {
   "cell_type": "code",
   "execution_count": null,
   "metadata": {},
   "outputs": [],
   "source": [
    "num1 = int(input(\"숫자를 입력하세요.\"))\n",
    "\n",
    "if num1 % 2 == 0:\n",
    "    print(\"짝수입니다.\")\n",
    "else:\n",
    "    print(\"홀수입니다.\")"
   ]
  },
  {
   "cell_type": "code",
   "execution_count": null,
   "metadata": {},
   "outputs": [],
   "source": [
    "# 입력받은 값이 a,b,c,d이면 \"정답\"이라고 출력하고 그렇지 않으면 \"오답\"이라고 출력\n",
    "\n",
    "q = str(input(\"정답을 입력하세요.\"))\n",
    "a = [\"a\", \"b\", \"c\", \"d\"]\n",
    "if q in a:\n",
    "    print(\"정답\")\n",
    "else:\n",
    "    print(\"오답\")"
   ]
  },
  {
   "cell_type": "code",
   "execution_count": 14,
   "metadata": {},
   "outputs": [
    {
     "name": "stdout",
     "output_type": "stream",
     "text": [
      "답 입력 : a\n"
     ]
    }
   ],
   "source": [
    "result = input(\"답 입력 : \")\n",
    "\n",
    "#if result == 'a' or result == 'b' or result == 'c' or result ==  'd':\n",
    "#if result in ['a','b','c','d'] :\n",
    "\n",
    "#corract = ['a','b','c','d'] :\n",
    "#if corract.count(result) > 0 :\n",
    "\n",
    "#if result >='a' and result <= 'd':\n",
    "#    print(\"정답\")\n",
    "#else:\n",
    "#    print(\"오답\")"
   ]
  },
  {
   "cell_type": "code",
   "execution_count": 36,
   "metadata": {},
   "outputs": [
    {
     "name": "stdout",
     "output_type": "stream",
     "text": [
      "100 67\n",
      "상상도 못한 정체 \u0001 \u0007 \u0004\n"
     ]
    }
   ],
   "source": [
    "print(ord(\"d\"),ord(\"C\"))                  # ord('') : 문자의 아스킷코드 \n",
    "print(\"상상도 못한 정체\",chr(1),chr(7),chr(4))                            # chr(숫자) : 숫자의 문자 출력"
   ]
  },
  {
   "cell_type": "code",
   "execution_count": 64,
   "metadata": {},
   "outputs": [
    {
     "data": {
      "text/plain": [
       "' 윤년 계산 프로그램\\n1) 기원 연수가 4로 나누어 떨어지는 해는 우선 윤년으로 한다.\\n2) 그 중에서 100으로 나누어 떨어지는 해는 평년으로 한다.\\n3) 다만 400으로 나누어 떨어지는 해는 다시 윤년으로 정한다.\\n\\n연도를 입력 : 2019(엔터)\\n결과 : 윤년입니다.(윤년이 아닙니다)\\n'"
      ]
     },
     "execution_count": 64,
     "metadata": {},
     "output_type": "execute_result"
    }
   ],
   "source": [
    "\"\"\" 윤년 계산 프로그램\n",
    "1) 기원 연수가 4로 나누어 떨어지는 해는 우선 윤년으로 한다.\n",
    "2) 그 중에서 100으로 나누어 떨어지는 해는 평년으로 한다.\n",
    "3) 다만 400으로 나누어 떨어지는 해는 다시 윤년으로 정한다.\n",
    "\n",
    "연도를 입력 : 2019(엔터)\n",
    "결과 : 윤년입니다.(윤년이 아닙니다)\n",
    "\"\"\" "
   ]
  },
  {
   "cell_type": "code",
   "execution_count": 65,
   "metadata": {},
   "outputs": [
    {
     "name": "stdout",
     "output_type": "stream",
     "text": [
      "A\n"
     ]
    }
   ],
   "source": [
    "# 다중 if문           학점계산 예제\n",
    "\n",
    "avg = 90\n",
    "\n",
    "if avg >= 90 :\n",
    "    print(\"A\")\n",
    "elif avg >= 80 :        #89점이라는 범위를 잡을 필요없음 (이미 90점 이상에서 다 걸려짐)\n",
    "    print(\"B\")\n",
    "elif avg >= 70 :\n",
    "    print(\"C\")    \n",
    "elif avg >= 60 :\n",
    "    print(\"D\")\n",
    "else :\n",
    "    print(\"F\")"
   ]
  },
  {
   "cell_type": "code",
   "execution_count": 39,
   "metadata": {},
   "outputs": [
    {
     "data": {
      "text/plain": [
       "'\\n전자 계산기 프로그램(사칙연산)\\n------------------------------\\n연산자 : +\\n숫자1 :10\\n줏자2 : 5\\n\\n결과 10 + 5 = 15 (다중if문 이용/formatting이용)\\n'"
      ]
     },
     "execution_count": 39,
     "metadata": {},
     "output_type": "execute_result"
    }
   ],
   "source": [
    "\"\"\"\n",
    "전자 계산기 프로그램(사칙연산)\n",
    "------------------------------\n",
    "연산자 : +\n",
    "숫자1 :10\n",
    "줏자2 : 5\n",
    "\n",
    "결과 10 + 5 = 15 (다중if문 이용/formatting이용)\n",
    "\"\"\"\n"
   ]
  },
  {
   "cell_type": "code",
   "execution_count": 66,
   "metadata": {},
   "outputs": [
    {
     "name": "stdout",
     "output_type": "stream",
     "text": [
      "b가 제일 크다\n"
     ]
    }
   ],
   "source": [
    "# 중첩 조건문 \n",
    "\n",
    "a, b, c = 8, 10, 3                              # 어떤 변수가 가장 크냐?\n",
    "\n",
    "if a > b:                                       # 두변수를 비교\n",
    "    if a > c:                                   # 이미 a는 b보다 크다 를 전데조건으로 깔고있음\n",
    "        print(\"a가 제일 크다\")                      \n",
    "    else :         # (a < c) \n",
    "        print(\"c가 제일 크다\")\n",
    "else : # (a < b)\n",
    "    if b > c :\n",
    "        print(\"b가 제일 크다\")\n",
    "    else :\n",
    "        print(\"c가 제일 크다\")"
   ]
  },
  {
   "cell_type": "code",
   "execution_count": 23,
   "metadata": {},
   "outputs": [
    {
     "name": "stdout",
     "output_type": "stream",
     "text": [
      "아이디 :tom\n",
      "패스워드: 1234\n",
      "로그인 성공\n"
     ]
    }
   ],
   "source": [
    "# 아이디와 패스워드를 입력받아 인증  (id : tom , password :1234)\n",
    "\n",
    "id = input(\"아이디 :\")\n",
    "pw = input(\"패스워드: \")\n",
    "\n",
    "if  id != \"tom\":                                     # 두변수를 비교\n",
    "    if pw != \"1234\":                                 # 이미 a는 b보다 크다 를 전데조건으로 깔고있음\n",
    "        print(\"둘 다 틀림\")                      \n",
    "    else :         \n",
    "        print(\"아이디만 틀림\")\n",
    "else : \n",
    "    if pw != \"1234\":\n",
    "        print(\"패스워드만 틀림\")\n",
    "    else :\n",
    "        print(\"로그인 성공\")"
   ]
  },
  {
   "cell_type": "code",
   "execution_count": 67,
   "metadata": {},
   "outputs": [
    {
     "name": "stdout",
     "output_type": "stream",
     "text": [
      "2\n"
     ]
    }
   ],
   "source": [
    "# 가위바위보 프로그램\n",
    "\"\"\"\n",
    "(가위, 바위, 보) 중에서 하나를 선택 : 가위\n",
    "컴퓨터 : 바위 사용자 : 가위\n",
    "결과 : 사용자가 이겼습니다.(졌습니다.)\n",
    "\"\"\"\n",
    "# import : 다른곳에서 가져오기\n",
    "import random\n",
    "\n",
    "print(random.randint(1,3))\n"
   ]
  },
  {
   "cell_type": "markdown",
   "metadata": {},
   "source": [
    "### While\n",
    "\n",
    "    while 조건식 :               * 주의 : 1. 무한 반복(메모리 잡아먹음)   - 초기화 - 조건식 - 카운트 (세가지만 지키면 큰실수를 방지)\n",
    "                                          2. 반복 횟수\n",
    "        문장 \n",
    "        ..."
   ]
  },
  {
   "cell_type": "code",
   "execution_count": 3,
   "metadata": {},
   "outputs": [
    {
     "name": "stdout",
     "output_type": "stream",
     "text": [
      "**********\n",
      "*,*,*,*,*,*,*,*,*,*,"
     ]
    }
   ],
   "source": [
    "# 화면에  * 을 10개 출력\n",
    "\n",
    "print(\"**********\")\n",
    "\n",
    "cnt = 0                           #초기값\n",
    "while cnt < 10 :                 #반복을 시작한다 \n",
    "    print(\"*\",end=\",\")             #print(\"\",end=\"\") => 한줄만들기\n",
    "    cnt += 1"
   ]
  },
  {
   "cell_type": "code",
   "execution_count": null,
   "metadata": {},
   "outputs": [],
   "source": [
    "treehit = 0\n",
    "while treehit < 100:\n",
    "    treehit =treehit + 1\n",
    "    print(\"성오 죽빵을 %d번 쳤습니다.\" % treehit)\n",
    "    if treehit == 100:\n",
    "        print(\"한성오 넘어갑니다.\")"
   ]
  },
  {
   "cell_type": "code",
   "execution_count": 7,
   "metadata": {},
   "outputs": [
    {
     "name": "stdout",
     "output_type": "stream",
     "text": [
      "결과 :  55\n"
     ]
    }
   ],
   "source": [
    "# 1 ~ 10 까지의 합계\n",
    "\n",
    "cnt = 0\n",
    "sum = 0\n",
    "\n",
    "while cnt < 11 :             # 10까지의 합계니까 (시작이 0)                    \n",
    "    sum = sum + cnt\n",
    "    cnt += 1                  # 10번 돌 준비 끝\n",
    "\n",
    "print(\"결과 : \",sum)           "
   ]
  },
  {
   "cell_type": "code",
   "execution_count": 24,
   "metadata": {},
   "outputs": [
    {
     "name": "stdout",
     "output_type": "stream",
     "text": [
      "결과 :  1024\n"
     ]
    }
   ],
   "source": [
    "# 2의 10승\n",
    "\n",
    "cnt = 0                   # cnt = 반복 횟수 증가\n",
    "sum = 1                   # 초기 값 신경쓰자 \n",
    "\n",
    "while cnt < 10:          # 0~9 : 10번\n",
    "    sum *= 2\n",
    "    cnt += 1\n",
    "    \n",
    "print(\"결과 : \", sum)"
   ]
  },
  {
   "cell_type": "markdown",
   "metadata": {},
   "source": [
    "### for\n",
    "\n",
    "    for 변수 in 집합 자료형 :                  (집합 자료형 :list tuple dict set)의 자료 개수만큼만 반복\n",
    "        문장"
   ]
  },
  {
   "cell_type": "code",
   "execution_count": 76,
   "metadata": {},
   "outputs": [
    {
     "name": "stdout",
     "output_type": "stream",
     "text": [
      "10\n",
      "20\n",
      "홍길동\n",
      "3.14\n",
      "True\n",
      "-----------------------------------\n",
      "10\n",
      "20\n",
      "홍길동\n",
      "3.14\n",
      "True\n"
     ]
    }
   ],
   "source": [
    "data1 =[10, 20, \"홍길동\" , 3.14 ,\"True\"]\n",
    "\n",
    "cnt = 0\n",
    "while cnt < len(data1) :\n",
    "    print(data1[cnt])\n",
    "    cnt += 1\n",
    "    \n",
    "print(\"-----------------------------------\")    \n",
    "    \n",
    "for v in data1 :                    # 코드가 간단해짐  (특히 집합 자료형을 사용시)\n",
    "    print(v)"
   ]
  },
  {
   "cell_type": "code",
   "execution_count": 87,
   "metadata": {},
   "outputs": [
    {
     "name": "stdout",
     "output_type": "stream",
     "text": [
      "**********"
     ]
    }
   ],
   "source": [
    "# for문을 이용한 *을 10개 출력\n",
    "\n",
    "#for v in [1, 1, 1, 1, 1, 1, 1, 1, 1, 1]:\n",
    "#    print(\"*\",end=\"\")\n",
    "\n",
    "for v in range(10):\n",
    "    print(\"*\",end= \"\")"
   ]
  },
  {
   "cell_type": "markdown",
   "metadata": {},
   "source": [
    "### 반복문의 강제 종료 \n",
    "                        - 교재 p.133\n",
    "                        \n",
    "    1) break : 완전 종료 \n",
    "    \n",
    "    2) continue  : 임시 종료"
   ]
  },
  {
   "cell_type": "code",
   "execution_count": 104,
   "metadata": {},
   "outputs": [
    {
     "name": "stdout",
     "output_type": "stream",
     "text": [
      "0\n",
      "1\n",
      "2\n",
      "3\n",
      "4\n",
      "6\n",
      "7\n",
      "8\n",
      "9\n"
     ]
    }
   ],
   "source": [
    "for v in range(10) :\n",
    "    if v == 5 :\n",
    "        continue         # 조건을 만족할 때 임시정지 (5만빼고 출력)\n",
    "        \n",
    "    print(v)"
   ]
  },
  {
   "cell_type": "markdown",
   "metadata": {},
   "source": [
    "# 반복문의 중첩"
   ]
  },
  {
   "cell_type": "code",
   "execution_count": 109,
   "metadata": {},
   "outputs": [
    {
     "name": "stdout",
     "output_type": "stream",
     "text": [
      "**********\n",
      "**********\n",
      "**********\n"
     ]
    }
   ],
   "source": [
    "\"\"\"\n",
    "********** \n",
    "**********                 table = 행 * 열\n",
    "**********\n",
    "\"\"\"\n",
    "\n",
    "for v1 in range(3):          # 행의 반복 횟수\n",
    "    for c2 in range(10):     # 열의 반복 횟수\n",
    "        print(\"*\", end = \"\")\n",
    "    print()"
   ]
  },
  {
   "cell_type": "code",
   "execution_count": 127,
   "metadata": {},
   "outputs": [
    {
     "name": "stdout",
     "output_type": "stream",
     "text": [
      "\n",
      "*\n",
      "**\n",
      "***\n",
      "****\n",
      "*****\n"
     ]
    }
   ],
   "source": [
    "\"\"\"\n",
    "*\n",
    "**\n",
    "***\n",
    "****\n",
    "*****\n",
    "\"\"\"\n",
    "\n",
    "for v1 in range(6):                     \n",
    "    for v2 in range(v1):                  # 행 반복 횟수 =열 반복 횟수\n",
    "        \n",
    "        print(\"*\",end=\"\")\n",
    "    print()"
   ]
  },
  {
   "cell_type": "code",
   "execution_count": 4,
   "metadata": {
    "scrolled": true
   },
   "outputs": [
    {
     "name": "stdout",
     "output_type": "stream",
     "text": [
      "***\n",
      "***\n",
      "***\n",
      "***\n",
      "***\n"
     ]
    }
   ],
   "source": [
    "\"\"\"\n",
    "     *\n",
    "    *** \n",
    "   ***** \n",
    "  *******\n",
    " ********* \n",
    "\"\"\"\n",
    "\n",
    "for v1 in range(5) :\n",
    "    for v2 in range(5-v2) :\n",
    "        print(\"*\",end='')\n",
    "    print()"
   ]
  },
  {
   "cell_type": "markdown",
   "metadata": {},
   "source": [
    "# 실행 파일 만들기 \n",
    "\n",
    "   + pyinstaller(64bit에서 가장 안정적), py2exe, ......\n",
    "   + pip install pyinstaller (python 프로그램 관리)\n",
    "   + https://media.readthedocs.org/pdf/pyinstaller/cross-compiling/pyinstaller.pdf\n",
    "   000"
   ]
  },
  {
   "cell_type": "code",
   "execution_count": null,
   "metadata": {},
   "outputs": [],
   "source": []
  }
 ],
 "metadata": {
  "kernelspec": {
   "display_name": "Python 3",
   "language": "python",
   "name": "python3"
  },
  "language_info": {
   "codemirror_mode": {
    "name": "ipython",
    "version": 3
   },
   "file_extension": ".py",
   "mimetype": "text/x-python",
   "name": "python",
   "nbconvert_exporter": "python",
   "pygments_lexer": "ipython3",
   "version": "3.7.6"
  }
 },
 "nbformat": 4,
 "nbformat_minor": 4
}
