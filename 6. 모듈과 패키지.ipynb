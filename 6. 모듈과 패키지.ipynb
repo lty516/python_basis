{
 "cells": [
  {
   "cell_type": "markdown",
   "metadata": {},
   "source": [
    "# 모듈 \n",
    "---\n",
    "## 정의\n",
    "   - 함수나 변수, 클래스들을 모아놓은 파일 :.py\n",
    "   - 비슷하거나 관련된 일을 하는 함수, 클래스, 상수값들을 모아서 하나의 파일에 저장하고 추후에 재 사용하기 위한 목적\n",
    "---\n",
    "## 종류\n",
    "   - 표준 모듈         : 파이썬에 기본으로 장착되어있는 모듈\n",
    "   - 사용자 정의 모듈\n",
    "   - 서드 파티 모듈\n",
    "---\n",
    "## 모듈 사용 방법\n",
    "   - import (모듈명) \n",
    "   - import (모듈명) as (별칭)\n",
    "   - from (모듈명) import (변수,함수,클래스)\n",
    "   - from (모듈명) *  \n",
    "   - from (모듈명) import 이름 as 별칭\n",
    "---\n",
    "## 참조하는 방법\n",
    "\n",
    "   - 같은 경로 \n",
    "   - 기존 모듈 설치 경로 (anaconda lib/ 모듈관리 아주 중요)\n",
    "   - path 경로 (※추천)\n",
    "       - sys.path.append(\"경로 추가\")\n",
    "       - 제어판 > 환경변수 : pythonpath로 등록(jupyter 재부팅)\n",
    "---\n",
    "# 패키지 \n",
    "   - 여러 모듈을 모아놓은 폴더"
   ]
  },
  {
   "cell_type": "code",
   "execution_count": 4,
   "metadata": {
    "scrolled": true
   },
   "outputs": [],
   "source": [
    "import moduleTest"
   ]
  },
  {
   "cell_type": "code",
   "execution_count": 5,
   "metadata": {},
   "outputs": [
    {
     "name": "stdout",
     "output_type": "stream",
     "text": [
      "func1함수 호출:  10 20\n",
      "홍길동 30\n",
      "주식회사 파이썬\n"
     ]
    }
   ],
   "source": [
    "moduleTest.func1(10,20)\n",
    "\n",
    "ob1= moduleTest.Ctest1(\"홍길동\",30)\n",
    "ob1.show()\n",
    "\n",
    "print(moduleTest.companyName)"
   ]
  },
  {
   "cell_type": "code",
   "execution_count": 6,
   "metadata": {},
   "outputs": [
    {
     "name": "stdout",
     "output_type": "stream",
     "text": [
      "func1함수 호출:  10 20\n",
      "홍길동 30\n",
      "주식회사 파이썬\n"
     ]
    }
   ],
   "source": [
    "import moduleTest as mt   # import 모듈명 as 별칭\n",
    "\n",
    "mt.func1(10,20)\n",
    "\n",
    "ob1= mt.Ctest1(\"홍길동\",30)\n",
    "ob1.show()\n",
    "\n",
    "print(mt.companyName)"
   ]
  },
  {
   "cell_type": "code",
   "execution_count": 7,
   "metadata": {},
   "outputs": [
    {
     "name": "stdout",
     "output_type": "stream",
     "text": [
      "func1함수 호출:  10 20\n",
      "홍길동 30\n",
      "주식회사 파이썬\n"
     ]
    }
   ],
   "source": [
    "from moduleTest import companyName, func1 ,Ctest1   # 모듈이름 필요x\n",
    "\n",
    "func1(10,20)\n",
    "\n",
    "ob1= Ctest1(\"홍길동\",30)\n",
    "ob1.show()\n",
    "\n",
    "print(companyName)"
   ]
  },
  {
   "cell_type": "code",
   "execution_count": null,
   "metadata": {},
   "outputs": [],
   "source": [
    "# from (모듈명) * : 모듈의 모든 것을 불러옴 (명시할게 많을 때 사용,메모리 차지 주의)\n",
    "from moduleTest import *\n",
    "\n",
    "func1(10,20)\n",
    "\n",
    "ob1= Ctest1(\"홍길동\",30)\n",
    "ob1.show()\n",
    "\n",
    "print(companyName)"
   ]
  },
  {
   "cell_type": "code",
   "execution_count": null,
   "metadata": {},
   "outputs": [],
   "source": [
    "# from (모듈명) import 이름 as 별칭\n",
    "from moduleTest import companyName as cname\n",
    "\n",
    "print(cname)"
   ]
  },
  {
   "cell_type": "code",
   "execution_count": null,
   "metadata": {},
   "outputs": [],
   "source": [
    "import sys\n",
    "\n",
    "sys.path.append(\"C:\\\\Users\\\\acorn\\\\sh\\\\my lib\")   # 프로그램이 꺼지거나 컴퓨터가 꺼지면 다시 사용시 입력을 해야함.(일시적)\n",
    "print(sys.path)                                   # 제어판에서 path를 설정하면 영구적으로 사용가능"
   ]
  },
  {
   "cell_type": "code",
   "execution_count": null,
   "metadata": {},
   "outputs": [],
   "source": [
    "import moduleTest\n",
    "moduleTest.func1(10,20)\n",
    "\n",
    "ob1= moduleTest.Ctest1(\"홍길동\",30)\n",
    "ob1.show()\n",
    "\n",
    "print(moduleTest.companyName)"
   ]
  },
  {
   "cell_type": "code",
   "execution_count": null,
   "metadata": {},
   "outputs": [],
   "source": []
  },
  {
   "cell_type": "code",
   "execution_count": null,
   "metadata": {},
   "outputs": [],
   "source": []
  }
 ],
 "metadata": {
  "kernelspec": {
   "display_name": "Python 3",
   "language": "python",
   "name": "python3"
  },
  "language_info": {
   "codemirror_mode": {
    "name": "ipython",
    "version": 3
   },
   "file_extension": ".py",
   "mimetype": "text/x-python",
   "name": "python",
   "nbconvert_exporter": "python",
   "pygments_lexer": "ipython3",
   "version": "3.7.6"
  }
 },
 "nbformat": 4,
 "nbformat_minor": 4
}
