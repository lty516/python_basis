{
 "cells": [
  {
   "cell_type": "markdown",
   "metadata": {},
   "source": [
    "# 예외 처리  \n",
    "---\n",
    "   - 예외 : 프로그램적으로 발생한 오류 /에러 : 하드웨어적으로 발생한 오류\n",
    "---\n",
    "## 예외처리를 하는 이유 ★\n",
    "   - 자연스러운 예외 메시지를 출력 \n",
    "   - 프로그램에 비정상적인 종료를 방지\n",
    "   - 에러가 나면 코드가 노출된다(해킹에 위험해짐)\n",
    "---\n",
    "## 문법\n",
    "    \n",
    "    try:\n",
    "        코드\n",
    "        ...\n",
    "    except [예외처리 클래스[as 변수]]:\n",
    "        코드\n",
    "        ...\n",
    "    [else:                          # 생략가능                    \n",
    "        코드(예외가 발생하지 않았을 경우 실행)\n",
    "        ...\n",
    "    ]\n",
    "    [finally:  \n",
    "        코드(예외발생과는 무관하게 항상 실행)\n",
    "        ...\n",
    "    ]\n",
    "---\n",
    "### traceback \n",
    "   - 예외가 발생했을 때 예외정보를 추적\n",
    "   - 복잡한 코드일때 사용\n",
    "---\n",
    "### raise \n",
    "       : 일부러 예외 발생 \n",
    "       \n",
    "        - 예외에 대한 test\n",
    "        - 사용자 정의 예외처리 클래스 작성"
   ]
  },
  {
   "cell_type": "code",
   "execution_count": null,
   "metadata": {},
   "outputs": [],
   "source": [
    "# try   except\n",
    "\n",
    "def test(num):\n",
    "    try:\n",
    "        a = 10/num \n",
    "        print(a)\n",
    "    except:\n",
    "        print('0으로 나누면 안됩니다.')\n",
    "    print(\"나머지 코드 실행\")   # 에러 발생 후 이후의 나머지 코드가 실행이 안되기 때문에 나중에 뒷처리가 곤란\n",
    "###############################################\n",
    "test(2)\n",
    "test(4)\n",
    "test(0)   #  에러와 관련된 중요한 코드 노출"
   ]
  },
  {
   "cell_type": "code",
   "execution_count": null,
   "metadata": {},
   "outputs": [],
   "source": [
    "def test(num):\n",
    "    try:\n",
    "        a = 10/num \n",
    "        print(a)\n",
    "    except:\n",
    "        print('0으로 나누면 안됩니다.')\n",
    "    else:    \n",
    "        print(\"나머지 코드 실행\")   # 에러 발생 후 이후의 나머지 코드가 실행이 안되기 때문에 나중에 뒷처리가 곤란\n",
    "############################################### try except밖에있으면 무조건 실행이기때문에 그걸막기위해서 else문을 사용한다.\n",
    "test(2)\n",
    "test(4)\n",
    "test(0) \n"
   ]
  },
  {
   "cell_type": "code",
   "execution_count": null,
   "metadata": {},
   "outputs": [],
   "source": [
    "# 예외처리 클래스 [as 변수(원본메시지)] \n",
    "def test(num):\n",
    "    try:\n",
    "        a = 10/num \n",
    "        print(a)\n",
    "        \n",
    "        b = [0,1,2,3,4,5]\n",
    "        print(b[num])\n",
    "    except ZeroDivisionError as ex:\n",
    "        print('0으로 나누면 안됩니다.',ex)\n",
    "    except IndexError as ex:\n",
    "        print('인덱스 범위를 초과했습니다.',ex)\n",
    "    except Exception as ex: # 가장부모클래스  밑으로 내려갈수록 부모클래스로 \n",
    "        print('일반 오류입니다.',ex)\n",
    "        \n",
    "    print(\"나머지 코드 실행\")  \n",
    "    print('---------------------------')\n",
    "###############################################\n",
    "test(0)            # 1. 에러를 일부러 발생  2. 에러 메시지를 보고 예외처리 클래스에 입력\n",
    "test(7)\n",
    "test(3.14)"
   ]
  },
  {
   "cell_type": "code",
   "execution_count": null,
   "metadata": {},
   "outputs": [],
   "source": [
    "#finally\n",
    "\n",
    "import sys\n",
    "\n",
    "def test(num):\n",
    "    try:\n",
    "        a = 10/num \n",
    "        print(a)\n",
    "        \n",
    "        b = [0,1,2,3,4,5]\n",
    "        print(b[num])\n",
    "    except ZeroDivisionError as ex:\n",
    "        print('0으로 나누면 안됩니다.',ex)\n",
    "        #return\n",
    "        sys.exit()#강력한 종료 프로그램에 무리를준다   \n",
    "    except IndexError as ex:\n",
    "        print('인덱스 범위를 초과했습니다.',ex)\n",
    "        return\n",
    "    except Exception as ex: # 가장부모클래스\n",
    "        print('일반 오류입니다.',ex)\n",
    "        return\n",
    "    finally:\n",
    "        print(\"여기는 finally 영역입니다.\")\n",
    "    \n",
    "    print(\"나머지 코드 실행\")  \n",
    "    print('---------------------------')\n",
    "########################################################\n",
    "\n",
    "test(0)\n",
    "test(1)"
   ]
  },
  {
   "cell_type": "code",
   "execution_count": 8,
   "metadata": {},
   "outputs": [
    {
     "name": "stdout",
     "output_type": "stream",
     "text": [
      "third\n",
      "에러원인:  division by zero\n"
     ]
    },
    {
     "name": "stderr",
     "output_type": "stream",
     "text": [
      "Traceback (most recent call last):\n",
      "  File \"<ipython-input-8-3343aed6412c>\", line 7, in third\n",
      "    a = 10/0\n",
      "ZeroDivisionError: division by zero\n"
     ]
    }
   ],
   "source": [
    "#traceback\n",
    "import traceback  #모듈추가\n",
    "\n",
    "def third():\n",
    "    print(\"third\")\n",
    "    try:\n",
    "        a = 10/0\n",
    "        print(a)\n",
    "    except ZeroDivisionError as err:\n",
    "        print(\"에러원인: \",err)\n",
    "        traceback.print_exc()#호출 \n",
    "        \n",
    "def second():\n",
    "    third()\n",
    "\n",
    "def first():\n",
    "    second()\n",
    "\n",
    "#########################################################\n",
    "\n",
    "first()"
   ]
  },
  {
   "cell_type": "code",
   "execution_count": 15,
   "metadata": {},
   "outputs": [
    {
     "name": "stdout",
     "output_type": "stream",
     "text": [
      "5.0\n",
      "0으로 나누면 안됩니다. \n"
     ]
    }
   ],
   "source": [
    "#raise : 예외 test\n",
    "\n",
    "def test():\n",
    "    try:\n",
    "        a = 10/2\n",
    "        print(a)\n",
    "        raise ZeroDivisionError\n",
    "    except ZeroDivisionError as err:\n",
    "        print(\"0으로 나누면 안됩니다.\",err)\n",
    "\n",
    "#######################################################\n",
    "\n",
    "test()"
   ]
  },
  {
   "cell_type": "code",
   "execution_count": 24,
   "metadata": {},
   "outputs": [
    {
     "name": "stdout",
     "output_type": "stream",
     "text": [
      "프로그램 시작\n",
      "5.0\n",
      "음수로 나눌수 없다.\n"
     ]
    }
   ],
   "source": [
    "# 음수로 나누었을 때 에러발생 (가능한 연산을 에러상황으로 바꾸기)\n",
    "class NetgotiveDivideError(Exception):\n",
    "    pass\n",
    "#######################################\n",
    "def positiveDivide(a,b):\n",
    "    if b < 0:\n",
    "        raise NetgotiveDivideError\n",
    "    return a/b\n",
    "\n",
    "#######################################\n",
    "\n",
    "def main():\n",
    "    print(\"프로그램 시작\")\n",
    "    \n",
    "    try:\n",
    "        result = positiveDivide(10,2)\n",
    "        print(result)\n",
    "    \n",
    "        result = positiveDivide(10,-2)\n",
    "        print(result)\n",
    "    except:\n",
    "        print(\"음수로 나눌수 없다.\")\n",
    "########################################\n",
    "\n",
    "if __name__ ==\"__main__\":\n",
    "    main()"
   ]
  },
  {
   "cell_type": "code",
   "execution_count": null,
   "metadata": {},
   "outputs": [],
   "source": []
  }
 ],
 "metadata": {
  "kernelspec": {
   "display_name": "Python 3",
   "language": "python",
   "name": "python3"
  },
  "language_info": {
   "codemirror_mode": {
    "name": "ipython",
    "version": 3
   },
   "file_extension": ".py",
   "mimetype": "text/x-python",
   "name": "python",
   "nbconvert_exporter": "python",
   "pygments_lexer": "ipython3",
   "version": "3.7.6"
  }
 },
 "nbformat": 4,
 "nbformat_minor": 4
}
