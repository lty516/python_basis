{
 "cells": [
  {
   "cell_type": "markdown",
   "metadata": {},
   "source": [
    "# Regular Expression\n",
    "    - https://docs.python.org/3.7/library/re.html?highlight=regular%20expression\n",
    "---\n",
    "    - 반복                                         |    - 매칭 메타문자\n",
    "       * : 0회 이상 반복                           |       . : 줄바꿈 문자를 제외한 모든 문자와 매치\n",
    "           ab* : a ,ab,abb,abbbbbbbb.......        |           a.b: aab,abb,acb,adb...\n",
    "           lo* l : ll,lol,loool,loooooool........  |       ^ : 문자열의 시작과 매치\n",
    "       + : 1회 이상                                |           ^a : a,ab,abc... (a로 시작하는 문자 찾기)\n",
    "           ab+ : ab,abb,abbb......                 |       $ : 문자열의 마지막과 매치\n",
    "   ? : 0번 또는 1번                            |           a$ : zbda,ccca,dba...(a로 끝나는 문자 찾기)\n",
    "           ab? : a,ab                              |      [ ]: 문자 집합 중 한 문자를 매치\n",
    "      {n}: n회 반복                                |           [abc]xyz: axyz,bxyz,czxy...\n",
    "           a{3}bc : aaabc                          |           [a-z]bc : abc,bbc,cbc,dbc,ebc....(a부터z까지)\n",
    "      {n,m} : n회부터 m회까지 반복                 |           [a-zA-z0-9]hello:ahello,Ahello,0hello,1hello(소문자,대문자다가능)\n",
    "           a{2,4}bc : aabc, aaabc,aaaabc           |           [a | b]:ahello,bhello(a또는b)\n",
    "                                                   |           a[.]b:a.b (반드시 .이랑만)\n",
    "                                                   |           [a^bc]hello:ahello,chello ([]안에 ^_는 절대 오면 안됨)\n",
    "    - 특수문자(\\문자)                              \n",
    "       \\d : 모든 숫자와 매치\n",
    "           ab\\d\\dc: ab00c,ab12c,ab23c...\n",
    "           =ab[0-9][0-9]c\n",
    "       \\D : 숫자가 아닌 문자와 매치\n",
    "       \\s : 공백 문자와 매치\n",
    "       \\S : 공백문자가 아닌 모든 문자와 매치\n",
    "       \\w : 숫자 또는 문자와 매치 \n",
    "       \\W : 숫자 또는 문자가 아닌 모든 문자와 매치(특수문자)\n",
    "    \n",
    "    - 파이썬에서 제공하는 객체 또는 매서드\n",
    "        compile() :정규표현식 객체 생성\n",
    "        match() : 문자열의 처음부터 정규식와 매치되는지 조사\n",
    "        search() : 문자열 전체를 검색하여 정규식과 매치되는지 조사\n",
    "        split() : 문자열 분리\n",
    "        findall() : 정규식과 매치되는 모든 문자열을 리스트로 리턴\n",
    "        finditer() : 정규식과 매치되는 모든 문장열을 반복 가능한 객체로 리턴\n",
    "        sub() : 변경, 교체\n",
    "        ..."
   ]
  },
  {
   "cell_type": "code",
   "execution_count": 50,
   "metadata": {},
   "outputs": [
    {
     "name": "stdout",
     "output_type": "stream",
     "text": [
      "True\n",
      "False\n",
      "-----------------------------------------\n",
      "True\n",
      "False\n",
      "True\n",
      "True\n",
      "False\n",
      "-----------------------------------------\n",
      "True\n",
      "True\n"
     ]
    }
   ],
   "source": [
    "import re\n",
    "\n",
    "# 객체 생성\n",
    "p = re.compile(\"[0-9] [a-z]+.+\")# 숫자는 한개,문자는 한개이상,모든문자열 한개이상\n",
    "print(bool(p.match('3 abc diadjlaj:')))# 공백이 있어야됨\n",
    "print(bool(p.match('abc 10 asldfjal')))\n",
    "\n",
    "print('-----------------------------------------')\n",
    "\n",
    "#함수 사용(객체 생성 X)\n",
    "print(bool(re.match(\"[0-9]*th\",\"35th\")))\n",
    "print(bool(re.match(\"[0-9]*th\",\" 35th\"))) #match는 딱 그 문자열만 찾음\n",
    "print(bool(re.search(\"[0-9]*th\",\" 35th\"))) # match < search\n",
    "print(bool(re.search(\"[0-9]*th\",\"adfad 35th asdfad\"))) \n",
    "print(bool(re.match(\"[0-9]*th\",\"adfad 35th asdfad:\"))) \n",
    "\n",
    "print('-----------------------------------------')\n",
    "\n",
    "# \"010-222-3333\" or \"010-2233-4444\" 와 같은 전화번호 매칭\n",
    "# bool(re.match(\"\",\"010-222-3333\"))   시험문제\n",
    "# bool(re.match(\"\",\"010-2233-4444\"))\n",
    "print(bool(re.match(\"[0-9]+[-][0-9]+[-][0-9]+\",\"010-2233-4444\")))\n",
    "print(bool(re.match(\"[0-9]+[-][0-9]+[-][0-9]+\",\"010-222-3333\")))"
   ]
  },
  {
   "cell_type": "code",
   "execution_count": 33,
   "metadata": {},
   "outputs": [
    {
     "name": "stdout",
     "output_type": "stream",
     "text": [
      "['life', 'is', 'too', 'short']\n",
      "<callable_iterator object at 0x000002EC80654188>\n",
      "<re.Match object; span=(0, 4), match='life'>\n",
      "<re.Match object; span=(10, 12), match='is'>\n",
      "<re.Match object; span=(17, 20), match='too'>\n",
      "<re.Match object; span=(24, 29), match='short'>\n"
     ]
    }
   ],
   "source": [
    "# findall  문자열만 다 찾아준다 리스트로 넘겨줌             \n",
    "p = re.compile(\"[a-z]+\")\n",
    "\n",
    "m=p.findall(\"life 3333 is 222 too 10 short\")\n",
    "print(m)\n",
    "\n",
    "# finditer 결과값을 주소값으로 넘겨줌   -p. 301\n",
    "m1=p.finditer(\"life 3333 is 222 too 10 short\")\n",
    "print(m1)\n",
    "\n",
    "for i in m1:\n",
    "    print(i)"
   ]
  },
  {
   "cell_type": "code",
   "execution_count": 62,
   "metadata": {},
   "outputs": [
    {
     "name": "stdout",
     "output_type": "stream",
     "text": [
      "['1', '2', '3', '4', '5', '5', '5', '6']\n",
      "['1234', '555', '6']\n",
      "['12', '34', '55']\n",
      "['123', '555']\n"
     ]
    }
   ],
   "source": [
    "data=\"1234 abc 가나다ABC_555_6\"\n",
    "\n",
    "print(re.findall(\"[0-9]\",data))\n",
    "print(re.findall(\"[0-9]+\",data))#연속되는 \n",
    "print(re.findall(\"[0-9]{2}\",data)) # 2자리씩 \n",
    "print(re.findall(\"[0-9]{2,3}\",data))#연속되는 2~3자리 "
   ]
  },
  {
   "cell_type": "code",
   "execution_count": 69,
   "metadata": {},
   "outputs": [
    {
     "name": "stdout",
     "output_type": "stream",
     "text": [
      "['abc', 'mbc']\n",
      "['1']\n",
      "['234 abc 가나다ABC_555_6 mbc air air']\n",
      "['abc', 'air', 'air']\n",
      "['air']\n"
     ]
    }
   ],
   "source": [
    "data=\"1234 abc 가나다ABC_555_6 mbc air air\"\n",
    "\n",
    "print(re.findall(\".bc\",data)) # abc mbc \n",
    "print(re.findall(\"^1+\",data)) # 1?\n",
    "print(re.findall(\"[^1]+\",data)) # 1이 아닌 다른값들을 뽑아내라 \n",
    "print(re.findall(\"a..\",data)) # abc air air\n",
    "print(re.findall(\"air$\",data)) # air"
   ]
  },
  {
   "cell_type": "code",
   "execution_count": 80,
   "metadata": {},
   "outputs": [
    {
     "name": "stdout",
     "output_type": "stream",
     "text": [
      "['8', '0', '1', '0', '0', '5', '0']\n",
      "['80', '10', '50']\n",
      "['80', '10', '50']\n",
      "['100']\n"
     ]
    }
   ],
   "source": [
    "data = \"tom 80 james 100 oscar 50\"\n",
    "\n",
    "print(re.findall(\"\\d\",data))   # \\d = [0-9]\n",
    "print(re.findall(\"\\d\\d\",data)) # \\d 한자리 숫자 \\d\\d 두자리 숫자 \n",
    "print(re.findall(\"\\d{2}\",data))# \\d\\d = \\d{숫자}\n",
    "print(re.findall(\"\\d{3}\",data))"
   ]
  },
  {
   "cell_type": "code",
   "execution_count": 107,
   "metadata": {},
   "outputs": [
    {
     "name": "stdout",
     "output_type": "stream",
     "text": [
      "['mbc,kbs', 'sbs:ytn']\n",
      "['mbc', 'kbs sbs:ytn']\n",
      "['mbc', 'kbs', 'sbs', 'ytn']\n",
      "['mbc', 'kbs', 'sbs', 'ytn']\n",
      "['mbc', 'kbs', 'sbs', 'ytn']\n"
     ]
    }
   ],
   "source": [
    "# split() : 문자열 분리\n",
    "\n",
    "print(\"mbc,kbs sbs:ytn\".split())    # split()은 기준을 하나밖에 못씀\n",
    "print(\"mbc,kbs sbs:ytn\".split(\",\")) # 구분자는 많음  최소 split3번이상 써야돼 > 정규표현식을 이용해서 한번에 \n",
    "\n",
    "print(re.split(\"\\W\",\"mbc,kbs sbs:ytn\"))     # re.split > 여러가지의 구분자를 split할때 \n",
    "print(re.split(\"\\W+\",\"mbc,kbs sbs:ytn\"))    \n",
    "print(re.split(\",|:| \",\"mbc,kbs sbs:ytn\"))    "
   ]
  },
  {
   "cell_type": "code",
   "execution_count": 116,
   "metadata": {},
   "outputs": [
    {
     "name": "stdout",
     "output_type": "stream",
     "text": [
      "888 abc가나다ABC_888\n"
     ]
    }
   ],
   "source": [
    "#sub()  :원하는 걸 찾아서 변경,교체 \n",
    "m = re.sub(\"[0-9]+\",\"888\",\"1234 abc가나다ABC_567\") # \"1\",\"2\",\"3\"    1:찾을값 2: 교체할 값 3: 데이터\n",
    "print(m)"
   ]
  },
  {
   "cell_type": "code",
   "execution_count": 119,
   "metadata": {},
   "outputs": [
    {
     "name": "stdout",
     "output_type": "stream",
     "text": [
      "mbc,kbs,sbs,ytn\n"
     ]
    }
   ],
   "source": [
    "# \"mbc,kbs sbs:ytn\"의 구분기호를 \",\"로 통일하시오.\n",
    "a = re.sub(\"\\W\",\",\",\"mbc,kbs sbs:ytn\")\n",
    "print(a)"
   ]
  },
  {
   "cell_type": "code",
   "execution_count": 136,
   "metadata": {},
   "outputs": [
    {
     "name": "stdout",
     "output_type": "stream",
     "text": [
      "<re.Match object; span=(0, 6), match='python'>\n",
      "python\n",
      "0 6\n",
      "(0, 6)\n",
      "------------------------------\n",
      "<re.Match object; span=(0, 6), match='python'>\n",
      "python\n",
      "0 6\n",
      "(0, 6)\n"
     ]
    }
   ],
   "source": [
    "# match,search 객체의 매서드\n",
    "p = re.compile(\"[a-z]+\")\n",
    "\n",
    "m = p.match(\"python 123 !? python\")     # 중복을 제거  # 중복을 찾고 싶으면 findall\n",
    "print(m)\n",
    "print(m.group()) # m.group() : 찾은 문자열 출력\n",
    "print(m.start(),m.end())# m.start(),m.end(): 시작위치와 끝위치 출력\n",
    "print(m.span())   # m.span() : 결과값을 튜플로 출력\n",
    "\n",
    "print(\"------------------------------\")\n",
    "\n",
    "m1 = p.search(\"python 123 !? python\") # search :python이 뒤에 있어도 찾음\n",
    "print(m1)\n",
    "print(m1.group()) \n",
    "print(m1.start(),m.end())\n",
    "print(m1.span())   "
   ]
  },
  {
   "cell_type": "code",
   "execution_count": 139,
   "metadata": {},
   "outputs": [
    {
     "name": "stdout",
     "output_type": "stream",
     "text": [
      "<re.Match object; span=(0, 3), match='a+b'>\n",
      "<re.Match object; span=(0, 3), match='a\\nb'>\n"
     ]
    }
   ],
   "source": [
    "# 컴파일 옵션 : S(or DOTALL) ,I(or IGNORCASE) ,M(or MULTILINE)\n",
    "\n",
    "# S(DOTALL): dot(.)문자가 줄바꿈 문자를 포함하여 모든 문자와 매치한다.\n",
    "\n",
    "p = re.compile(\"a.b\",re.S)               # . : 줄바꿈을 제외한 모든 문자 \n",
    "                                         # re.S : 줄바꿈도 찾아준다\n",
    "m1 = p.match(\"a+b\")\n",
    "print(m1)\n",
    "\n",
    "m2 = p.match(\"a\\nb\")\n",
    "print(m2)"
   ]
  },
  {
   "cell_type": "code",
   "execution_count": 156,
   "metadata": {},
   "outputs": [
    {
     "name": "stdout",
     "output_type": "stream",
     "text": [
      "<re.Match object; span=(0, 1), match='p'>\n",
      "<re.Match object; span=(0, 1), match='P'>\n"
     ]
    }
   ],
   "source": [
    "# I(iGNORCASE) : 대,소문자에 관계 없이 매치한다.\n",
    "#p = re.compile(\"[a-z]\")\n",
    "#p = re.compile(\"[a-zA-Z]\")\n",
    "p = re.compile(\"[a-z]\",re.I)\n",
    "print(p.match(\"python\"))\n",
    "print(p.match(\"Python\"))\n"
   ]
  },
  {
   "cell_type": "code",
   "execution_count": 184,
   "metadata": {},
   "outputs": [
    {
     "name": "stdout",
     "output_type": "stream",
     "text": [
      "['python one', 'python two', 'Python three']\n"
     ]
    }
   ],
   "source": [
    "# M(MULTILINE) : 여러 줄과 매치한다(^,$ 메타 문자의 사용과는 관계가 있는 옵션이다.)\n",
    "data = \"\"\"python one\n",
    "life is too short\n",
    "python two\n",
    "you need python\n",
    "Python three\n",
    "\"\"\"\n",
    "p = re.compile(\"^[p|P]ython\\s\\w+\",re.M)\n",
    "print(p.findall(data))"
   ]
  },
  {
   "cell_type": "code",
   "execution_count": 231,
   "metadata": {},
   "outputs": [
    {
     "name": "stdout",
     "output_type": "stream",
     "text": [
      "['abc1.html', 'abc2.html', 'abc3.html']\n",
      "['abc1.html', 'abc2.html', 'abc3.html']\n"
     ]
    }
   ],
   "source": [
    "data = \"\"\"\n",
    "<a href=\"abc1.html\">abc1</a>\n",
    "<a href=\"abc2.html\">abc2</a>\n",
    "<a href=\"abc3.html\">abc3</a>\n",
    "\"\"\"\n",
    "\n",
    "#[\"abc1.html\",\"abc2.html\",\"abc3.html\"]      p.311\n",
    "# abc1,abc2,abc3 뽑아내기\n",
    "p = re.compile(\"\\D{3}\\d[.][a-z]+\",re.M)\n",
    "print(p.findall(data))\n",
    "\n",
    "p = re.findall('href=\"(.+)\"',data)      # 그루핑     # ' \"__\" ' \n",
    "print(p)\n",
    "\n"
   ]
  },
  {
   "cell_type": "code",
   "execution_count": null,
   "metadata": {},
   "outputs": [],
   "source": []
  },
  {
   "cell_type": "code",
   "execution_count": null,
   "metadata": {},
   "outputs": [],
   "source": []
  },
  {
   "cell_type": "code",
   "execution_count": null,
   "metadata": {},
   "outputs": [],
   "source": []
  }
 ],
 "metadata": {
  "kernelspec": {
   "display_name": "Python 3",
   "language": "python",
   "name": "python3"
  },
  "language_info": {
   "codemirror_mode": {
    "name": "ipython",
    "version": 3
   },
   "file_extension": ".py",
   "mimetype": "text/x-python",
   "name": "python",
   "nbconvert_exporter": "python",
   "pygments_lexer": "ipython3",
   "version": "3.7.6"
  }
 },
 "nbformat": 4,
 "nbformat_minor": 4
}
