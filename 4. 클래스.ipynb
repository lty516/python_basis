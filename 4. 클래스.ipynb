{
 "cells": [
  {
   "cell_type": "markdown",
   "metadata": {},
   "source": [
    "# 클래스\n",
    "---\n",
    "## 1. 클래스의 특징\n",
    "  \n",
    "        1) 묶음 (block) : 변수와 함수를 묶어서 하나의 Block을 만드는 행위    / 함수 < 클래스 함수 = 1 function 클래스 = functions\n",
    "            변수 - 멤버 변수, 속성\n",
    "            함수 - 멤버 함수, 매서드\n",
    "            \n",
    "        2) 설계도 (추상적) : ->구현 : 객체,인스턴스\n",
    "                                                    |ex) 자동차 제조 : 협력업체에서 각각의 부품을 받음 -> 부품들을 받아 조립          \n",
    "                                                    |객체와 인스턴스는 일단 같다고 보자|       (객체)        (메모리 instance) p.187 \n",
    "        3) . 접근 연산자 사용                       |메서드:똑같은 함수인데 클래스 안에 있는 것       함수.함수->객체에 접근한것이다.\n",
    "        \n",
    "        4) 사용자 정의 자료형 : 내가 원하는 데이터 형식의 데이터 타입을 만들수 있음\n",
    "        \n",
    "        5) 객체의 조건                      객체지향언어(oop : object oriented programming)       \n",
    "           - 상송석 (inheritance)  : 재사용 > 비용과 시간이 감소  (이전의 코드를 복사하여 사용)\n",
    "           - 다양성 (polymorphism) : 함수는 한가지 기능밖에없지만 class는 매서드를 통해 여러가지 기능을 사용할  수 있음.\n",
    "           - 캡슐화 (incapsulation): 편리성 (여러가지 복잡한 기능과 복잡한 로직들을 한대 묶음) \n",
    "                                     보안성 접근을 차단함(but 파이썬은 강제적이지는 않지만 접근을 하지말라는 의사표현정도)  \n",
    "                                \n",
    "        6) 객체 설계 원칙(SOLID)\n",
    "        7) UML : 유지보수시 인수인계시 프로그램에 대해 알수있음(일종의 도면)\n",
    "----\n",
    "## 2. 클래스 작성 방법\n",
    "\n",
    "        class 이름: \n",
    "            변수\n",
    "            함수\n",
    "            \n",
    "        또는 \n",
    "        \n",
    "        class이름(...)\n",
    "            변수\n",
    "            함수\n",
    "---\n",
    "\n",
    "\n",
    "구조적(함수) -> 객체지향 (c++,java,c#) -> 함수형(python)"
   ]
  },
  {
   "cell_type": "code",
   "execution_count": 154,
   "metadata": {},
   "outputs": [],
   "source": [
    "class Test:  #클래스 객체 x\n",
    "    a = 10\n",
    "    \n",
    "    def display(self):                   # 클래스 함수를 만들때는 self를 입력해야함   = 낙인과 같음\n",
    "        print(\"Test클래스: \",self.a)     # 일반함수와 클래스 함수를 구분하기 위해?"
   ]
  },
  {
   "cell_type": "code",
   "execution_count": 155,
   "metadata": {},
   "outputs": [
    {
     "name": "stdout",
     "output_type": "stream",
     "text": [
      "10\n",
      "10\n"
     ]
    }
   ],
   "source": [
    "Test() #객체 생성      # 함수를 만들때는 소문자 /클래스는 대문자    #개발자들끼리의 암묵적인 룰\n",
    "print(Test().a)    \n",
    "Test().a = 100\n",
    "print(Test().a)        # 100으로 수정했지만 결과값은 10-> 객체를 계속해서 만들어냄 ex)붕어빵 똑같은 틀로 똑같이 생긴 데이터를 찍어냄\n",
    "                       # 이미 끝난 class로는 돌아가지 못함 :주소를 모름  =>  Garbage(=>객체를 생성할때 가장 먼저 주소를 저장해야 함)"
   ]
  },
  {
   "cell_type": "code",
   "execution_count": 6,
   "metadata": {},
   "outputs": [
    {
     "name": "stdout",
     "output_type": "stream",
     "text": [
      "10\n",
      "100\n"
     ]
    }
   ],
   "source": [
    "ob1 = Test()           #  주소 값을 저장\n",
    "print(ob1.a)\n",
    "ob1.a = 100 \n",
    "print(ob1.a)           # 주소를 기억해서 수정 가능 "
   ]
  },
  {
   "cell_type": "code",
   "execution_count": 7,
   "metadata": {},
   "outputs": [
    {
     "name": "stdout",
     "output_type": "stream",
     "text": [
      "Test클래스:  100\n"
     ]
    }
   ],
   "source": [
    "ob1.display()"
   ]
  },
  {
   "cell_type": "code",
   "execution_count": 8,
   "metadata": {},
   "outputs": [
    {
     "name": "stdout",
     "output_type": "stream",
     "text": [
      "10\n"
     ]
    }
   ],
   "source": [
    "ob2 = Test()          # 변수도 객체라고 불러도 무방\n",
    "print(ob2.a)"
   ]
  },
  {
   "cell_type": "code",
   "execution_count": 9,
   "metadata": {},
   "outputs": [
    {
     "name": "stdout",
     "output_type": "stream",
     "text": [
      "<class 'int'>\n",
      "<class 'str'>\n"
     ]
    }
   ],
   "source": [
    "a = 10 \n",
    "print(type(a))\n",
    "\n",
    "a=\"abcd \"\n",
    "print(type(a))"
   ]
  },
  {
   "cell_type": "code",
   "execution_count": 65,
   "metadata": {
    "scrolled": true
   },
   "outputs": [
    {
     "name": "stdout",
     "output_type": "stream",
     "text": [
      "<class '__main__.Test'>\n"
     ]
    }
   ],
   "source": [
    "print(type(ob1))"
   ]
  },
  {
   "cell_type": "code",
   "execution_count": 4,
   "metadata": {},
   "outputs": [],
   "source": [
    "# 국적 ,이름, 나이, 신장, 취미    # 이런 형식의 자료형은 없음 -> 나만의 자료형을 class로 만듬\n",
    "class Person:\n",
    "    nation = \"한국\"\n",
    "    name=str() \n",
    "    age = int()\n",
    "    height = float()\n",
    "    hobby = []  #취미는 여러개일수도 있으니까 list\n",
    "    \n",
    "    def print(self):    #출력기능 추가 #class안에서 함수를 만들때는 매개변수 self를 꼭 입력!\n",
    "        print(\"국적: \",self.nation)\n",
    "        print(\"이름: \",self.name)\n",
    "        print(\"나이: \",self.age)\n",
    "        print(\"신장: \",self.height)\n",
    "        print(\"취미: \",self.hobby)\n",
    "        print(\"----------------------\")        "
   ]
  },
  {
   "cell_type": "code",
   "execution_count": 5,
   "metadata": {
    "scrolled": false
   },
   "outputs": [
    {
     "name": "stdout",
     "output_type": "stream",
     "text": [
      "국적:  한국\n",
      "이름:  홍길동\n",
      "나이:  20\n",
      "신장:  0.0\n",
      "취미:  ['독서', '여행']\n",
      "----------------------\n",
      "국적:  프랑스\n",
      "이름:  임꺽정\n",
      "나이:  25\n",
      "신장:  0.0\n",
      "취미:  ['축구', '우표수집']\n",
      "----------------------\n",
      "국적:  독일\n",
      "이름:  신돌석\n",
      "나이:  24\n",
      "신장:  0.0\n",
      "취미:  ['낚시']\n",
      "----------------------\n"
     ]
    }
   ],
   "source": [
    "p1= Person()   # 객체생성 , 주소저장\n",
    "p1.nation = \"한국\"\n",
    "p1.name =\"홍길동\"\n",
    "p1.age = 20\n",
    "p1.heihgt = 170\n",
    "p1.hobby = [\"독서\",\"여행\"]\n",
    "p1.print()\n",
    "\n",
    "p2= Person()   \n",
    "p1.nation = \"프랑스\"\n",
    "p1.name =\"임꺽정\"\n",
    "p1.age = 25\n",
    "p1.heihgt = 175\n",
    "p1.hobby = [\"축구\",\"우표수집\"]\n",
    "p1.print()\n",
    "\n",
    "p3= Person()   \n",
    "p1.nation = \"독일\"\n",
    "p1.name =\"신돌석\"\n",
    "p1.age = 24\n",
    "p1.heihgt = 174\n",
    "p1.hobby = [\"낚시\"]\n",
    "p1.print()"
   ]
  },
  {
   "cell_type": "code",
   "execution_count": 6,
   "metadata": {},
   "outputs": [
    {
     "name": "stdout",
     "output_type": "stream",
     "text": [
      "<class '__main__.Person'>\n"
     ]
    }
   ],
   "source": [
    "print(type(p1))"
   ]
  },
  {
   "cell_type": "code",
   "execution_count": 9,
   "metadata": {
    "scrolled": true
   },
   "outputs": [
    {
     "name": "stdout",
     "output_type": "stream",
     "text": [
      "국적:  한국\n",
      "이름:  \n",
      "나이:  0\n",
      "신장:  0.0\n",
      "취미:  []\n",
      "----------------------\n",
      "국적:  한국\n",
      "이름:  \n",
      "나이:  0\n",
      "신장:  0.0\n",
      "취미:  []\n",
      "----------------------\n",
      "국적:  한국\n",
      "이름:  \n",
      "나이:  0\n",
      "신장:  0.0\n",
      "취미:  []\n",
      "----------------------\n"
     ]
    }
   ],
   "source": [
    "data = [p1,p2,p3]\n",
    "\n",
    "for i in range(len(data)):\n",
    "    print(\"국적: \",data[1].nation)\n",
    "    print(\"이름: \",data[1].name)\n",
    "    print(\"나이: \",data[1].age)\n",
    "    print(\"신장: \",data[1].height)\n",
    "    print(\"취미: \",data[1].hobby)\n",
    "    print(\"----------------------\")     "
   ]
  },
  {
   "cell_type": "markdown",
   "metadata": {},
   "source": [
    "###  클래스 작성 문법\n",
    "    \n",
    "        1) self \n",
    "            - 현재 사용중인 객체의 주소를 저장하고 있는 참조변수 \n",
    "            - read only   \n",
    "            - heap에 있는 객체의 주소를 정확하게 찾을수 있게 만들어줌\n",
    "            - class 안에 있는 함수들은 반드시 self라는 기본인자값을 포함하고 있어야함 (주소를 찾기 위해서)\n",
    "            \n",
    "        2) 생성자매서드(Constructor)와 소멸자매서드 \n",
    "            - 매서드 : (객체지향에서만 사용가능)\n",
    "            - 객체를 생성하는 용도      \n",
    "            - 객체를 처음 만들 때 호출(단 한번만 호출 (일회용))    \n",
    "            - 모든 클래스에는 기본적으로 생성자를 가지고 있다\n",
    "            - 객체가 소멸할 때 호출되는 메서드가 소멸자이다. #Garbage collection\n",
    "        3) static\n",
    "            - 동일한 공간을 모든 객체들이 공동으로 사용\n",
    "            - static 공간에 만들어지는 변수 : 클래스 변수 \n",
    "        4) _,__\n",
    "           _\n",
    "               : 기본인터프린터(명령프롬프트)에서 사용(최근 사용한 값을 저장하고 불러오기)\n",
    "               : 값을 무시\n",
    "               : 변수명과 함께사용(접근 권한), _ 와 함께사용 \n",
    "              "
   ]
  },
  {
   "cell_type": "code",
   "execution_count": 18,
   "metadata": {},
   "outputs": [],
   "source": [
    "class Test1:\n",
    "    #a = int()                   변수는 생략가능 \n",
    "    #b = float()                 \n",
    "    #c = str()\n",
    "    \n",
    "    def show(self):\n",
    "        print(self.a,self.b,self.c)\n",
    "        \n",
    "    def setValue(self,x, y, z):\n",
    "        print(\"self의 주소\",id(self))\n",
    "        self.a = x\n",
    "        self.b = y\n",
    "        self.c = z"
   ]
  },
  {
   "cell_type": "code",
   "execution_count": 19,
   "metadata": {},
   "outputs": [
    {
     "name": "stdout",
     "output_type": "stream",
     "text": [
      "소멸자 호출됨\n",
      "소멸자 호출됨\n",
      "self의 주소 1845626495880\n",
      "20 3.14 임꺽정\n",
      "t1의 주소 1845626495880\n"
     ]
    }
   ],
   "source": [
    "t1 = Test1()\n",
    "t2 = Test1()\n",
    "t3 = Test1()\n",
    "\n",
    "t1.a = 10\n",
    "t1.b = 3.14\n",
    "t1.c = \"홍길동\"\n",
    "\n",
    "t1.setValue(20, 3.14, \"임꺽정\")   # 일반적으로 값을 넣을 때는 별도의 메서드를 만들어서 입력 \n",
    "t1.show()\n",
    "print(\"t1의 주소\",id(t1))\n"
   ]
  },
  {
   "cell_type": "code",
   "execution_count": 15,
   "metadata": {},
   "outputs": [],
   "source": [
    "# 생성자\n",
    "\n",
    "class Test2:\n",
    "    a = int()\n",
    "    b = str()\n",
    "    \n",
    "    def __init__(self,argv=None):            # 생성자 __init__\n",
    "        self.a = 10\n",
    "        self.b = \"안녕하세요\"\n",
    "        print(\"생성자 호출됨:\",argv)\n",
    "\n",
    "    def __del__(self):                        # 소멸자 __del__\n",
    "        print(\"소멸자 호출됨\")\n",
    "        \n",
    "    def show(self):\n",
    "        print(self.a,self.b)"
   ]
  },
  {
   "cell_type": "code",
   "execution_count": 16,
   "metadata": {},
   "outputs": [
    {
     "name": "stdout",
     "output_type": "stream",
     "text": [
      "생성자 호출됨: 1\n",
      "10 안녕하세요\n",
      "생성자 호출됨: None\n",
      "10 안녕하세요\n",
      "생성자 호출됨: None\n"
     ]
    },
    {
     "data": {
      "text/plain": [
       "<__main__.Test2 at 0x1adb7e969c8>"
      ]
     },
     "execution_count": 16,
     "metadata": {},
     "output_type": "execute_result"
    }
   ],
   "source": [
    "t1 = Test2(1)      # 생성자 호출 , 인자= 매개변수 (개수 위치 순서)\n",
    "t1.show()\n",
    "\n",
    "t2 =Test2()\n",
    "t2.show()\n",
    "\n",
    "Test2()"
   ]
  },
  {
   "cell_type": "code",
   "execution_count": 13,
   "metadata": {},
   "outputs": [],
   "source": [
    "class Test2:\n",
    "    a = int()\n",
    "    b = str()\n",
    "        \n",
    "    def show(self):\n",
    "        print(self.a, self.b)\n",
    "    \n",
    "    def setValue(self,a,b):\n",
    "        self.a = a\n",
    "        self.b = b\n",
    "    \n",
    "    def __init__(self,a=0,b=0):\n",
    "        self.a = a\n",
    "        self.b = b"
   ]
  },
  {
   "cell_type": "code",
   "execution_count": 14,
   "metadata": {},
   "outputs": [
    {
     "name": "stdout",
     "output_type": "stream",
     "text": [
      "1 2\n",
      "20 hello\n",
      "30 hi\n"
     ]
    }
   ],
   "source": [
    "t1 = Test2(1,\"2\")\n",
    "t1.show()\n",
    "t1.a = 10\n",
    "t1.b = \"안녕\"\n",
    "\n",
    "t1.setValue(20,\"hello\")\n",
    "t1.show()\n",
    "t2=Test2(30,\"hi\")\n",
    "t2.show()"
   ]
  },
  {
   "cell_type": "code",
   "execution_count": 12,
   "metadata": {},
   "outputs": [
    {
     "name": "stdout",
     "output_type": "stream",
     "text": [
      "10\n",
      "100 100\n",
      "200 100 100\n"
     ]
    }
   ],
   "source": [
    "# static                    static은 주로 매서드와 함께 사용된다\n",
    "class Test3:\n",
    "    a = 10\n",
    "    \n",
    "#######################################\n",
    "\n",
    "print(Test3.a)\n",
    "\n",
    "t1=Test3()\n",
    "t2=Test3()\n",
    "\n",
    "Test3.a = 100\n",
    "print(t1.a, t2.a)\n",
    "\n",
    "t1.a=200\n",
    "print(t1.a,t2.a,Test3.a)"
   ]
  },
  {
   "cell_type": "code",
   "execution_count": 6,
   "metadata": {},
   "outputs": [],
   "source": [
    "class Counter:  #객체가 몇 개 만들어졌는가?\n",
    "    m_cnt = 0\n",
    "    \n",
    "    def __init__(self):\n",
    "        Counter.m_cnt += 1           # static 변수는 class 명으로 접근 (selfXX) => 단하나의 공간에서 하나의 객체로 이루어진다.\n",
    "     # (). <무엇이 오는가에 따라 성질이변한다.\n",
    "    def printCount(self):\n",
    "        print(\"객체의 수: \",self.m_cnt)"
   ]
  },
  {
   "cell_type": "code",
   "execution_count": 7,
   "metadata": {},
   "outputs": [
    {
     "name": "stdout",
     "output_type": "stream",
     "text": [
      "객체의 수:  3\n",
      "객체의 수:  3\n",
      "객체의 수:  3\n"
     ]
    }
   ],
   "source": [
    "a, b, c = Counter(),Counter(),Counter()\n",
    "a.printCount()\n",
    "b.printCount()\n",
    "c.printCount()"
   ]
  },
  {
   "cell_type": "code",
   "execution_count": 4,
   "metadata": {},
   "outputs": [],
   "source": [
    "class Counter:  \n",
    "    m_cnt = 0\n",
    "    \n",
    "    def __init__(self):             # 이미 만들어진 함수 : 규칙이 있는 함수이기에 self는 무조건 \n",
    "        Counter.m_cnt += 1           \n",
    "        \n",
    "    def staticPrintCount():                # self를 빼면 객체별로 만들어지지않는다 / static공간에 하나만 생성\n",
    "        print(\"객체의 수: \",Counter.m_cnt) # <- 이 메서드를 계속만들지않고 static 공간에 딱 하나만 만든다  .garbage가 많이 생긴다.\n",
    "                                            "
   ]
  },
  {
   "cell_type": "code",
   "execution_count": 5,
   "metadata": {},
   "outputs": [
    {
     "name": "stdout",
     "output_type": "stream",
     "text": [
      "객체의 수:  3\n"
     ]
    }
   ],
   "source": [
    "a, b, c = Counter(), Counter(), Counter()\n",
    "Counter.staticPrintCount()\n",
    "\n",
    "#a.ststicPrintCount() >> 에러           #self가 없는 애들은 class의 멤버가 아님"
   ]
  },
  {
   "cell_type": "code",
   "execution_count": 11,
   "metadata": {},
   "outputs": [],
   "source": [
    "class Counter:  \n",
    "    m_cnt = 0\n",
    "    \n",
    "    def __init__(self):              \n",
    "        Counter.m_cnt += 1           \n",
    "        \n",
    "    def staticPrintCount():                        #classmethod도 있다.\n",
    "        print(\"객체의 수: \",Counter.m_cnt)     \n",
    "        \n",
    "    sPrintCount = staticmethod(staticPrintCount)   # => 메서드로 변함"
   ]
  },
  {
   "cell_type": "code",
   "execution_count": 12,
   "metadata": {},
   "outputs": [
    {
     "name": "stdout",
     "output_type": "stream",
     "text": [
      "객체의 수:  3\n",
      "객체의 수:  3\n",
      "객체의 수:  3\n"
     ]
    }
   ],
   "source": [
    "a, b, c = Counter(), Counter(), Counter()\n",
    "Counter.staticPrintCount()\n",
    "\n",
    "a.sPrintCount()\n",
    "Counter.sPrintCount()"
   ]
  },
  {
   "cell_type": "code",
   "execution_count": 13,
   "metadata": {},
   "outputs": [],
   "source": [
    "class Counter:  \n",
    "    m_cnt = 0\n",
    "    \n",
    "    def __init__(self):              \n",
    "        Counter.m_cnt += 1           \n",
    "    \n",
    "    \n",
    "    @staticmethod      # << decorator, annotation  # 코드를 더 간결화\n",
    "    def staticPrintCount():                \n",
    "        print(\"객체의 수: \",Counter.m_cnt)     "
   ]
  },
  {
   "cell_type": "code",
   "execution_count": 14,
   "metadata": {},
   "outputs": [
    {
     "name": "stdout",
     "output_type": "stream",
     "text": [
      "객체의 수:  3\n",
      "객체의 수:  3\n"
     ]
    }
   ],
   "source": [
    "a, b, c = Counter(), Counter(), Counter()\n",
    "Counter.staticPrintCount()\n",
    "\n",
    "a.staticPrintCount()"
   ]
  },
  {
   "cell_type": "raw",
   "metadata": {},
   "source": [
    "'''class연습문제\n",
    "e1 = Employee(1111, \"홍길동\", 1000000, [\"여행\", \"낚시\", \"운동\"])\n",
    "e1.display()\n",
    "\n",
    "결과:\n",
    "    사번 : 1111\n",
    "    이름 : 홍길동\n",
    "    급여 : 1000000\n",
    "    취미 : 여행, 낚시, 운동\n",
    "    \n",
    "e2 = Employee(1112, \"임꺽정\", 1200000, [\"자전거\", \"볼링\"])\n",
    "e3 = Employee(1113, \"신돌석\", 1000000, [\"독서\"])  \n",
    "\n",
    "total = Employee.getCount()\n",
    "print(\"총 인원수 : \", total)\n",
    "\n",
    "e3.setSalary(2500000)                   #3번 수정.\n",
    "e3.appendHobby([\"피아노\", \"드론\"])\n",
    "e3.display()\n",
    "\n",
    "결과:\n",
    "    사번 : 1113\n",
    "    이름 : 신돌석\n",
    "    급여 : 2500000\n",
    "    취미 : 독서, 피아노, 드론\n",
    "'''"
   ]
  },
  {
   "cell_type": "code",
   "execution_count": 18,
   "metadata": {},
   "outputs": [
    {
     "name": "stdout",
     "output_type": "stream",
     "text": [
      "0\n",
      "0\n"
     ]
    }
   ],
   "source": [
    "# 원래대로 설계된 멤버 변수외에 객체별로 별도의 멤버변수를 추가할 수 있다. \n",
    "\n",
    "class Test:\n",
    "    a = 0\n",
    "    \n",
    "    def show(self):\n",
    "        print(self.a)\n",
    "\n",
    "##########################################################################\n",
    "\n",
    "ob1 = Test()\n",
    "ob1.show()\n",
    "\n",
    "ob2 = Test()\n",
    "ob2.show()\n",
    "\n",
    "ob2.b = 20\n",
    "print(ob2.b)   # 임시로 사용 / 편의성을 위해서 기능을 제공\n",
    "#print(ob1.b)  XX"
   ]
  },
  {
   "cell_type": "code",
   "execution_count": 59,
   "metadata": {},
   "outputs": [
    {
     "name": "stdout",
     "output_type": "stream",
     "text": [
      "10 30\n",
      "10 60\n",
      "10 60\n",
      "0\n",
      "1\n",
      "2\n",
      "3\n",
      "****\n",
      "***\n",
      "** \n",
      "*  \n",
      "   \n"
     ]
    }
   ],
   "source": [
    "# _ : 값을 무시 \n",
    "\n",
    "(a, b, c) = (10 , 20, 30)\n",
    "\n",
    "_,b,c = (10 , 20, 30)\n",
    "b,_,c = (10 , 20, 30)\n",
    "print(b,c)\n",
    "\n",
    "a, _, _, _, _, b = (10 ,20 ,30 ,40 ,50 ,60)\n",
    "print(a,b)\n",
    "a,*_,b= (10 ,20 ,30 ,40 ,50 ,60)\n",
    "print(a,b)\n",
    "\n",
    "for a,_ in enumerate([\"가\",\"나\",\"다\",\"라\"]):\n",
    "    print(a)\n",
    "    \n",
    "for i in range(5):\n",
    "    for cnt in range(4-i):\n",
    "        print(\"*\",end='')\n",
    "    print(' '*(i-1))"
   ]
  },
  {
   "cell_type": "code",
   "execution_count": 65,
   "metadata": {},
   "outputs": [
    {
     "name": "stdout",
     "output_type": "stream",
     "text": [
      "안녕하세요.\n",
      "홍길동입니다\n",
      "다음에 또 봅시다.\n",
      "다음에 또 봅시다.\n"
     ]
    },
    {
     "data": {
      "text/plain": [
       "['_Test__str3',\n",
       " '__class__',\n",
       " '__delattr__',\n",
       " '__dict__',\n",
       " '__dir__',\n",
       " '__doc__',\n",
       " '__eq__',\n",
       " '__format__',\n",
       " '__ge__',\n",
       " '__getattribute__',\n",
       " '__gt__',\n",
       " '__hash__',\n",
       " '__init__',\n",
       " '__init_subclass__',\n",
       " '__le__',\n",
       " '__lt__',\n",
       " '__module__',\n",
       " '__ne__',\n",
       " '__new__',\n",
       " '__reduce__',\n",
       " '__reduce_ex__',\n",
       " '__repr__',\n",
       " '__setattr__',\n",
       " '__sizeof__',\n",
       " '__str__',\n",
       " '__subclasshook__',\n",
       " '__weakref__',\n",
       " '_str2',\n",
       " 'show',\n",
       " 'str1']"
      ]
     },
     "execution_count": 65,
     "metadata": {},
     "output_type": "execute_result"
    }
   ],
   "source": [
    "# _,__ : 접근 권한\n",
    "\n",
    "class Test:                 # class의 기능  = 보안성 (보호기능),but 파이썬에서는 공개 \n",
    "    str1= \"안녕하세요.\"\n",
    "    _str2=\"홍길동입니다\"     # _ 를 붙이면  제발 접근하지마\n",
    "    __str3=\"다음에 또 봅시다.\"\n",
    "    def show(self):\n",
    "        print(self.__str3)\n",
    "############################\n",
    "dir(Test)\n",
    "\n",
    "ob1 =Test()\n",
    "\n",
    "print(ob1.str1)\n",
    "print(ob1._str2)\n",
    "# print(ob1.__str3)          # __ : 접근을 막음\n",
    "ob1.show()\n",
    "\n",
    "print(ob1._Test__str3)\n",
    "dir(Test)"
   ]
  },
  {
   "cell_type": "markdown",
   "metadata": {},
   "source": [
    "## List Comprehension  리스트 내포 \n",
    "                                       -교재 p.144"
   ]
  },
  {
   "cell_type": "code",
   "execution_count": 75,
   "metadata": {},
   "outputs": [
    {
     "name": "stdout",
     "output_type": "stream",
     "text": [
      "[0, 2, 4, 6, 8]\n"
     ]
    }
   ],
   "source": [
    "result=[]\n",
    "for i in range(10):\n",
    "    if i % 2 ==0:\n",
    "        result.append(i)\n",
    "        \n",
    "print(result)"
   ]
  },
  {
   "cell_type": "code",
   "execution_count": 76,
   "metadata": {},
   "outputs": [
    {
     "name": "stdout",
     "output_type": "stream",
     "text": [
      "[0, 1, 2, 3, 4, 5, 6, 7, 8, 9]\n"
     ]
    }
   ],
   "source": [
    "result=[i for i in range(10)]\n",
    "print(result)"
   ]
  },
  {
   "cell_type": "code",
   "execution_count": 78,
   "metadata": {},
   "outputs": [
    {
     "name": "stdout",
     "output_type": "stream",
     "text": [
      "[0, 2, 4, 6, 8]\n"
     ]
    }
   ],
   "source": [
    "result=[i for i in range(10) if i%2==0]\n",
    "print(result)"
   ]
  },
  {
   "cell_type": "code",
   "execution_count": 82,
   "metadata": {},
   "outputs": [
    {
     "name": "stdout",
     "output_type": "stream",
     "text": [
      "[2, 6, 10]\n"
     ]
    }
   ],
   "source": [
    "numbers =[1,2,3,4,5]\n",
    "\n",
    "result = [n*2 for n in numbers if n % 2 ==1 ]\n",
    "\n",
    "print(result)"
   ]
  },
  {
   "cell_type": "code",
   "execution_count": 86,
   "metadata": {},
   "outputs": [
    {
     "name": "stdout",
     "output_type": "stream",
     "text": [
      "['HW', 'Ho', 'Hr', 'Hl', 'Hd', 'eW', 'eo', 'er', 'el', 'ed', 'lW', 'lo', 'lr', 'll', 'ld', 'lW', 'lo', 'lr', 'll', 'ld', 'oW', 'oo', 'or', 'ol', 'od']\n",
      "['HW', 'Ho', 'Hr', 'Hl', 'Hd', 'eW', 'eo', 'er', 'el', 'ed', 'lW', 'lo', 'lr', 'll', 'ld', 'lW', 'lo', 'lr', 'll', 'ld', 'oW', 'oo', 'or', 'ol', 'od']\n"
     ]
    }
   ],
   "source": [
    "word1 = \"Hello\"     #1이 한번 돌때 2는 5번\n",
    "word2 = \"World\"\n",
    "result=[]\n",
    "\n",
    "#HW,Ho,Hr,Hl,Hd,eW,eo..... 리스트에 저장\n",
    "\n",
    "for i in word1:\n",
    "    for j in word2:\n",
    "        result.append(i+j)\n",
    "        \n",
    "print(result)\n",
    "\n",
    "result2=[i+j for i in word1 for j in word2 ]\n",
    "print(result2)"
   ]
  },
  {
   "cell_type": "code",
   "execution_count": 89,
   "metadata": {},
   "outputs": [
    {
     "name": "stdout",
     "output_type": "stream",
     "text": [
      "['AD', 'AE', 'BD', 'BE', 'BA', 'CD', 'CE', 'CA']\n"
     ]
    }
   ],
   "source": [
    "case1 = [\"A\",\"B\",\"C\"]\n",
    "case2 = [\"D\",\"E\",\"A\"]\n",
    "\n",
    "result = [i+j for i in case1 for j in case2 if not(i==j)]\n",
    "print(result)"
   ]
  },
  {
   "cell_type": "code",
   "execution_count": 100,
   "metadata": {},
   "outputs": [
    {
     "name": "stdout",
     "output_type": "stream",
     "text": [
      "[['THE', 'the', 3], ['QUICK', 'quick', 5], ['BROWN', 'brown', 5], ['FOX', 'fox', 3], ['JUMP', 'jump', 4], ['OVER', 'over', 4], ['THE', 'the', 3], ['LAZY', 'lazy', 4], ['DOG', 'dog', 3]]\n"
     ]
    }
   ],
   "source": [
    "words = \"The quick brown fox jump over the lazy dog\"\n",
    "# [[THE,the,3],[QUICK,quick,5(글자수)]]\n",
    "# upper(),lower(),len() , .split()\n",
    "words = words.split()\n",
    "result =[[w.upper(),w.lower(),len(w)] for w in words]\n",
    "print(result)"
   ]
  },
  {
   "cell_type": "code",
   "execution_count": 18,
   "metadata": {},
   "outputs": [
    {
     "name": "stdout",
     "output_type": "stream",
     "text": [
      "첫번째 숫자를 입력하세요:3\n",
      "두번째 숫자를 입력하세요:6\n",
      "두 수의 합은 9입니다.\n"
     ]
    }
   ],
   "source": [
    "input1 = int(input(\"첫번째 숫자를 입력하세요:\"))\n",
    "input2 = int(input(\"두번째 숫자를 입력하세요:\"))\n",
    "\n",
    "total = input1 +input2\n",
    "print(\"두 수의 합은 %s입니다.\"%total)"
   ]
  },
  {
   "cell_type": "code",
   "execution_count": 22,
   "metadata": {},
   "outputs": [
    {
     "name": "stdout",
     "output_type": "stream",
     "text": [
      "life is too short\n"
     ]
    }
   ],
   "source": [
    "f1 = open(\"text.txt\",'w')\n",
    "f1.write(\"life is too short\")\n",
    "\n",
    "f2 = open(\"text.txt\",\"r\")\n",
    "print(f2.read())"
   ]
  },
  {
   "cell_type": "markdown",
   "metadata": {},
   "source": [
    "# 상속\n",
    "                   -교재 p.201\n",
    "---\n",
    "   - 상속 설계시 고려할 점\n",
    "        + 부모클래스는 최소한의 코드로 작성\n",
    "        + 중복된 코드가 있어서는 안된다\n",
    "        + 상속받은 자식 클래스는 반드시 기능을 확장(추가) 켜야한다.\n",
    "        \n",
    "   - 다형성\n",
    "        + 오버라이드(재정의, 상속과 관련) : 상속받은 매서드를 고쳐서 사용\n",
    "        + 오버로드(중복정의, 상속과 무관) : 같은 이름으로 매서드를 여러 개 작성 / 파이썬은 지원안돼\n",
    "   \n",
    "   - super() : 부모 객체에 접근하기 위한 주소를 리턴\n",
    "   \n",
    "   - 표준화\n",
    "   \n",
    "   - 다중 상속\n",
    "   \n",
    "   - 추상 클래스(Abstract Class)\n",
    "       : 추상 매서드를 한 개 이상 가지고 있어야 한다.\n",
    "       : 추상 매서드란 내용이 없는 매서드를 의미\n",
    "       \n",
    "   - object : object is a base for all classes."
   ]
  },
  {
   "cell_type": "code",
   "execution_count": null,
   "metadata": {},
   "outputs": [],
   "source": [
    "# class Animal:\n",
    "    def move(self):\n",
    "        print(\"움직인다\")\n",
    "        \n",
    "class Dog(Animal):          #상속 받는법! class 이름(부모클래스)\n",
    "    def bark(self):                # 부모클래스 : 모든 자식이 공통적으로 필요한 기능만 있어야된다.-> 철저한 계획에 의해서 만들어짐\n",
    "        print(\"멍멍~~\")\n",
    "    def run(self):\n",
    "        print(\"질주한다\")\n",
    "class Horse(Dog):\n",
    "    def speed(self,s):\n",
    "        print(\"현재속도는 \",s)\n",
    "#############################\n",
    "popee = Dog()\n",
    "popee.bark()\n",
    "popee.move()\n",
    "\n",
    "h1 = Horse()\n",
    "h1.speed(100)\n",
    "h1.move()\n",
    "h1.run()"
   ]
  },
  {
   "cell_type": "code",
   "execution_count": 82,
   "metadata": {},
   "outputs": [
    {
     "name": "stdout",
     "output_type": "stream",
     "text": [
      "30\n",
      "600\n",
      "7\n",
      "81\n",
      "0\n"
     ]
    }
   ],
   "source": [
    "# 전자계산기 -교재 예제\n",
    "\n",
    "class Calculator:\n",
    "    #first = None      원래 멤버변수가 있어야하지만\n",
    "    #second= None      밑에서 선언함\n",
    "    def __init__(self, first=None, second=None):       #Default 인수를 설정했다.\n",
    "        self.first = first\n",
    "        self.second = second\n",
    "                                                        # __init__ = 한번밖에 사용하지 못하니\n",
    "    def setData(self, first=None, second=None):        # 계속 사용하기 위해서 같은 코드 두번\n",
    "        self.first = first\n",
    "        self.second = second\n",
    "        \n",
    "    def sum(self):\n",
    "        return self.first + self.second\n",
    "    \n",
    "    def mul(self):\n",
    "        return self.first * self.second\n",
    "    \n",
    "    def div(self):\n",
    "        return self.first / self.second\n",
    "    \n",
    "    def sub(self):\n",
    "        return self.first - self.second\n",
    "                                                       # 다른 연산을 추가하고 싶음\n",
    "\n",
    "\n",
    "class Calc_v1(Calculator):\n",
    "    def pow(self):\n",
    "        return self.first ** self.second\n",
    "    \n",
    "    def div(self):                                    # 오버라이드 반드시 부모클래스의 매서드와 같아야함\n",
    "        if self.second ==0:\n",
    "            return 0\n",
    "        else:\n",
    "            return self.first / self.second\n",
    "#############################################################################\n",
    "\n",
    "calc1 = Calculator()\n",
    "calc1.setData(10,20)\n",
    "print(calc1.sum())\n",
    "\n",
    "calc2 = Calculator(20,30)\n",
    "print(calc2.mul())\n",
    "\n",
    "calc3 = Calc_v1(3,4)\n",
    "print(calc3.sum())\n",
    "print(calc3.pow())\n",
    "\n",
    "calc3.setData(4,0)\n",
    "print(calc3.div())"
   ]
  },
  {
   "cell_type": "code",
   "execution_count": 68,
   "metadata": {},
   "outputs": [],
   "source": [
    "# 오버로드 예시 파이썬에서 실행안됨\n",
    "class Test():\n",
    "    def display(self):\n",
    "        print(\"기본값 출력\")\n",
    "    def display(self,a):\n",
    "        print(\"출력:\", a)\n",
    "    def display(self,a,b):\n",
    "        print(\"출력:\",a, b)\n",
    "        \n",
    "###################################"
   ]
  },
  {
   "cell_type": "code",
   "execution_count": 69,
   "metadata": {},
   "outputs": [
    {
     "name": "stdout",
     "output_type": "stream",
     "text": [
      "기본값 출력\n",
      "10 None\n",
      "10 20\n"
     ]
    }
   ],
   "source": [
    "#오버로드는 아니지만 같은 효과는 줄 수 있음\n",
    "class Test:\n",
    "    def dispaly(self,a=None,b=None):\n",
    "        if a==None and b==None:\n",
    "            print(\"기본값 출력\")\n",
    "        else:\n",
    "            print(a,b)\n",
    "########################################\n",
    "t1 =Test()\n",
    "t1.dispaly()\n",
    "t1.dispaly(10)\n",
    "t1.dispaly(10,20)"
   ]
  },
  {
   "cell_type": "code",
   "execution_count": 97,
   "metadata": {},
   "outputs": [
    {
     "name": "stdout",
     "output_type": "stream",
     "text": [
      "Employee 클래스\n",
      "나이:20, 하고싶은말:일하는 동물\n",
      "나이:30, 하고싶은말:일하는 동물\n"
     ]
    },
    {
     "data": {
      "text/plain": [
       "<bound method Employee.einfo of <__main__.Employee object at 0x0000022703337808>>"
      ]
     },
     "execution_count": 97,
     "metadata": {},
     "output_type": "execute_result"
    }
   ],
   "source": [
    "# super()\n",
    "\n",
    "class Person:\n",
    "    say = \"난 사람이야\"\n",
    "    age = \"20\"\n",
    "    \n",
    "    def __init__(self,age):\n",
    "        print(\"Person 클래스\")\n",
    "        self.age = age\n",
    "        \n",
    "    def info(self):\n",
    "        print(\"나이:{}, 하고싶은말:{}\".format(self.age,self.say))\n",
    "        \n",
    "class Employee(Person):\n",
    "    say = \"일하는 동물\"\n",
    "    subject = \"근로자\"\n",
    "    \n",
    "    def __init__(self):\n",
    "        print(\"Employee 클래스\")\n",
    "        \n",
    "    def einfo(self):\n",
    "        print(self.say)\n",
    "        print(super().say)    #오버라이딩하기전에 부모의 값에 접근 하기위해\n",
    "        \n",
    "        print(self.age)\n",
    "        print(super().age)\n",
    "######################################################################\n",
    "\n",
    "e1=Employee()\n",
    "e1.info()\n",
    "e1.age =30\n",
    "e1.info()\n",
    "e1.einfo"
   ]
  },
  {
   "cell_type": "code",
   "execution_count": 113,
   "metadata": {},
   "outputs": [
    {
     "name": "stdout",
     "output_type": "stream",
     "text": [
      "Employee 클래스\n",
      "나이 : 20, 하고싶은말 : 일하는 동물\n",
      "나이 : 30, 하고싶은말 : 일하는 동물\n"
     ]
    }
   ],
   "source": [
    "# super() \n",
    "\n",
    "class Person:\n",
    "    say = \"난 사람이야\"\n",
    "    __age = \"20\"\n",
    "    \n",
    "    def __init__(self,age):\n",
    "        print(\"Person 클래스\")\n",
    "        self.age = age\n",
    "        \n",
    "    def info(self):\n",
    "        print(\"나이 : {}, 하고싶은말 : {}\".format(self.__age, self.say))\n",
    "        \n",
    "    def setAge(self, age):\n",
    "        #검증 코드\n",
    "        self.__age = age\n",
    "        \n",
    "    def getAge(self,age):\n",
    "        return self.__age\n",
    "class Employee(Person):\n",
    "    say = \"일하는 동물\"\n",
    "    subject = \"근로자\"\n",
    "    \n",
    "    def __init__(self):\n",
    "        print(\"Employee 클래스\")\n",
    "\n",
    "    def einfo(self):\n",
    "        print(self.__age)\n",
    "\n",
    "        \n",
    "        \n",
    "a1 = Employee()\n",
    "a1.info()\n",
    "a1.age = 30\n",
    "a1.setAge(30)\n",
    "a1.getAge(30)\n",
    "a1.info()"
   ]
  },
  {
   "cell_type": "code",
   "execution_count": 116,
   "metadata": {},
   "outputs": [
    {
     "name": "stdout",
     "output_type": "stream",
     "text": [
      "TV 볼륨의 크기는 10만큼 증가하여 현재 볼륨은 10 입니다.\n",
      "TV 볼륨의 크기는 3만큼 감소하여 현재 볼륨은 7 입니다.\n"
     ]
    }
   ],
   "source": [
    "class Volume: \n",
    "    vol = 0\n",
    "    def volumeUp(self, vol):\n",
    "        self.vol += vol\n",
    "        print(\"볼륨의 크기는 %d만큼 증가하여 현재 볼륨은 %d 입니다.\"% (vol, self.vol))\n",
    "        \n",
    "    def volumeDown(self, vol):\n",
    "        self.vol -= vol\n",
    "        print(\"볼륨의 크기는 %d만큼 감소하여 현재 볼륨은 %d 입니다.\"% (vol, self.vol))\n",
    "        \n",
    "############################################\n",
    "\n",
    "class TV(Volume):\n",
    "    def volumeUp(self, vol):\n",
    "        self.vol += vol\n",
    "        print(\"TV 볼륨의 크기는 %d만큼 증가하여 현재 볼륨은 %d 입니다.\"% (vol, self.vol))\n",
    "        \n",
    "    def volumeDown(self, vol):\n",
    "        self.vol -= vol\n",
    "        print(\"TV 볼륨의 크기는 %d만큼 감소하여 현재 볼륨은 %d 입니다.\"% (vol, self.vol))\n",
    "\n",
    "############################################\n",
    "\n",
    "class Radio(Volume):\n",
    "    def volumeUp(self, vol):\n",
    "        self.vol += vol\n",
    "        print(\"Radio 볼륨의 크기는 %d만큼 증가하여 현재 볼륨은 %d 입니다.\"% (vol, self.vol))\n",
    "        \n",
    "    def volumeDown(self, vol):\n",
    "        self.vol -= vol\n",
    "        print(\"Radio 볼륨의 크기는 %d만큼 감소하여 현재 볼륨은 %d 입니다.\"% (vol, self.vol))\n",
    "\n",
    "############################################\n",
    "\n",
    "class Speaker(Volume):\n",
    "    def volumeUp(self, vol):\n",
    "        self.vol += vol\n",
    "        print(\"Speaker 볼륨의 크기는 %d만큼 증가하여 현재 볼륨은 %d 입니다.\"% (vol, self.vol))\n",
    "        \n",
    "    def volumeDown(self, vol):\n",
    "        self.vol -= vol\n",
    "        print(\"Speaker 볼륨의 크기는 %d만큼 감소하여 현재 볼륨은 %d 입니다.\"% (vol, self.vol))\n",
    "\n",
    "#############################################\n",
    "\n",
    "\n",
    "\n",
    "tv = TV()\n",
    "radio = Radio()\n",
    "speaker = Speaker()\n",
    "\n",
    "tv.volumeUp(10)\n",
    "tv.volumeDown(3)"
   ]
  },
  {
   "cell_type": "code",
   "execution_count": 118,
   "metadata": {},
   "outputs": [
    {
     "name": "stdout",
     "output_type": "stream",
     "text": [
      "통화 기능\n",
      "촬영 기능\n"
     ]
    }
   ],
   "source": [
    "# 다중 상속\n",
    "\n",
    "class Phone:\n",
    "    def call(self):\n",
    "        print(\"통화 기능\")\n",
    "\n",
    "class Camera:\n",
    "    def picture(self):\n",
    "        print(\"촬영 기능\")\n",
    "        \n",
    "class PhoneCamera(Phone,Camera):  #다중 상속\n",
    "    pass\n",
    "\n",
    "#################################\n",
    "cp = PhoneCamera()\n",
    "cp.call()\n",
    "cp.picture()"
   ]
  },
  {
   "cell_type": "code",
   "execution_count": 119,
   "metadata": {},
   "outputs": [
    {
     "data": {
      "text/plain": [
       "'\\n위에 작성된 Volume, Tv, Radio, Speaker클래스를 기반으로 확장\\n\\n1. 부모클래스로 Power를 추가한다. : 다중 상속 구현\\n    - powerOn(), powerOff()\\n    \\n2. 전원을 켰을때만 볼륨 조정을 할 수 있도록 한다.\\n\\n3. 볼륨 조정은 max값을 100으로 하고 min값을 0으로 한다.\\n--------------------------------------------------------\\n결과 예시:\\n\\n1. TV\\n2. RADIO\\n3. SPEAKER\\n4. 종료\\n메뉴 : 1(엔터)\\n\\n1. 전원 On\\n2. 볼륨 조정\\n3. 나가기\\n메뉴 : 2(엔터)\\n\\n레벨 입력 : 10\\n현재 TV의 볼륨은 ~~이다.\\n...\\n'"
      ]
     },
     "execution_count": 119,
     "metadata": {},
     "output_type": "execute_result"
    }
   ],
   "source": [
    "\"\"\"\n",
    "위에 작성된 Volume, Tv, Radio, Speaker클래스를 기반으로 확장\n",
    "\n",
    "1. 부모클래스로 Power를 추가한다. : 다중 상속 구현\n",
    "    - powerOn(), powerOff()\n",
    "    \n",
    "2. 전원을 켰을때만 볼륨 조정을 할 수 있도록 한다.\n",
    "\n",
    "3. 볼륨 조정은 max값을 100으로 하고 min값을 0으로 한다.\n",
    "--------------------------------------------------------\n",
    "결과 예시:\n",
    "\n",
    "1. TV\n",
    "2. RADIO\n",
    "3. SPEAKER\n",
    "4. 종료\n",
    "메뉴 : 1(엔터)\n",
    "\n",
    "1. 전원 On\n",
    "2. 볼륨 조정\n",
    "3. 나가기\n",
    "메뉴 : 2(엔터)\n",
    "\n",
    "레벨 입력 : 10\n",
    "현재 TV의 볼륨은 ~~이다.\n",
    "...\n",
    "\"\"\"#주말 숙제 : 파이참으로"
   ]
  },
  {
   "cell_type": "code",
   "execution_count": 131,
   "metadata": {},
   "outputs": [
    {
     "name": "stdout",
     "output_type": "stream",
     "text": [
      "TV 볼륨의 크기는 10만큼 증가하여 현재 볼륨은 10 입니다.\n",
      "TV 볼륨의 크기는 7만큼 감소하여 현재 볼륨은 3 입니다.\n"
     ]
    },
    {
     "ename": "TypeError",
     "evalue": "Can't instantiate abstract class Volume with abstract methods volumeDown, volumeUp",
     "output_type": "error",
     "traceback": [
      "\u001b[1;31m---------------------------------------------------------------------------\u001b[0m",
      "\u001b[1;31mTypeError\u001b[0m                                 Traceback (most recent call last)",
      "\u001b[1;32m<ipython-input-131-64f930bda45a>\u001b[0m in \u001b[0;36m<module>\u001b[1;34m\u001b[0m\n\u001b[0;32m     31\u001b[0m \u001b[0mtv\u001b[0m\u001b[1;33m.\u001b[0m\u001b[0mvolumeDown\u001b[0m\u001b[1;33m(\u001b[0m\u001b[1;36m7\u001b[0m\u001b[1;33m)\u001b[0m\u001b[1;33m\u001b[0m\u001b[1;33m\u001b[0m\u001b[0m\n\u001b[0;32m     32\u001b[0m \u001b[1;33m\u001b[0m\u001b[0m\n\u001b[1;32m---> 33\u001b[1;33m \u001b[0mv1\u001b[0m \u001b[1;33m=\u001b[0m \u001b[0mVolume\u001b[0m\u001b[1;33m(\u001b[0m\u001b[1;33m)\u001b[0m\u001b[1;33m\u001b[0m\u001b[1;33m\u001b[0m\u001b[0m\n\u001b[0m\u001b[0;32m     34\u001b[0m \u001b[0mv1\u001b[0m\u001b[1;33m.\u001b[0m\u001b[0mvol\u001b[0m\u001b[1;33m=\u001b[0m\u001b[1;36m10\u001b[0m\u001b[1;33m\u001b[0m\u001b[1;33m\u001b[0m\u001b[0m\n",
      "\u001b[1;31mTypeError\u001b[0m: Can't instantiate abstract class Volume with abstract methods volumeDown, volumeUp"
     ]
    }
   ],
   "source": [
    "# 추상 클래스와 추상 매서드 \n",
    "import abc #추상 클래스를 만들어준는 기본\n",
    "\n",
    "class Volume(metaclass=abc.ABCMeta): \n",
    "    vol = 0\n",
    "    \n",
    "    @abc.abstractclassmethod\n",
    "    def volumeUp(self, vol):         # 추상매서드를 넣으면 강제로 오버라이딩해야한다.\n",
    "        pass                         #  오버라이딩이 안되면 에러를 띄워서 알려줄 수 있는 혜택\n",
    "    \n",
    "    @abc.abstractclassmethod\n",
    "    def volumeDown(self, vol):        \n",
    "        pass\n",
    "############################################\n",
    "\n",
    "class TV(Volume):\n",
    "    def volumeUp(self, vol):\n",
    "        self.vol += vol\n",
    "        print(\"TV 볼륨의 크기는 %d만큼 증가하여 현재 볼륨은 %d 입니다.\"% (vol, self.vol))\n",
    "        \n",
    "    def volumeDown(self, vol):\n",
    "        self.vol -= vol\n",
    "        print(\"TV 볼륨의 크기는 %d만큼 감소하여 현재 볼륨은 %d 입니다.\"% (vol, self.vol))\n",
    "\n",
    "        \n",
    "        \n",
    "################################################\n",
    "\n",
    "tv =TV()\n",
    "tv.volumeUp(10)\n",
    "tv.volumeDown(7)\n",
    "\n",
    "v1 = Volume()\n",
    "v1.vol=10                              # 추상클래스는 객체를 생성할 수 없다 \n",
    "                                       # 추상클래스는 자식에게 물려주기 위한 용도일뿐이다.\n",
    "                                       # 자체적으로는 사용하지말아라 라는 의미\n",
    " "
   ]
  },
  {
   "cell_type": "code",
   "execution_count": 135,
   "metadata": {
    "collapsed": true
   },
   "outputs": [
    {
     "name": "stdout",
     "output_type": "stream",
     "text": [
      "<class 'int'>\n"
     ]
    },
    {
     "data": {
      "text/plain": [
       "['__abstractmethods__',\n",
       " '__class__',\n",
       " '__delattr__',\n",
       " '__dict__',\n",
       " '__dir__',\n",
       " '__doc__',\n",
       " '__eq__',\n",
       " '__format__',\n",
       " '__ge__',\n",
       " '__getattribute__',\n",
       " '__gt__',\n",
       " '__hash__',\n",
       " '__init__',\n",
       " '__init_subclass__',\n",
       " '__le__',\n",
       " '__lt__',\n",
       " '__module__',\n",
       " '__ne__',\n",
       " '__new__',\n",
       " '__reduce__',\n",
       " '__reduce_ex__',\n",
       " '__repr__',\n",
       " '__setattr__',\n",
       " '__sizeof__',\n",
       " '__str__',\n",
       " '__subclasshook__',\n",
       " '__weakref__',\n",
       " '_abc_impl',\n",
       " 'vol',\n",
       " 'volumeDown',\n",
       " 'volumeUp']"
      ]
     },
     "execution_count": 135,
     "metadata": {},
     "output_type": "execute_result"
    }
   ],
   "source": [
    "#object\n",
    "dir(object)\n",
    "\n",
    "a = int()\n",
    "print(type(a))\n",
    "dir(a)\n",
    "\n",
    "dir(tv) "
   ]
  },
  {
   "cell_type": "code",
   "execution_count": 140,
   "metadata": {},
   "outputs": [
    {
     "name": "stdout",
     "output_type": "stream",
     "text": [
      "파이썬 클래스\n",
      "파이썬 클래스\n",
      "파이썬 클래스\n",
      "==================\n",
      "데이터 변경\n",
      "데이터 변경\n",
      "데이터 변경\n"
     ]
    }
   ],
   "source": [
    "# __class__ \n",
    "\n",
    "class Test:\n",
    "    data = \"파이썬 클래스\"\n",
    "    \n",
    "############################\n",
    "\n",
    "ob1 = Test()\n",
    "ob2 = Test()\n",
    "\n",
    "print(ob1.data)\n",
    "print(ob2.data)\n",
    "print(Test.data)\n",
    "print(\"==================\")\n",
    "#ob1.data=\"데이터 변경\"\n",
    "#Test.data =\"데이터 변경2\"\n",
    "#print(ob1.data)\n",
    "#print(ob2.data)\n",
    "#print(Test.data)\n",
    "\n",
    "\n",
    "ob1.__class__.data = \"데이터 변경\"          # stack공간에 접속 : __class__\n",
    "print(ob1.data)\n",
    "print(ob2.data)\n",
    "print(Test.data)"
   ]
  },
  {
   "cell_type": "code",
   "execution_count": 152,
   "metadata": {},
   "outputs": [
    {
     "ename": "IndentationError",
     "evalue": "unexpected indent (<ipython-input-152-f285a76b5c23>, line 7)",
     "output_type": "error",
     "traceback": [
      "\u001b[1;36m  File \u001b[1;32m\"<ipython-input-152-f285a76b5c23>\"\u001b[1;36m, line \u001b[1;32m7\u001b[0m\n\u001b[1;33m    def display(self):\u001b[0m\n\u001b[1;37m    ^\u001b[0m\n\u001b[1;31mIndentationError\u001b[0m\u001b[1;31m:\u001b[0m unexpected indent\n"
     ]
    }
   ],
   "source": [
    "# __slots__ : 객체별로 변수 추가 금지\n",
    "\n",
    "class Animal:\n",
    "    #name=\"동물\"\n",
    "    #age = 0\n",
    "   __slots__ = [\"name\",\"age\"]   \n",
    "    def display(self):\n",
    "        print(self.name,self.age)\n",
    "        \n",
    "###########################################\n",
    "\n",
    "dog = Animal()\n",
    "cat = Animal()\n",
    "\n",
    "dog.name = \"멍멍이\"\n",
    "dog.age = 10\n",
    "cat.name = '냐옹이'\n",
    "cat.age = 10\n",
    "dog.display()\n",
    "cat.display()\n",
    "\n",
    "dog.etc=\"예방접종을 받았음\"\n",
    "print(dog.etc)\n",
    "#print(cat.etc)"
   ]
  },
  {
   "cell_type": "code",
   "execution_count": null,
   "metadata": {},
   "outputs": [],
   "source": []
  },
  {
   "cell_type": "code",
   "execution_count": null,
   "metadata": {},
   "outputs": [],
   "source": []
  }
 ],
 "metadata": {
  "kernelspec": {
   "display_name": "Python 3",
   "language": "python",
   "name": "python3"
  },
  "language_info": {
   "codemirror_mode": {
    "name": "ipython",
    "version": 3
   },
   "file_extension": ".py",
   "mimetype": "text/x-python",
   "name": "python",
   "nbconvert_exporter": "python",
   "pygments_lexer": "ipython3",
   "version": "3.7.6"
  }
 },
 "nbformat": 4,
 "nbformat_minor": 4
}
