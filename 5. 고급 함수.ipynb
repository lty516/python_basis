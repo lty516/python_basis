{
 "cells": [
  {
   "cell_type": "markdown",
   "metadata": {},
   "source": [
    "## 변수의 생존 범위\n",
    "---\n",
    "   - global\n",
    "   - non local "
   ]
  },
  {
   "cell_type": "code",
   "execution_count": 38,
   "metadata": {},
   "outputs": [
    {
     "name": "stdout",
     "output_type": "stream",
     "text": [
      "100\n",
      "kbs2 함수내부: 1\n",
      "kbs1 함수내부: 2\n"
     ]
    }
   ],
   "source": [
    "# 참고:  3. 함수 - 변수의 유효(생존)범위  \n",
    "a = 100\n",
    "\n",
    "def kbs1():\n",
    "    a = 1 \n",
    "    \n",
    "    def kbs2():                        # 함수안에 함수를 중첩한다. class안에 class중첩도 가능\n",
    "       # a = 2                         # 만약 kbs2의 변수가 없다면 가장 가까운 kb1의 a라는 변수가 출력\n",
    "        nonlocal a                     \n",
    "        \n",
    "        print(\"kbs2 함수내부:\",a)      # nonlocal:kbs2에서 kbs1의 a값을 가져올 때\n",
    "        a = 2\n",
    "   \n",
    "    kbs2()     # kbs2 출력을 하기 위해서 kbs1안에서 실행\n",
    "    print(\"kbs1 함수내부:\",a)\n",
    "    \n",
    "#################################################\n",
    "\n",
    "print(a)     # 100\n",
    "kbs1()       # 1\n",
    "#kbs2() 호출불가\n",
    "#kbs1().kbs2() .은 객체에서만 사용가능\n",
    "\n",
    "#print(a)          # global을 쓰면 100을 가져다가 2로 변환"
   ]
  },
  {
   "cell_type": "markdown",
   "metadata": {},
   "source": [
    "### Closer\n",
    "\n",
    "    : 함수 밖에서 임의의 함수 안에 선언된 지역변수를 계속 참조할 수 있게 하는 방법\n",
    "        - 전역변수 주의 > 가급적이면 꼭필요한 경우가 아니면 쓰지않음  > 안전한 프로그래밍 :지역변수를 사용 \n",
    "        - 지역변수이기 때문에 값이 누적되지 않음 -> 전역변수를 가지고 문제해결but 위험 > closer 사용"
   ]
  },
  {
   "cell_type": "code",
   "execution_count": 49,
   "metadata": {},
   "outputs": [
    {
     "name": "stdout",
     "output_type": "stream",
     "text": [
      "1\n",
      "2\n",
      "3\n"
     ]
    }
   ],
   "source": [
    "count = 0      \n",
    "\n",
    "def out():\n",
    "    count = 0            #지역변수이기 때문에 값이 누적되지 않음 -># 전역변수를 가지고 문제해결but 위험 > closer 사용\n",
    "    \n",
    "    def inn():\n",
    "        #nonlocal count      # 값을 수정하려 하기 때문에 에러 > 그래서 nonlocal사용\n",
    "        global count\n",
    "        count += 1           \n",
    "        print(count)\n",
    "        \n",
    "    inn()\n",
    "\n",
    "################################################\n",
    "\n",
    "out()   # 1               \n",
    "out()   # 1\n",
    "out()   # 1\n"
   ]
  },
  {
   "cell_type": "code",
   "execution_count": 51,
   "metadata": {},
   "outputs": [
    {
     "name": "stdout",
     "output_type": "stream",
     "text": [
      "1\n",
      "2\n",
      "3\n",
      "1\n",
      "2\n",
      "3\n"
     ]
    }
   ],
   "source": [
    "\n",
    "def out():\n",
    "    count = 0          \n",
    "    \n",
    "    def inn():\n",
    "        nonlocal count     \n",
    "        \n",
    "        count += 1           \n",
    "        print(count)\n",
    "        \n",
    "    inn()\n",
    "    return inn # closer 기법 (out()을 호출했지만 실제로는 inn이라는 함수의 주소값을 불러옴)\n",
    "\n",
    "################################################\n",
    "\n",
    "a = out()      # closer 기법\n",
    "a()            # 같은 주소의 out을 호출\n",
    "a()\n",
    "\n",
    "b = out()\n",
    "b()\n",
    "b()"
   ]
  },
  {
   "cell_type": "code",
   "execution_count": 59,
   "metadata": {},
   "outputs": [
    {
     "name": "stdout",
     "output_type": "stream",
     "text": [
      "2500.0\n",
      "3600.0\n",
      "3600.0\n"
     ]
    }
   ],
   "source": [
    "# 세금계산서\n",
    "\n",
    "def outer(tax):\n",
    "    def inner(su,dan):#수량 단가\n",
    "        amount = su * dan * tax\n",
    "        return amount\n",
    "    \n",
    "    return inner\n",
    "\n",
    "#########################################\n",
    "\n",
    "tax_rate = outer(0.1)      \n",
    "\n",
    "mouse = tax_rate(5,5000) # inner를 호출하는 것(return 값이 inner의 주소)\n",
    "print(mouse)\n",
    "\n",
    "usb = tax_rate(3,12000)\n",
    "print(usb)\n",
    "\n",
    "tax_rate2 = outer(0.05)\n",
    "mouse = tax_rate2(5,5000)\n",
    "print(usb)"
   ]
  },
  {
   "cell_type": "markdown",
   "metadata": {},
   "source": [
    "###  람다함수 (lambda) : 익명, 무명함수\n",
    "\n",
    "    - 코드를 줄이기 위해서 사용\n",
    "    - 한줄 ,두줄 정도의 짧은 코드만 가능"
   ]
  },
  {
   "cell_type": "code",
   "execution_count": 67,
   "metadata": {},
   "outputs": [
    {
     "name": "stdout",
     "output_type": "stream",
     "text": [
      "30\n"
     ]
    }
   ],
   "source": [
    "def hap(x,y):\n",
    "    return x + y\n",
    "\n",
    "#################################\n",
    "\n",
    "result = hap(10,20)\n",
    "print(result)"
   ]
  },
  {
   "cell_type": "code",
   "execution_count": 70,
   "metadata": {},
   "outputs": [
    {
     "data": {
      "text/plain": [
       "30"
      ]
     },
     "execution_count": 70,
     "metadata": {},
     "output_type": "execute_result"
    }
   ],
   "source": [
    "(lambda x, y : x + y)(10,20)  # 한줄로 줄임"
   ]
  },
  {
   "cell_type": "code",
   "execution_count": 73,
   "metadata": {},
   "outputs": [
    {
     "name": "stdout",
     "output_type": "stream",
     "text": [
      "30\n"
     ]
    }
   ],
   "source": [
    "h1 = (lambda x,y : x+y)  # 일회용이지만 변수로 저장해서 사용할 수 있음\n",
    "print(h1(10,20))"
   ]
  },
  {
   "cell_type": "code",
   "execution_count": 75,
   "metadata": {},
   "outputs": [
    {
     "name": "stdout",
     "output_type": "stream",
     "text": [
      "70\n",
      "1030\n"
     ]
    }
   ],
   "source": [
    "h2 = (lambda x,y=1000 : x+y)  # default인수도 사용가능\n",
    "print(h2(30,40))\n",
    "print(h2(30))"
   ]
  },
  {
   "cell_type": "code",
   "execution_count": 88,
   "metadata": {},
   "outputs": [
    {
     "name": "stdout",
     "output_type": "stream",
     "text": [
      "1 (2, 3, 4, 5) {'m': 6, 'n': 7, 'o': 8}\n",
      "1 (2, 3, 4, 5) {'m': 6, 'n': 7, 'o': 8}\n"
     ]
    }
   ],
   "source": [
    "def lambda_test(a, *b, **c):\n",
    "    print(a,b,c)\n",
    "    \n",
    "lambda_test(1,2,3,4,5,m=6,n=7,o=8)\n",
    "\n",
    "\n",
    "#lambda =>\n",
    "(lambda a,*b,**c :print(a,b,c))(1,2,3,4,5,m=6,n=7,o=8)\n"
   ]
  },
  {
   "cell_type": "code",
   "execution_count": 103,
   "metadata": {},
   "outputs": [
    {
     "name": "stdout",
     "output_type": "stream",
     "text": [
      "1\n",
      "4\n",
      "3\n",
      "16\n",
      "5\n",
      "[1, 4, 3, 16, 5]\n",
      "[1, 4, 3, 16, 5]\n",
      "[1, 4, 3, 16, 5]\n",
      "[1, 4, 3, 16, 5]\n"
     ]
    }
   ],
   "source": [
    "data = [1,2,3,4,5]\n",
    "\n",
    "def lam_test(x):\n",
    "    if  x%2 == 0:\n",
    "        return x**2\n",
    "    else:\n",
    "        return x \n",
    "result =[]\n",
    "for i in data:\n",
    "    result.append(lam_test(i))\n",
    "    print(lam_test(i))\n",
    "    \n",
    "# map과 lambda를 이용해서 한줄로 줄여라 + listcompration 참 if 조건식. else 거짓\n",
    "\n",
    "print(list(map(lam_test,data)))\n",
    "print(list(map(lambda x :x**2 if x%2==0 else x,data)))\n",
    "\n",
    "\n",
    "\n",
    "\n",
    "\n",
    "\n",
    "print(list(map(lam_test,data)))\n",
    "print(list(map(lambda x:x**2 if x%2 ==0 else x,data)))"
   ]
  },
  {
   "cell_type": "markdown",
   "metadata": {},
   "source": [
    "### 함수 장식자(Decorator)\n",
    "\n",
    "   - 일종의 함수 감싸기(wrapping)을 해주는 디자인 패턴 \n",
    "   - 메타 프로그래밍 기법\n",
    "   - @classmethod, @staticmethod, @abstractmethod ......\n"
   ]
  },
  {
   "cell_type": "code",
   "execution_count": 139,
   "metadata": {},
   "outputs": [],
   "source": [
    "def make2(fn):\n",
    "    return lambda :\"안녕\"+fn()           # 함수의주소를 리턴\n",
    "def make1(fn):\n",
    "    return lambda :\"반가워~~\"+fn()\n",
    "def hello():\n",
    "    return \"홍길동\""
   ]
  },
  {
   "cell_type": "code",
   "execution_count": 140,
   "metadata": {},
   "outputs": [
    {
     "name": "stdout",
     "output_type": "stream",
     "text": [
      "안녕반가워~~홍길동\n",
      "안녕반가워~~홍길동\n"
     ]
    }
   ],
   "source": [
    "hello()        #hello < 함수의 주소값 , 함수의 이름은 함수의 주소값을 나타내는 변수 \n",
    "make1(hello)\n",
    "(make2(make1(hello)))()      # ()() : 이렇게도 출력가능\n",
    "#############################\n",
    "h1= make1(hello)\n",
    "h2 = make2(h1)\n",
    "print(h2())\n",
    "hi = make2(make1(hello))\n",
    "print(hi())"
   ]
  },
  {
   "cell_type": "code",
   "execution_count": 143,
   "metadata": {},
   "outputs": [
    {
     "name": "stdout",
     "output_type": "stream",
     "text": [
      "안녕반가워~~임꺽정\n"
     ]
    }
   ],
   "source": [
    "#데코레이트 방법 @@ \n",
    "@make2\n",
    "@make1\n",
    "def hello2():\n",
    "    return \"임꺽정\"\n",
    "\n",
    "###########################\n",
    "\n",
    "print(hello2())\n"
   ]
  },
  {
   "cell_type": "code",
   "execution_count": 160,
   "metadata": {},
   "outputs": [],
   "source": [
    "def outer(fn):\n",
    "    def inner(n1,n2):\n",
    "        print(\"결과는 {}입니다\".format(fn(n1,n2)))\n",
    "    return inner\n",
    "\n",
    "def func(n1,n2):\n",
    "    return n1 + n2"
   ]
  },
  {
   "cell_type": "code",
   "execution_count": 161,
   "metadata": {},
   "outputs": [
    {
     "name": "stdout",
     "output_type": "stream",
     "text": [
      "결과는 13입니다\n"
     ]
    }
   ],
   "source": [
    "result = outer(func)\n",
    "result(10,3)\n"
   ]
  },
  {
   "cell_type": "code",
   "execution_count": 162,
   "metadata": {},
   "outputs": [
    {
     "name": "stdout",
     "output_type": "stream",
     "text": [
      "결과는 13입니다\n"
     ]
    }
   ],
   "source": [
    "def outer(fn):\n",
    "    def inner(n1,n2):\n",
    "        print(\"결과는 {}입니다\".format(fn(n1,n2)))\n",
    "    return inner\n",
    "\n",
    "@outer\n",
    "def func(n1,n2):\n",
    "    return n1 + n2\n",
    "\n",
    "func(10,3)"
   ]
  },
  {
   "cell_type": "code",
   "execution_count": null,
   "metadata": {},
   "outputs": [],
   "source": []
  },
  {
   "cell_type": "code",
   "execution_count": null,
   "metadata": {},
   "outputs": [],
   "source": []
  },
  {
   "cell_type": "code",
   "execution_count": null,
   "metadata": {},
   "outputs": [],
   "source": []
  }
 ],
 "metadata": {
  "kernelspec": {
   "display_name": "Python 3",
   "language": "python",
   "name": "python3"
  },
  "language_info": {
   "codemirror_mode": {
    "name": "ipython",
    "version": 3
   },
   "file_extension": ".py",
   "mimetype": "text/x-python",
   "name": "python",
   "nbconvert_exporter": "python",
   "pygments_lexer": "ipython3",
   "version": "3.7.6"
  }
 },
 "nbformat": 4,
 "nbformat_minor": 4
}
