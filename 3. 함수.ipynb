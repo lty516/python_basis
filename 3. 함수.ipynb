{
 "cells": [
  {
   "cell_type": "markdown",
   "metadata": {},
   "source": [
    "# 함수 (function)\n",
    "----            \n",
    "   \n",
    "   ## 1. 함수의 정의  :  일정한 작업을 수행하는 코드 블럭\n",
    "   \n",
    "   ## 2. 함수의 장점  :  \n",
    "    \n",
    "   + 반복적인 코드를 없애 주어 코드의 길이를 짧게 만들어준다.\n",
    "   + 프로그램의 유지보수를 쉽게 해준다.\n",
    "   \n",
    "   파이썬 = 함수의 언어 : \n",
    "   함수 : 전통적인 함수 + 객체지향적인 함수 \n",
    "   \n",
    "   \n",
    "   ## 3. 함수 만들기 :\n",
    "   \n",
    "           def 함수이름(...) :                                 (: > 코드블럭의 의미)\n",
    "               코드 정의 \n",
    "               ...\n",
    "               [return ...]\n",
    "               \n",
    "   ## 4. 함수 호출 유형(방식)\n",
    "   \n",
    "   + 인자(인수)가 없는 방식  (JUMP)\n",
    "   + 인자가 있는 방식        (JUMP)\n",
    "   + 반환값(return)이 있는 방식 (복귀)\n",
    "        - return \n",
    "            * 값을 변환(1개만 반환)\n",
    "            * 함수를 강제 종료\n",
    "   \n",
    "   \n",
    "   ## 5. 함수의 설계\n",
    "   \n",
    "   + 재사용성 \n",
    "   + 단일 기능(한가지기능만)\n",
    "   \n",
    "   \n",
    "   ## 6. 함수의 종류\n",
    "   \n",
    "   + 내장 함수(Built-in,API)    / python liabraty reference\n",
    "   + 외장 함수  (pip로 설치/import )\n",
    "   + 사용자 저의 함수\n",
    "   \n",
    "   모듈화의 최소 단위 = 함수\n",
    "   모든코드를 함수화시키는 연습 (제어문 연습문제)"
   ]
  },
  {
   "cell_type": "code",
   "execution_count": 1,
   "metadata": {},
   "outputs": [],
   "source": [
    "def line(cnt,type) :    # 매개변수 (인자가 있는 방식) : \n",
    "    #print(\"*\"* 48)   python 전용 문법\n",
    "    for v in range(cnt) :\n",
    "        print(type,end='')\n",
    "    print()\n",
    "    \n",
    "    \n",
    "    # 인터럽트 : 현재하던 작업을 방해 받는 행위 (우선 순위의 일을 먼저 해결 후 작업으로 돌아옴)=하던일을 멈추고 다른일을 도와주고 다시 돌아온다\n",
    "    # 함수가 호출되면 자신의 주소를 먼저 stack(임시기억공간)에 현재주소를 저장 후 인터럽트 "
   ]
  },
  {
   "cell_type": "code",
   "execution_count": 6,
   "metadata": {},
   "outputs": [
    {
     "name": "stdout",
     "output_type": "stream",
     "text": [
      "********************\n",
      "          친구 관리 프로그램         \n",
      "----------------------------------------\n",
      "1. 친구 목록 출력\n",
      "2. 친구 추가\n",
      "3. 친구 삭제\n",
      "4. 종료\n",
      "================================================================================\n"
     ]
    }
   ],
   "source": [
    "# 함수를 왜 쓰느가/ 함수가 무엇인가\n",
    "\n",
    "line(20,\"*\") # 호출한다                                     # 실인자(실인수) : 함수를 호출할 때 넘겨지는 값 (변수, 값)\n",
    "print(\"          친구 관리 프로그램         \")\n",
    "line(40,'-') \n",
    "print(\"1. 친구 목록 출력\")\n",
    "print(\"2. 친구 추가\")\n",
    "print(\"3. 친구 삭제\")\n",
    "print(\"4. 종료\")\n",
    "line(80,'=') \n",
    "\n",
    "#print(\"*************************************\") 지속적인 수정요청이나 반복적"
   ]
  },
  {
   "cell_type": "code",
   "execution_count": 70,
   "metadata": {},
   "outputs": [],
   "source": [
    "def swap(num1,num2) :\n",
    "    temp = num1\n",
    "    \n",
    "    if num1 == 0 :\n",
    "        return\n",
    "    \n",
    "    num1 = num2 \n",
    "    num2 = temp\n",
    "    \n",
    "    return num1,num2"
   ]
  },
  {
   "cell_type": "code",
   "execution_count": 71,
   "metadata": {},
   "outputs": [
    {
     "name": "stdout",
     "output_type": "stream",
     "text": [
      "두 수의 교환\n",
      "결과:  (5, 10)\n"
     ]
    }
   ],
   "source": [
    "# return 예시\n",
    "num1 = 10\n",
    "num2 = 5\n",
    "\n",
    "print(\"두 수의 교환\")           # 두 수를 교환 할 때 메모리가 하나더 필요함 > 정렬의 기본 알고리즘\n",
    "#n1,n2 = swap(num1,num2)        # 함수로 인터럽트\n",
    "#print(\"결과: \",n1,n2)          #메인으로 돌아와서 종료\n",
    "\n",
    "print(\"결과: \", swap(num1,num2))"
   ]
  },
  {
   "cell_type": "markdown",
   "metadata": {},
   "source": [
    "---"
   ]
  },
  {
   "cell_type": "markdown",
   "metadata": {},
   "source": [
    "# 파이썬에서 함수를 지원하기 위한 문법 "
   ]
  },
  {
   "cell_type": "code",
   "execution_count": 103,
   "metadata": {},
   "outputs": [
    {
     "name": "stdout",
     "output_type": "stream",
     "text": [
      "전국 대표\n",
      "지역 대표 홍길동\n",
      "지역 대표\n"
     ]
    }
   ],
   "source": [
    "# 변수의 유효(생존)범위  : 지역 변수, 전역 변수\n",
    "\n",
    "player = \"전국 대표\"  # 전역 변수    변수앞에 g_ (구분)\n",
    "\n",
    "def funcSoccer() :\n",
    "    global player        # global 변수 : 바깥에있는 변수를 수정하여 사용\n",
    "    \n",
    "    name = \"홍길동\"\n",
    "    player = \"지역 대표\" # << 지역변수    #절대 지역변수와 전역변수의 이름을 같이하면 안된다.\n",
    "                         # 이러면 안돼 어쩔수 없는 경우(원래는 변수명을 달리해야함) # 바깥의 변수를 수정한 것이 아닌 새로운 변수 창출\n",
    "    print(player,name)   # 더 가까운 변수를 사용  # 이름은 같지만 다른변수\n",
    "\n",
    "###########################################################################\n",
    "\n",
    "print(player)\n",
    "funcSoccer()\n",
    "# print(name)   사용불가능 지역 변수이기때문에 위의 메모리에서만 사용가능\n",
    "print(player)"
   ]
  },
  {
   "cell_type": "code",
   "execution_count": 28,
   "metadata": {},
   "outputs": [
    {
     "name": "stdout",
     "output_type": "stream",
     "text": [
      "******************************\n",
      "안녕하세요!서울에 사는 홍길동님... 당신의 나이는 30입니다.\n",
      "안녕하세요!인천에 사는 임꺽정님... 당신의 나이는 20입니다.\n"
     ]
    }
   ],
   "source": [
    "# default 인수\n",
    "\n",
    "def line(type,cnt=30) :                  # default 인수는 항상 맨 끝에      \n",
    "    for v in range(cnt) :\n",
    "        print(type,end='')\n",
    "    \n",
    "    print()\n",
    "    \n",
    "def hello(addr, age, name = None):\n",
    "    if name == None :\n",
    "        print(\"이름을 반드시 입력해주세요.\")\n",
    "        return\n",
    "\n",
    "\n",
    "    print(\"안녕하세요!{}에 사는 {}님... 당신의 나이는 {}입니다.\".format(addr,name,age))\n",
    "    \n",
    "####################################################\n",
    "\n",
    "# line(30)\n",
    "# line()\n",
    "line(\"*\",30)\n",
    "\n",
    "\n",
    "hello(name=\"홍길동\", addr=\"서울\", age = 30)  # 변수값을 입력하면 위치에 상관없이 입력가능\n",
    "hello('인천',name=\"임꺽정\",age = 20)         # 다른 위치의 변수만 지정하면 가능 # 인자값 넘길 때 변수명 입력 가능.\n"
   ]
  },
  {
   "cell_type": "code",
   "execution_count": 62,
   "metadata": {},
   "outputs": [
    {
     "name": "stdout",
     "output_type": "stream",
     "text": [
      "('홍길동',)\n",
      "<class 'tuple'>\n",
      "홍길동\n",
      "홍\n",
      "------------------------------------------\n",
      "('홍길동', '임꺽정')\n",
      "<class 'tuple'>\n",
      "홍길동\n",
      "홍\n",
      "------------------------------------------\n",
      "('홍길동', '임꺽정', '유비')\n",
      "<class 'tuple'>\n",
      "홍길동\n",
      "홍\n",
      "------------------------------------------\n",
      "(['홍길동', '임꺽정', '유비', '관우'],)\n",
      "<class 'tuple'>\n",
      "['홍길동', '임꺽정', '유비', '관우']\n",
      "홍길동\n",
      "------------------------------------------\n",
      "(('홍길동', '임꺽정', '유비', '관우'),)\n",
      "<class 'tuple'>\n",
      "('홍길동', '임꺽정', '유비', '관우')\n",
      "홍길동\n",
      "------------------------------------------\n",
      "============================================================\n",
      "홍길동 님 환영합니다. 170 60\n",
      "임꺽정 님 환영합니다. 170 80\n",
      "유비 님 환영합니다. 170 80\n",
      "관우 님 환영합니다. 170 80\n",
      "장비 님 환영합니다. 170 80\n",
      "============================================================\n",
      "1 2 3 4 5\n"
     ]
    }
   ],
   "source": [
    "# 가변 인수 : 넘겨주는 인수의 개수에 따라 매개변수가 변함 / 인자값의 변수가 변함\n",
    "# -----------------------------\n",
    "# * : packing , unpacking\n",
    "# ** : dict \n",
    "\n",
    "\n",
    "\n",
    "\n",
    "\n",
    "def greeting(*name) :            \n",
    "    print(name)\n",
    "    print(type(name))\n",
    "    print(name[0])\n",
    "    print(name[0][0])\n",
    "    print(\"------------------------------------------\")\n",
    "    \n",
    "def greeting2(height, weight, *name) :                # 가변인수 또한 끝에서 부터 채워야함\n",
    "    for n in name :                                   # 가변인수를 사용시 default 함수는 사용을 자재 (완전 복잡)\n",
    "        print(n,\"님 환영합니다.\",height,weight)\n",
    "        \n",
    "        \n",
    "def asterist_test(a,b):\n",
    "    print(a,*b)                                       # 코드 안에서 가변인수 * 을 사용시 unpacking \n",
    "    \n",
    "########################################################################\n",
    "\n",
    "greeting(\"홍길동\")\n",
    "greeting('홍길동','임꺽정')\n",
    "greeting('홍길동','임꺽정','유비')\n",
    "greeting(['홍길동','임꺽정','유비','관우'])\n",
    "greeting(('홍길동','임꺽정','유비','관우'))\n",
    "\n",
    "\n",
    "print(\"============================================================\")\n",
    "\n",
    "greeting2(170,60,\"홍길동\")\n",
    "greeting2(170, 80, \"임꺽정\",\"유비\", \"관우\", \"장비\")\n",
    "\n",
    "print(\"============================================================\")\n",
    "\n",
    "asterist_test(1,(2,3,4,5))"
   ]
  },
  {
   "cell_type": "code",
   "execution_count": 66,
   "metadata": {},
   "outputs": [
    {
     "name": "stdout",
     "output_type": "stream",
     "text": [
      "80 170\n",
      "{'name': '홍길동', 'age': 20, 'addr': '서울'}\n",
      "10 2 3 4\n"
     ]
    }
   ],
   "source": [
    "def asterisk_test2(weight, height, **other):\n",
    "    print(weight,height)\n",
    "    print(other)\n",
    "    \n",
    "def asterisk_test3(a, b, c, d):\n",
    "    print(a, b, c, d)\n",
    "    \n",
    "##################################################################\n",
    "\n",
    "asterisk_test2(80,170,name=\"홍길동\",age=20,addr=\"서울\")\n",
    "\n",
    "\n",
    "date={\"c\":3,\"b\":2,\"d\":4}\n",
    "asterisk_test3(10,**date)                     # 인자값에도 ** 사용"
   ]
  },
  {
   "cell_type": "markdown",
   "metadata": {},
   "source": [
    "-----"
   ]
  },
  {
   "cell_type": "markdown",
   "metadata": {},
   "source": [
    "#  내장 함수"
   ]
  },
  {
   "cell_type": "code",
   "execution_count": 72,
   "metadata": {},
   "outputs": [
    {
     "name": "stdout",
     "output_type": "stream",
     "text": [
      "True\n",
      "False\n",
      "True\n"
     ]
    }
   ],
   "source": [
    "# all() - and , any() - or  : and or 연산자를 함수로 구현\n",
    "\n",
    "\n",
    "print(all([1, 2, 3, -1, -2])) \n",
    "print(all([1, 2, 0, -1, -2])) # bool함수 :True(값이 있는경우),False(값이 없는경우)\n",
    "print(any([0, 2, None, \"\", -2]))"
   ]
  },
  {
   "cell_type": "code",
   "execution_count": 80,
   "metadata": {},
   "outputs": [
    {
     "name": "stdout",
     "output_type": "stream",
     "text": [
      "0 : 홍길동\n",
      "1 : 임꺽정\n",
      "2 : 3.14\n",
      "3 : 1000\n",
      "4 : True\n"
     ]
    }
   ],
   "source": [
    "# enumerate(iterator)   : iterator= 열거형 데이터(집합자료형)를 받는다 \n",
    "#                       : 순서있는 자료형을 입력받아 인덱스 값을 포함해서 리턴 (list tuple str ...)\n",
    "\n",
    "enum1 = enumerate([\"홍길동\", \"임꺽정\", 3.14, 1000, True]) #인덱스랑 묶어서 tuple로 return해주는 함수\n",
    "\n",
    "for a,b in enum1:          #인데스만 따로 뽑아서 쓸수있다.\n",
    "    print(a,\":\",b)"
   ]
  },
  {
   "cell_type": "code",
   "execution_count": 86,
   "metadata": {},
   "outputs": [
    {
     "name": "stdout",
     "output_type": "stream",
     "text": [
      "3+4\n",
      "7\n",
      "all([1, 2, 3, -1, -2])\n",
      "True\n"
     ]
    }
   ],
   "source": [
    "# eval(expression) : 표현식을 파이썬에서 실행 가능하게 만들어주는 역할 \n",
    "\n",
    "print(\"3+4\")\n",
    "print(eval(\"3+4\"))     # 문자열이지만 파이썬에서 연산이 실행\n",
    "\n",
    "print(\"all([1, 2, 3, -1, -2])\")\n",
    "print(eval(\"all([1, 2, 3, -1, -2])\")) # 외부에서 수식을 가져왔을때 유용 "
   ]
  },
  {
   "cell_type": "code",
   "execution_count": 108,
   "metadata": {},
   "outputs": [
    {
     "name": "stdout",
     "output_type": "stream",
     "text": [
      "12\n",
      "[12, 22, 32, 42, 52]\n",
      "===========================================\n",
      "[12, 22, 32, 42, 52]\n",
      "===========================================\n",
      "[12, 22, 32, 42, 52]\n"
     ]
    }
   ],
   "source": [
    "# map(function,iterate) :집합의 각 요소가 함수에 의해 수행된 결과를 묶어서 리턴\n",
    "\n",
    "\n",
    "def calc(x):\n",
    "    return x + 2\n",
    "######################\n",
    "\n",
    "a = calc(10)\n",
    "print(a)\n",
    "\n",
    "data = [10, 20, 30, 40, 50]\n",
    "result = []\n",
    "\n",
    "for v in data:\n",
    "    a = calc(v)\n",
    "    result.append(a)\n",
    "    \n",
    "print(result)\n",
    "\n",
    "print(\"===========================================\")\n",
    "                                                \n",
    "print(list(map(calc,data)))                     # 함수(): 지금바로 호출   함수 : 나중에 호출  >> 콜백함수\n",
    "\n",
    "print(\"===========================================\")\n",
    "\n",
    "# lambda : 익명함수 >> 일회용      (재사용한다면 def로 생성)\n",
    "\n",
    "result2 = list(map(lambda x:x+2,data))\n",
    "print(result2)"
   ]
  },
  {
   "cell_type": "code",
   "execution_count": 1,
   "metadata": {},
   "outputs": [
    {
     "name": "stdout",
     "output_type": "stream",
     "text": [
      "[('a1', 'b1'), ('a2', 'b2'), ('a3', 'b3')]\n",
      "[('a1', 'b1', 'c1'), ('a2', 'b2', 'c2'), ('a3', 'b3', 'c3')]\n",
      "0 a1 b1 c1\n",
      "1 a2 b2 c2\n",
      "2 a3 b3 c3\n"
     ]
    }
   ],
   "source": [
    "# zip(iterable) : 동일한 갯수로 이루어진 자료형을 묶어주는 역할 \n",
    "\n",
    "a = ['a1', 'a2', 'a3']\n",
    "b = ['b1', 'b2', 'b3']\n",
    "c = ['c1', 'c2', 'c3','c4']\n",
    "\n",
    "\n",
    "print(list(zip(a,b)))\n",
    "print(list(zip(a,b,c)))\n",
    "\n",
    "for num, (a,b,c) in enumerate(zip(a,b,c,)):               # 여러개의 데이터를 하나의 데이터로 \n",
    "    print(num,a,b,c)"
   ]
  },
  {
   "cell_type": "raw",
   "metadata": {},
   "source": [
    " enumerate(iterator)  map(function,iterate)  "
   ]
  },
  {
   "cell_type": "markdown",
   "metadata": {},
   "source": [
    "---"
   ]
  },
  {
   "cell_type": "markdown",
   "metadata": {},
   "source": [
    "#  외장 함수\n",
    "\n",
    "   + pip, conda     설치\n",
    "   + import     가져오기"
   ]
  },
  {
   "cell_type": "code",
   "execution_count": 7,
   "metadata": {},
   "outputs": [
    {
     "data": {
      "text/plain": [
       "2.0"
      ]
     },
     "execution_count": 7,
     "metadata": {},
     "output_type": "execute_result"
    }
   ],
   "source": [
    "# pip list: 패키지 불러오기(DOS)\n",
    "# !pip list : jupyter notebook에서 실행\n",
    "\n",
    "import math #복잡한 수학계산이나 과학계산을 도와주는 패키지\n",
    "dir(math)   # 함수 목록 \n",
    "math.sqrt(4) # 루트"
   ]
  },
  {
   "cell_type": "code",
   "execution_count": 5,
   "metadata": {},
   "outputs": [
    {
     "name": "stdout",
     "output_type": "stream",
     "text": [
      "2020-05-13\n",
      "2020 5 13\n",
      "===============================================\n",
      "2020-05-13 10:42:51.444156\n",
      "===============================================\n",
      "85 days, 0:00:00\n",
      "2020-08-06\n",
      "2020-05-13 02:42:51.444156\n",
      "===============================================\n",
      "<class 'datetime.date'>\n",
      "05/13/2020\n",
      "2020-05-13 10:42:51\n",
      "<class 'str'>\n",
      "<class 'datetime.datetime'>\n",
      "2020-05-13 10:35:20\n"
     ]
    }
   ],
   "source": [
    "# 날짜형 함수 \n",
    "# -------------------------------\n",
    "import datetime \n",
    "#dir(datetime)\n",
    "\n",
    "# 오늘 날짜\n",
    "today = datetime.date.today()\n",
    "print(today)\n",
    "print(today.year,today.month,today.day) # 원하는 값만 추출\n",
    "\n",
    "print(\"===============================================\")\n",
    "\n",
    "# 현재 시간 \n",
    "ctime = datetime.datetime.today() # datetime안에 today \n",
    "print(ctime)\n",
    "\n",
    "print(\"===============================================\")\n",
    "\n",
    "# 날짜와 시간의 연산\n",
    "var1 = datetime.timedelta(days= 85)  \n",
    "print(var1)\n",
    "print(today + var1)\n",
    "\n",
    "var2 = datetime.timedelta(hours= -8)\n",
    "print(ctime + var2)\n",
    "\n",
    "print(\"===============================================\")\n",
    "\n",
    "# 날짜형식\n",
    "print(type(today))\n",
    "print(today.strftime(\"%m/%d/%Y\"))\n",
    "\n",
    "strd=ctime.strftime(\"%Y-%m-%d %H:%M:%S\")\n",
    "print(strd)                               # 날짜 형식의 변환 : srtftime() : 날짜를 문자형 형식으로 바꿔준다\n",
    "\n",
    "strdate = \"2020-5-13 10:35:20\"\n",
    "print(type(strdate)) \n",
    "\n",
    "dstr = datetime.datetime.strptime(strdate,\"%Y-%m-%d %H:%M:%S\")\n",
    "print(type(dstr))\n",
    "print(dstr)\n"
   ]
  },
  {
   "cell_type": "markdown",
   "metadata": {},
   "source": [
    "### 명령행 인자(Command Line Argument)     -교재 p. 177\n",
    "\n",
    "           "
   ]
  },
  {
   "cell_type": "code",
   "execution_count": 16,
   "metadata": {},
   "outputs": [
    {
     "name": "stdout",
     "output_type": "stream",
     "text": [
      "['C:\\\\Users\\\\acorn\\\\sh\\\\basic', 'C:\\\\Users\\\\acorn\\\\Anaconda3\\\\python37.zip', 'C:\\\\Users\\\\acorn\\\\Anaconda3\\\\DLLs', 'C:\\\\Users\\\\acorn\\\\Anaconda3\\\\lib', 'C:\\\\Users\\\\acorn\\\\Anaconda3', '', 'C:\\\\Users\\\\acorn\\\\Anaconda3\\\\lib\\\\site-packages', 'C:\\\\Users\\\\acorn\\\\Anaconda3\\\\lib\\\\site-packages\\\\win32', 'C:\\\\Users\\\\acorn\\\\Anaconda3\\\\lib\\\\site-packages\\\\win32\\\\lib', 'C:\\\\Users\\\\acorn\\\\Anaconda3\\\\lib\\\\site-packages\\\\Pythonwin', 'C:\\\\Users\\\\acorn\\\\Anaconda3\\\\lib\\\\site-packages\\\\IPython\\\\extensions', 'C:\\\\Users\\\\acorn\\\\.ipython']\n",
      "win32\n",
      "3.7.6 (default, Jan  8 2020, 20:23:39) [MSC v.1916 64 bit (AMD64)]\n",
      "C:\\Users\\acorn\\sh\\basic\n",
      "0\n"
     ]
    }
   ],
   "source": [
    "import sys \n",
    "\n",
    "print(sys.path) #: 현재 걸려있는 path 정보\n",
    "print(sys.platform) # OS 정보\n",
    "print(sys.version)  # python version 정보\n",
    "# sys.ext()       프로그램 완전 종료 함수\n",
    "\n",
    "import os    #:현재 os의 모듈을 사용할수있게해줌\n",
    "print(os.getcwd())    # 현재의 작업위치를 알려주는 함수\n",
    "print(os.system('dir'))\n",
    "\n",
    "\n",
    "#cls  DOS창을 지워주는 명령어"
   ]
  },
  {
   "cell_type": "raw",
   "metadata": {},
   "source": [
    "\"\"\"\n",
    "PhoneBook.py \n",
    "---------------\n",
    "데이터는 임의로 준비\n",
    "    홍길동, 010-111-1111, 서울시 강남구\n",
    "    임꺽정, 010-222-2222, 서울시 강북구\n",
    "    신돌석, 010-333-3333, 서울시 강동구\n",
    "    홍경래, 010-444-4444, 서울시 강서구\n",
    "\n",
    "프로그램 실행 결과 \n",
    "------------------\n",
    "python PhoneBook.py 신돌석\n",
    "\n",
    "이름 : 신돌석\n",
    "전화 : 010-333-3333\n",
    "주소 : 서울시 강동구\n",
    "\"\"\""
   ]
  },
  {
   "cell_type": "markdown",
   "metadata": {},
   "source": [
    "-------------"
   ]
  },
  {
   "cell_type": "markdown",
   "metadata": {},
   "source": [
    "###  파일 처리 함수  \n",
    "                \n",
    "          data persistence :데이터를 지속적으로 기억할수있것\n",
    "          File : 데이터를 영구히 저장 할수있음             \n",
    "          \n",
    "   + open(파일명(경로 포함),모드) : 파일을 로드(load) 보조기억장치->주기억장치로 이동 = load\n",
    "       - 모드 : r(read:수정x),w(write:쓰기),a(append:추가),rb,wb,ab >2진수로 변환\n",
    "       \n",
    "   + close(): 파일을 언로드(unload) > 메모리에서 제거\n",
    "   \n",
    "   \n",
    "   + 읽어올 때 : readline()    = 한 줄씩 읽어오기\n",
    "                 readlines()   = 한번에 읽어오기 (listf로 묶어서 저장)\n",
    "                 read()        = 한번에 읽어오기 (하나의 문자열로 저장)\n",
    "   \n",
    "   + 저장할 때 : write() \n",
    "   \n",
    "----\n",
    "\n",
    "\n",
    "       1) 순차 처리 방식(원칙적)\n",
    "       2) 임의로 접근할 수 있는 함수 제공 : seek(), tell()"
   ]
  },
  {
   "cell_type": "code",
   "execution_count": 54,
   "metadata": {},
   "outputs": [
    {
     "name": "stdout",
     "output_type": "stream",
     "text": [
      "<_io.TextIOWrapper name='..\\\\pythonwork\\\\filetest.txt' mode='r' encoding='cp949'>\n",
      "abcdefg\n",
      "\n",
      "hijklmn\n",
      "\n",
      "opqrst\n",
      "\n",
      "가나다라\n",
      "\n",
      "마바사아\n",
      "\n",
      "자차카타\n"
     ]
    }
   ],
   "source": [
    "#f = open(\"C:\\\\Users\\\\acorn\\\\sh\\\\pythonwork\\\\filetest.txt\",\"r\")\n",
    "f = open(\"..\\\\pythonwork\\\\filetest.txt\",\"r\")\n",
    "print(f)\n",
    "\n",
    "print(f.readline())\n",
    "print(f.readline())\n",
    "print(f.readline())\n",
    "print(f.readline())\n",
    "print(f.readline())\n",
    "print(f.readline())\n",
    "\n",
    "f.close()"
   ]
  },
  {
   "cell_type": "code",
   "execution_count": 64,
   "metadata": {},
   "outputs": [
    {
     "name": "stdout",
     "output_type": "stream",
     "text": [
      "abcdefg\n",
      "hijklmn\n",
      "opqrst\n",
      "가나다라\n",
      "마바사아\n",
      "자차카타<class 'str'>\n"
     ]
    }
   ],
   "source": [
    "f = open(\"..\\\\pythonwork\\\\filetest.txt\",\"r\")\n",
    "\n",
    "while 1:\n",
    "    line = f.readline()                # 순서가 중요 읽고 스탑\n",
    "    \n",
    "    if not line:                      #읽을줄이 없을 경우 False : 스탑\n",
    "    # if line ==\"\":    \n",
    "        break                         #if line == False:  >> 무한반복이된다.\n",
    "                       \n",
    "    print(line,end='')\n",
    "    \n",
    "f.close()\n",
    "print(type(line))"
   ]
  },
  {
   "cell_type": "code",
   "execution_count": 78,
   "metadata": {
    "scrolled": false
   },
   "outputs": [
    {
     "name": "stdout",
     "output_type": "stream",
     "text": [
      "abcdefg\n",
      "\n",
      "hijklmn\n",
      "\n",
      "opqrst\n",
      "\n",
      "가나다라\n",
      "\n",
      "마바사아\n",
      "\n",
      "자차카타\n",
      "['abcdefg\\n', 'hijklmn\\n', 'opqrst\\n', '가나다라\\n', '마바사아\\n', '자차카타']\n",
      "<class 'list'>\n"
     ]
    }
   ],
   "source": [
    "#readlines() 원하는 문자열을 가져올 수 있음\n",
    "f = open(\"..\\\\pythonwork\\\\filetest.txt\",\"r\")\n",
    "lines = f.readlines()\n",
    "\n",
    "for v in lines:\n",
    "    print(v)\n",
    "\n",
    "f.close()\n",
    "print(lines)\n",
    "print(type(lines))"
   ]
  },
  {
   "cell_type": "code",
   "execution_count": 162,
   "metadata": {
    "scrolled": false
   },
   "outputs": [
    {
     "ename": "UnsupportedOperation",
     "evalue": "not readable",
     "output_type": "error",
     "traceback": [
      "\u001b[1;31m---------------------------------------------------------------------------\u001b[0m",
      "\u001b[1;31mUnsupportedOperation\u001b[0m                      Traceback (most recent call last)",
      "\u001b[1;32m<ipython-input-162-8079c5f70b62>\u001b[0m in \u001b[0;36m<module>\u001b[1;34m\u001b[0m\n\u001b[0;32m      3\u001b[0m \u001b[0mf\u001b[0m \u001b[1;33m=\u001b[0m \u001b[0mopen\u001b[0m\u001b[1;33m(\u001b[0m\u001b[1;34m\".\\\\data\\\\filetest1.txt\"\u001b[0m\u001b[1;33m,\u001b[0m\u001b[1;34m\"w\"\u001b[0m\u001b[1;33m)\u001b[0m\u001b[1;33m\u001b[0m\u001b[1;33m\u001b[0m\u001b[0m\n\u001b[0;32m      4\u001b[0m \u001b[1;33m\u001b[0m\u001b[0m\n\u001b[1;32m----> 5\u001b[1;33m \u001b[0mdata\u001b[0m \u001b[1;33m=\u001b[0m \u001b[0mf\u001b[0m\u001b[1;33m.\u001b[0m\u001b[0mread\u001b[0m\u001b[1;33m(\u001b[0m\u001b[1;33m)\u001b[0m\u001b[1;33m\u001b[0m\u001b[1;33m\u001b[0m\u001b[0m\n\u001b[0m\u001b[0;32m      6\u001b[0m \u001b[0mprint\u001b[0m\u001b[1;33m(\u001b[0m\u001b[0mdata\u001b[0m\u001b[1;33m)\u001b[0m\u001b[1;33m\u001b[0m\u001b[1;33m\u001b[0m\u001b[0m\n\u001b[0;32m      7\u001b[0m \u001b[0mprint\u001b[0m\u001b[1;33m(\u001b[0m\u001b[0mtype\u001b[0m\u001b[1;33m(\u001b[0m\u001b[0mdata\u001b[0m\u001b[1;33m)\u001b[0m\u001b[1;33m)\u001b[0m\u001b[1;33m\u001b[0m\u001b[1;33m\u001b[0m\u001b[0m\n",
      "\u001b[1;31mUnsupportedOperation\u001b[0m: not readable"
     ]
    }
   ],
   "source": [
    "#read   원하는 행을 가져올수없음         #split() 로 원하는 문자열을 쪼개어 가져올수있음\n",
    "\n",
    "f = open(\".\\\\data\\\\filetest1.txt\",\"w\")\n",
    "\n",
    "data = f.read()\n",
    "print(data)\n",
    "print(type(data))\n",
    "\n",
    "print(\"=====================\")\n",
    "      \n",
    "sdata = data.split(\"\\n\")\n",
    "\n",
    "print(sdata[0])\n",
    "print(sdata[1])\n",
    "\n",
    "f.close()         \n",
    "\n",
    "print(\"=====================\")\n",
    "\n",
    "count = 0\n",
    "for line in sdata:\n",
    "    print(count,\":\",line)\n",
    "    count += 1\n",
    "    \n",
    "print(\"=====================\")\n",
    "\n",
    "#enumerate()\n",
    "for count,line in enumerate(sdata):\n",
    "    print(count,\":\",line)"
   ]
  },
  {
   "cell_type": "code",
   "execution_count": 161,
   "metadata": {},
   "outputs": [
    {
     "name": "stdout",
     "output_type": "stream",
     "text": [
      "<_io.TextIOWrapper name='.\\\\data\\\\filetest1.txt' mode='w' encoding='cp949'>\n"
     ]
    }
   ],
   "source": [
    "f = open(\".\\\\data\\\\filetest1.txt\",\"w\")  # 저장할 때는 파일이 자동생성\n",
    "print(f)\n",
    "\n",
    "f.write(\"이름 : 홍길동,\")\n",
    "f.write(\"전화 : 010-111-1111,\")\n",
    "f.write(\"주소 : 서울시 강남구 \\n\")\n",
    "\n",
    "f.write(\"이름 : 임꺽정,\")\n",
    "f.write(\"전화 : 010-222-2222,\")\n",
    "f.write(\"주소 : 서울시 강북구 \\n\")\n",
    "\n",
    "f.close()"
   ]
  },
  {
   "cell_type": "code",
   "execution_count": 157,
   "metadata": {},
   "outputs": [],
   "source": [
    "f = open(\"..\\\\filetest2.txt\",\"a\")     # w = 수정시 이전파일이 다 날라감\n",
    "                                       # r = 이전 파일의 데이터 + 수정된 내용\n",
    "f.write(\"이름 : 유비,\")\n",
    "f.write(\"전화 : 010-333-3333,\")\n",
    "f.write(\"주소 : 서울시 강서구 \\n\")\n",
    "\n",
    "f.close()"
   ]
  },
  {
   "cell_type": "code",
   "execution_count": 172,
   "metadata": {},
   "outputs": [
    {
     "name": "stdout",
     "output_type": "stream",
     "text": [
      "<_io.TextIOWrapper name='.\\\\data\\\\filetest3.txt' mode='w' encoding='cp949'>\n"
     ]
    }
   ],
   "source": [
    "# csv 형식으로 저장    ,csv : 분리하기 쉽기위해서   = 데이터를 저장할 때 , 로 구분해라\n",
    "\n",
    "nums = [10, 20, 30, 40, 50, 60, 70, 80, 90]\n",
    "count = len(nums)\n",
    "#f = open(\"C:\\\\Users\\\\acorn\\\\sh\\\\basic\\\\data\\\\filetest3.text\",\"w\") => 절대 경로 \n",
    "#f = open(\"data\\\\filetest3.text\",\"w\")  #=>상대 경로\n",
    "f = open(\".\\\\data\\\\filetest3.txt\",\"w\")\n",
    "print(f)\n",
    "\n",
    "for v in range(len(nums)):\n",
    "    if v < count-1:          \n",
    "        f.write(str(nums[v]) + \",\")  \n",
    "    else:\n",
    "        f.write(str(nums[v]))\n",
    "     \n",
    "f.close()"
   ]
  },
  {
   "cell_type": "code",
   "execution_count": 173,
   "metadata": {},
   "outputs": [],
   "source": [
    "with open(\".\\\\data\\\\filetest3.txt\",\"w\") as f:             # with 문이 끝나면 자연스럽게 소멸 >> close(): 필요없음\n",
    "    for v in range(count):\n",
    "        if v < count-1:\n",
    "            f.write(str(nums[v]) + \",\")\n",
    "        else:\n",
    "            f.write(str(nums[v]))"
   ]
  },
  {
   "cell_type": "code",
   "execution_count": 195,
   "metadata": {},
   "outputs": [
    {
     "name": "stdout",
     "output_type": "stream",
     "text": [
      "abcdefg\n",
      "hijklmn\n",
      "opqrstu\n",
      "가나다라마\n",
      "바사아자차\n",
      "카파타하\n",
      "-----------------------\n",
      "파일 포인터 :  59\n",
      "파일포인터 : 59\n",
      "ijklmn\n",
      "\n"
     ]
    }
   ],
   "source": [
    "# 파일 임의 접근 : seek(), tell()\n",
    "# seek()의 두번째 인자는 기분 위치를 지정한다.\n",
    "# 0 (default.파일의 시작위치),1(파일의 현재 위치),2(파일의 끝위치)\n",
    "\n",
    "with open(\".\\\\data\\\\filetest1.txt\",\"r\") as f:\n",
    "    for line in f:\n",
    "        print(line,end='')\n",
    "        \n",
    "    \n",
    "    print(\"\\n-----------------------\")\n",
    "    \n",
    "    print(\"파일 포인터 : \",f.tell())  \n",
    "    \n",
    "    f.seek(0, 2)\n",
    "    \n",
    "    print(\"파일포인터 :\",f.tell())\n",
    "    \n",
    "    f.seek(10, 0)\n",
    "    \n",
    "    print( f.readline())"
   ]
  },
  {
   "cell_type": "code",
   "execution_count": 215,
   "metadata": {},
   "outputs": [
    {
     "name": "stdout",
     "output_type": "stream",
     "text": [
      "['1.변수와 자료형.ipynb', '2. 제어문.ipynb', '3. 함수.ipynb', '연습문제 함수.ipynb', '연습문제.ipynb']\n"
     ]
    }
   ],
   "source": [
    "   # 동시에 여러 개의 파일을 불러오는 방법\n",
    "\n",
    "import glob\n",
    "#files = glob.glob(\"*\")           # 현재위치의 모든파이을 불러오기\n",
    "#files = glob.glob(\"*.ipynb\")      # 확장자를 선택해서 가져오기\n",
    "files = glob.glob(\"*.*\")           # 폴더를 제외하고 다 \n",
    "print(files)"
   ]
  },
  {
   "cell_type": "markdown",
   "metadata": {},
   "source": [
    "#  재귀 함수 (recursive function)"
   ]
  },
  {
   "cell_type": "code",
   "execution_count": 246,
   "metadata": {
    "scrolled": false
   },
   "outputs": [
    {
     "name": "stdout",
     "output_type": "stream",
     "text": [
      "5\n",
      "4\n",
      "3\n",
      "2\n",
      "1\n",
      "완료\n"
     ]
    }
   ],
   "source": [
    "def countdown(n):\n",
    "    if n ==0 :\n",
    "        print(\"완료\")\n",
    "        return\n",
    "    else:\n",
    "        print(n)\n",
    "        countdown(n-1)   #countdown을 countdown을 다시 호출 :반복\n",
    "                         # 일반적으로 반복문>재귀함수                           \n",
    "                         # 재귀함수는 성능이 떨어지고 메모리를 많이 먹는다.\n",
    "                         # 성능비교할때는 재귀함수가 많이 쓰임\n",
    "##########################################\n",
    "\n",
    "#for i in range(5, -1, -1):\n",
    "#    countdown(i)\n",
    "\n",
    "countdown(5)    # 자동으로 반복 "
   ]
  },
  {
   "cell_type": "code",
   "execution_count": 251,
   "metadata": {},
   "outputs": [
    {
     "name": "stdout",
     "output_type": "stream",
     "text": [
      "youneedpython\n",
      "youneedpython\n",
      "you need python\n",
      "youneedpython\n"
     ]
    }
   ],
   "source": [
    "print(\"you\"\"need\"\"python\")\n",
    "print(\"you\"+\"need\"+\"python\")\n",
    "print(\"you\",\"need\",\"python\")\n",
    "print(\"\".join([\"you\",\"need\",\"python\"]))"
   ]
  },
  {
   "cell_type": "code",
   "execution_count": 9,
   "metadata": {},
   "outputs": [
    {
     "name": "stdout",
     "output_type": "stream",
     "text": [
      "7\n"
     ]
    }
   ],
   "source": [
    "def add(a,b):       #add : 매개변수 a,b : 인수\n",
    "    return a+b\n",
    "\n",
    "a = 3\n",
    "b = 4\n",
    "c = add(a,b)\n",
    "print(c)"
   ]
  },
  {
   "cell_type": "code",
   "execution_count": null,
   "metadata": {},
   "outputs": [],
   "source": []
  },
  {
   "cell_type": "code",
   "execution_count": null,
   "metadata": {},
   "outputs": [],
   "source": []
  }
 ],
 "metadata": {
  "kernelspec": {
   "display_name": "Python 3",
   "language": "python",
   "name": "python3"
  },
  "language_info": {
   "codemirror_mode": {
    "name": "ipython",
    "version": 3
   },
   "file_extension": ".py",
   "mimetype": "text/x-python",
   "name": "python",
   "nbconvert_exporter": "python",
   "pygments_lexer": "ipython3",
   "version": "3.7.6"
  }
 },
 "nbformat": 4,
 "nbformat_minor": 4
}
