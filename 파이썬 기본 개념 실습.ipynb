{
 "cells": [
  {
   "cell_type": "markdown",
   "metadata": {},
   "source": [
    "# 파이썬 실습"
   ]
  },
  {
   "cell_type": "markdown",
   "metadata": {},
   "source": [
    "---\n",
    "## 목차 \n",
    "#### 1.  자료형\n",
    "#### 2.  if문\n",
    "#### 3.  for문\n",
    "#### 4.  while문\n",
    "---"
   ]
  },
  {
   "cell_type": "markdown",
   "metadata": {},
   "source": [
    "## 자료형(Date Type)\n",
    " * 자료형이란 프로그래밍을 할 때 쓰이는 숫자, 문자열 등 자료 형태로 사용하는 모든 것을 뜻한다.\n",
    "   \n",
    "   + 종류 :\n",
    "    - 기본 자료형\n",
    "        * Number(숫자형) : int(정수형), float(실수형)\n",
    "        * 문자형 : str \n",
    "        * 논리형 : bool (True or False) \n",
    "        \n",
    "    - 집합(iter) 자료형\n",
    "        * list\n",
    "        * tuple\n",
    "        * dict\n",
    "        * set\n",
    "     "
   ]
  },
  {
   "cell_type": "markdown",
   "metadata": {},
   "source": [
    "## 1. 숫자형\n",
    " - int : 정수형\n",
    " - float : 실수형"
   ]
  },
  {
   "cell_type": "code",
   "execution_count": 28,
   "metadata": {},
   "outputs": [
    {
     "name": "stdout",
     "output_type": "stream",
     "text": [
      "10\n",
      "<class 'int'>\n",
      "3.14\n",
      "<class 'float'>\n"
     ]
    }
   ],
   "source": [
    "a = 10\n",
    "print(a)\n",
    "print(type(a))\n",
    "\n",
    "a = 3.14\n",
    "print(a)\n",
    "print(type(a))"
   ]
  },
  {
   "cell_type": "markdown",
   "metadata": {},
   "source": [
    "## 2. 문자열 \n",
    " * ' ' , \" \" , ''' ''', \"\"\" \"\"\" 을 사용해 문자열 만들기 \n",
    " * str() : 숫자를 문자로 바꿔주는 함수 "
   ]
  },
  {
   "cell_type": "code",
   "execution_count": 29,
   "metadata": {},
   "outputs": [],
   "source": [
    "a = 'a'\n",
    "a = 'ab'\n",
    "a = 'abc'\n",
    "a = '10'\n",
    "a =  'a'+'b'                                       # 문자열 + 숫자열 = X\n",
    "a =  'a'+str(10)                                  "
   ]
  },
  {
   "cell_type": "markdown",
   "metadata": {},
   "source": [
    "#### 2.1 문자열 연산 \n",
    " - 문자열 연산은 다른 언어에서는 사용할 수 없는 파이썬만의 특징이다."
   ]
  },
  {
   "cell_type": "code",
   "execution_count": 34,
   "metadata": {},
   "outputs": [
    {
     "name": "stdout",
     "output_type": "stream",
     "text": [
      "abcdefghijklmn\n"
     ]
    }
   ],
   "source": [
    "a = 'abcdefg'\n",
    "b = a + 'hijklmn' \n",
    "print(b)"
   ]
  },
  {
   "cell_type": "code",
   "execution_count": 33,
   "metadata": {},
   "outputs": [
    {
     "name": "stdout",
     "output_type": "stream",
     "text": [
      "abcdefg      \n",
      "hijklmb\n",
      "opqrstu\n"
     ]
    }
   ],
   "source": [
    "b =\"\"\"abcdefg      \n",
    "hijklmb\n",
    "opqrstu\"\"\"                                         #\"\"\" \"\"\" = 여러 줄의 문자를 표현가능하게 함\n",
    "print(b)"
   ]
  },
  {
   "cell_type": "markdown",
   "metadata": {},
   "source": [
    "#### 2.2 특수 문자 (제어 문자) : \\문자                     \n",
    "- 이스케이프 문자 : \\ (역슬레쉬) \\ + 특수문자 = 평범한 문자로 돌아"
   ]
  },
  {
   "cell_type": "code",
   "execution_count": 36,
   "metadata": {},
   "outputs": [
    {
     "name": "stdout",
     "output_type": "stream",
     "text": [
      "안녕하세요. \n",
      "반갑습니다.\n"
     ]
    }
   ],
   "source": [
    "a = \"안녕하세요. \\n반갑습니다.\"                    # \\n = 문자열 안에 줄을 바꿀 때 사용 \n",
    "print(a)"
   ]
  },
  {
   "cell_type": "code",
   "execution_count": 38,
   "metadata": {},
   "outputs": [
    {
     "name": "stdout",
     "output_type": "stream",
     "text": [
      "안녕하세요. \t반갑습니다.\n"
     ]
    }
   ],
   "source": [
    "b = \"안녕하세요. \\t반갑습니다.\"                    # \\t = 문자열 사이에 tab 간격을 줄 때 사용 \n",
    "print(b)"
   ]
  },
  {
   "cell_type": "code",
   "execution_count": 39,
   "metadata": {},
   "outputs": [
    {
     "name": "stdout",
     "output_type": "stream",
     "text": [
      "\\t는 탭키의 기능입니다.\n"
     ]
    }
   ],
   "source": [
    "# \\ (역슬레쉬) \\ + 특수문자 = 평범한 문자로 돌아\n",
    "c = \"\\\\t는 탭키의 기능입니다.\"\n",
    "print(c)"
   ]
  },
  {
   "cell_type": "code",
   "execution_count": 7,
   "metadata": {},
   "outputs": [
    {
     "name": "stdout",
     "output_type": "stream",
     "text": [
      "\"\\n은 엔터키 기능이다.\"\n"
     ]
    }
   ],
   "source": [
    "# \"\\n은 엔터키 기능이다.\"\n",
    "# \"\"('') 역시 특수문자 이기 때문에 \\를 삽입하여 이스케이프 시키자\n",
    "\n",
    "a = \"\\\"\\\\n은 엔터키 기능이다.\\\"\"                    \n",
    "print(a)"
   ]
  },
  {
   "cell_type": "markdown",
   "metadata": {},
   "source": [
    "#### 2.3 문자열 인덱싱 : 내가 원하는 문자의 위치를 찾아내는 기능"
   ]
  },
  {
   "cell_type": "code",
   "execution_count": 40,
   "metadata": {
    "scrolled": true
   },
   "outputs": [
    {
     "name": "stdout",
     "output_type": "stream",
     "text": [
      "o\n",
      "n\n",
      "n\n",
      "o\n",
      "t o o\n",
      "too\n"
     ]
    }
   ],
   "source": [
    "a = \"Life is too short, You need Python\"\n",
    "print(a[10])                                        # Python은 0부터 숫자를 센다\n",
    "print(a[-1])                                        # - 숫자 = 문자열 끝에서 부터 index를 찾음\n",
    "print(a[33])\n",
    "print(a[-2])\n",
    "print(a[8], a[9], a[10])                            \n",
    "print(a[8] + a[9] + a[10])                          # 문자열을 연산자 + 를 이용하면 한문자로 출력"
   ]
  },
  {
   "cell_type": "markdown",
   "metadata": {},
   "source": [
    "#### 2.4 문자열 슬라이싱 : 구간을 잘라서 출력시키는 것 (문자열인덱싱을 확장한 방식)\n",
    "\n",
    " * a[시작번호:끝번호]를 사용하여 구간으로 출력"
   ]
  },
  {
   "cell_type": "code",
   "execution_count": 9,
   "metadata": {},
   "outputs": [
    {
     "name": "stdout",
     "output_type": "stream",
     "text": [
      "Life\n",
      "too\n",
      "Life\n",
      "too short, You need Python\n",
      "ho\n"
     ]
    }
   ],
   "source": [
    "print(a[0:4])      # 0 <= x < 4 0이상4미만          \n",
    "print(a[8:11])\n",
    "print(a[:4])                                        # 시작위치(0)를 생략하면 처음(0)부터 출력\n",
    "print(a[8:])                                        # 마지막 위치를 생략하면 선택한 곳부터 문자열 끝까지 출력\n",
    "print(a[-3:-1])   "
   ]
  },
  {
   "cell_type": "markdown",
   "metadata": {},
   "source": [
    "#### 2.5 문자열 함수\n",
    " * len() : 변수의 글자수를 세는 함수 "
   ]
  },
  {
   "cell_type": "code",
   "execution_count": 10,
   "metadata": {},
   "outputs": [
    {
     "name": "stdout",
     "output_type": "stream",
     "text": [
      "34\n",
      "4\n"
     ]
    }
   ],
   "source": [
    "a = \"Life is too short, You need Python\"\n",
    "b = \"Rose\"\n",
    "print(len(a))\n",
    "print(len(b))"
   ]
  },
  {
   "cell_type": "markdown",
   "metadata": {},
   "source": [
    "* a.count('') : 특정문자의 숫자를 찾는 함수  "
   ]
  },
  {
   "cell_type": "code",
   "execution_count": 11,
   "metadata": {},
   "outputs": [
    {
     "name": "stdout",
     "output_type": "stream",
     "text": [
      "5 6\n"
     ]
    }
   ],
   "source": [
    "print(a.count(\"o\"),a.count(' ')) "
   ]
  },
  {
   "cell_type": "markdown",
   "metadata": {},
   "source": [
    "* a.find() : 문자열을 찾을 때, 찾지 못했을 땐 '-1'"
   ]
  },
  {
   "cell_type": "code",
   "execution_count": 12,
   "metadata": {},
   "outputs": [
    {
     "name": "stdout",
     "output_type": "stream",
     "text": [
      "28 -1\n"
     ]
    }
   ],
   "source": [
    "print(a.find('Python'), a.find(\"java\"))"
   ]
  },
  {
   "cell_type": "markdown",
   "metadata": {},
   "source": [
    "* a.index('') : 문자열을 찾을 때, 찾지 못했을 땐 '에러'"
   ]
  },
  {
   "cell_type": "code",
   "execution_count": 13,
   "metadata": {},
   "outputs": [
    {
     "name": "stdout",
     "output_type": "stream",
     "text": [
      "28\n"
     ]
    }
   ],
   "source": [
    "print(a.index(\"Python\"))                            \n",
    "# print(a.index(\"java\")) # 문자열을 찾지 못했을 때 에러발생"
   ]
  },
  {
   "cell_type": "markdown",
   "metadata": {},
   "source": [
    "* ('').join(str) : 각각의 데이터를  join함수로 구분 "
   ]
  },
  {
   "cell_type": "code",
   "execution_count": 14,
   "metadata": {},
   "outputs": [
    {
     "name": "stdout",
     "output_type": "stream",
     "text": [
      "a,b,c,d,e,f,g\n"
     ]
    }
   ],
   "source": [
    "str1 = \"abcdefg\"                                    \n",
    "str2 = (\",\".join(str1))                          \n",
    "print(str2)"
   ]
  },
  {
   "cell_type": "markdown",
   "metadata": {},
   "source": [
    "* ('').split('기준') : 기준을 정하여 데이터를 출력 (원하는 문자열을 쪼개 낼 때 유용)"
   ]
  },
  {
   "cell_type": "code",
   "execution_count": 15,
   "metadata": {},
   "outputs": [
    {
     "name": "stdout",
     "output_type": "stream",
     "text": [
      "a b c\n",
      "['a', 'b', 'c', 'd', 'e', 'f', 'g']\n",
      "['홍길동', '임꺽정', '신돌석', '유비', '관우', '장비']\n"
     ]
    }
   ],
   "source": [
    "print(str1[0],str1[1],str1[2])      \n",
    "print(str2.split(\",\"))\n",
    "\n",
    "# 하나의 데이터를 6개짜리의 데이터로 쪼개고 싶을 때 \n",
    "str3 = \"홍길동 임꺽정 신돌석 유비 관우 장비\"\n",
    "\n",
    "# 단어들이 공백으로 구분되어 있으므로 split()함수를 사용하여 뽑아내겠습니다.\n",
    "print(str3.split(\" \")) "
   ]
  },
  {
   "cell_type": "markdown",
   "metadata": {},
   "source": [
    "* 공백제거  : lstrip(), rstrip(), strip()           :  중간의 공백은 제거 불가"
   ]
  },
  {
   "cell_type": "code",
   "execution_count": null,
   "metadata": {
    "scrolled": true
   },
   "outputs": [],
   "source": [
    "str1 = \"                     python         \"       \n",
    "print(str1+'end')                                   # str1.lstrip() : 왼쪽공백제거\n",
    "print(str1.lstrip()+'end')                          # str1.rstrip() : 오른쪽공백제거\n",
    "print(str1.rstrip()+'end')                          # str1.strip() : 양쪽공백제거\n",
    "print(str1.strip()+'end')"
   ]
  },
  {
   "cell_type": "markdown",
   "metadata": {},
   "source": [
    "* 바꾸기 : replace() : 특정 단어들을 내가 원하는 단어로 바꿀때 사용"
   ]
  },
  {
   "cell_type": "code",
   "execution_count": null,
   "metadata": {},
   "outputs": [],
   "source": [
    "str1 = \"\"\"Hello, World!  \n",
    "    World is fantasy\"\"\"\n",
    "\n",
    "# str1.replace(\"본문단어\",\"바꿀단어\")\n",
    "str2 = str1.replace(\"World\",\"Python\")              \n",
    "print(str2)"
   ]
  },
  {
   "cell_type": "markdown",
   "metadata": {},
   "source": [
    "#### 2.6 문자열 포맷팅 : \n",
    " * format()"
   ]
  },
  {
   "cell_type": "code",
   "execution_count": null,
   "metadata": {},
   "outputs": [],
   "source": [
    "num1 = 3\n",
    "num2 = 4\n",
    "num1,num2 = 5, 10  # 한줄로도 변수 할당 가능 (파이썬 문법)\n",
    "\n",
    "# {} = place holder 자리만 잡아준다. 누가 올 것을 표시한다.\n",
    "print(\"덧셈 결과 : {0} + {1} = {2}\".format(num1, num2, num1+num2))\n",
    "print(\"덧셈 결과 : {} + {} = {}\".format(num1, num2, num1+num2))      \n",
    "\n",
    "# 특정한 값을 특정한 위치에 사용할 때 index를 사용함\n",
    "print(\"덧셈 결과 : {1} + {1} = {1}\".format(num1, num2, num1+num2))   "
   ]
  },
  {
   "attachments": {
    "image.png": {
     "image/png": "[encoded data removed]"
    }
   },
   "cell_type": "markdown",
   "metadata": {},
   "source": [
    "* %\n",
    "![image.png](attachment:image.png)"
   ]
  },
  {
   "cell_type": "code",
   "execution_count": null,
   "metadata": {},
   "outputs": [],
   "source": [
    "print(\"덧셈 결과 : %d + %d = %d\" %(num1, num2, num1+num2))       "
   ]
  },
  {
   "cell_type": "markdown",
   "metadata": {},
   "source": [
    "## 4. list \n",
    "\n",
    "   + 임의의 객체를 순차적으로 저장하는 집합적 자료형\n",
    "   + 각 값에 대해서 인덱스가 부여됨\n",
    "   + 수정이 가능함\n",
    "   + []를 사용"
   ]
  },
  {
   "cell_type": "code",
   "execution_count": 41,
   "metadata": {
    "scrolled": true
   },
   "outputs": [
    {
     "name": "stdout",
     "output_type": "stream",
     "text": [
      "<class 'list'>\n",
      "1 3 5\n"
     ]
    }
   ],
   "source": [
    "n= [1, 3, 5, 7, 9]\n",
    "\n",
    "print(type(n))\n",
    "print(n[0],n[1],n[2])                     "
   ]
  },
  {
   "cell_type": "markdown",
   "metadata": {},
   "source": [
    "##### 서로 다른 자료형도 하나로 묶을 수 있다."
   ]
  },
  {
   "cell_type": "code",
   "execution_count": null,
   "metadata": {},
   "outputs": [],
   "source": [
    "a =[10, 20, 3.14, True, False, \"홍길동\"]           \n",
    "print(a)                         "
   ]
  },
  {
   "cell_type": "markdown",
   "metadata": {},
   "source": [
    "##### 수정 가능"
   ]
  },
  {
   "cell_type": "code",
   "execution_count": null,
   "metadata": {},
   "outputs": [],
   "source": [
    "a[1] = 200\n",
    "print(a)"
   ]
  },
  {
   "cell_type": "markdown",
   "metadata": {},
   "source": [
    "##### 리스트 또한 문자열과 같이 인덱싱이 가능하다."
   ]
  },
  {
   "cell_type": "code",
   "execution_count": null,
   "metadata": {},
   "outputs": [],
   "source": [
    "a =[10, 20, 3.14, True, False, \"홍길동\"]\n",
    "print(a)                                           \n",
    "print(a[0], a[1], a[2])                             "
   ]
  },
  {
   "cell_type": "markdown",
   "metadata": {},
   "source": [
    "##### list 안에 list 저장(복잡한 데이터도 처리 가능)"
   ]
  },
  {
   "cell_type": "code",
   "execution_count": null,
   "metadata": {},
   "outputs": [],
   "source": [
    "b = [10, 20, 30, ['a', 'b', 'c']]                \n",
    "print(b[0],b[3]) \n",
    "print(b[3][1])                                      "
   ]
  },
  {
   "cell_type": "markdown",
   "metadata": {},
   "source": [
    "##### 리스트 또한 문자열과 같이 슬라이싱이 가능하다."
   ]
  },
  {
   "cell_type": "code",
   "execution_count": null,
   "metadata": {},
   "outputs": [],
   "source": [
    "print(a[1:5]) \n",
    "print(a[1:5][1])"
   ]
  },
  {
   "cell_type": "code",
   "execution_count": null,
   "metadata": {},
   "outputs": [],
   "source": [
    "# b에 있는 데이터들 중에서 'b'와 'c'를 꺼내서 출력\n",
    "print(b[3][1:3])\n",
    "\n",
    "# 마지막에 : 을 사용하면 끝까지 슬라이싱하라는 뜻이다.\n",
    "print(b[3][1:])\n",
    "print(b[3][1],b[3][2])"
   ]
  },
  {
   "cell_type": "markdown",
   "metadata": {},
   "source": [
    "##### 리스트 연산 \n",
    "- 리스트 또한 연산이 가능하다. 하지만 리스트는 "
   ]
  },
  {
   "cell_type": "code",
   "execution_count": null,
   "metadata": {},
   "outputs": [],
   "source": [
    "a =[1, 2, 3]\n",
    "b =[4, 5, 6, 7, \"홍길동\"]\n",
    "\n",
    "# 리스트 더하기 (연결O, 덧셈X)\n",
    "print(a + b)                  \n",
    "\n",
    "# 리스트 곱하기 (반복O, 곱셈X)\n",
    "print(a*3)                    "
   ]
  },
  {
   "cell_type": "markdown",
   "metadata": {},
   "source": [
    "##### 데이터 삽입, 추가   "
   ]
  },
  {
   "cell_type": "markdown",
   "metadata": {},
   "source": [
    "* a.insert(자리,숫자) : 원하는 자리에 추가 "
   ]
  },
  {
   "cell_type": "code",
   "execution_count": null,
   "metadata": {},
   "outputs": [],
   "source": [
    "a.insert(0,5)                                   \n",
    "print(a)\n",
    "a.insert(2,15)\n",
    "print(a)"
   ]
  },
  {
   "cell_type": "markdown",
   "metadata": {},
   "source": [
    "* a.append() : 리스트 가장 끝자리에 추가 "
   ]
  },
  {
   "cell_type": "code",
   "execution_count": null,
   "metadata": {},
   "outputs": [],
   "source": [
    "a = []                     \n",
    "a.append(10)                                    \n",
    "a.append(20)\n",
    "a.append(30)\n",
    "print(a)\n",
    "\n",
    "# 여러개를 추가할땐 반드시 list()로 묶어야 함\n",
    "a.append([31,31,33])                            \n",
    "print(a)"
   ]
  },
  {
   "cell_type": "markdown",
   "metadata": {},
   "source": [
    "* a.extend() : 2차 리스트가 아닌 1차 리스트에 바로 추가"
   ]
  },
  {
   "cell_type": "code",
   "execution_count": null,
   "metadata": {},
   "outputs": [],
   "source": [
    "a.extend([34, 35, 36])                         \n",
    "print(a)                                       "
   ]
  },
  {
   "cell_type": "markdown",
   "metadata": {},
   "source": [
    "##### 리스트 삭제, 제거 "
   ]
  },
  {
   "cell_type": "markdown",
   "metadata": {},
   "source": [
    " * a.remove() : 처음으로 발견되는 데이터 삭제"
   ]
  },
  {
   "cell_type": "code",
   "execution_count": null,
   "metadata": {},
   "outputs": [],
   "source": [
    "a = [1, 2, 3, 1, 2, 3]\n",
    "a.remove(3)                                 \n",
    "print(a)"
   ]
  },
  {
   "cell_type": "code",
   "execution_count": null,
   "metadata": {},
   "outputs": [],
   "source": [
    "a = [1, 2, 3, 1, 2, 3]\n",
    "del a[3]                                        \n",
    "print(a)"
   ]
  },
  {
   "cell_type": "markdown",
   "metadata": {},
   "source": [
    "* pop() : a는 삭제되나 b는 사용가능한 상태로 만드는 함수"
   ]
  },
  {
   "cell_type": "code",
   "execution_count": null,
   "metadata": {},
   "outputs": [],
   "source": [
    "a = [1, 2, 3]\n",
    "b= a.pop()\n",
    "print(a)                                        \n",
    "print(b)"
   ]
  },
  {
   "cell_type": "markdown",
   "metadata": {},
   "source": [
    "##### 리스트 검색 기능 "
   ]
  },
  {
   "cell_type": "code",
   "execution_count": null,
   "metadata": {},
   "outputs": [],
   "source": [
    "# in 연산자 하나만으로 검색을 할 수 있다.\n",
    "a= [1, 2, 3, 4, 5]                                                   \n",
    "print(2 in a)                                   \n",
    "print(6 in a) "
   ]
  },
  {
   "cell_type": "markdown",
   "metadata": {},
   "source": [
    "## 4. Tuple\n",
    "\n",
    "   + list와 거의 동일\n",
    "   + ()를 사용\n",
    "   + 수정 불가 "
   ]
  },
  {
   "cell_type": "code",
   "execution_count": null,
   "metadata": {},
   "outputs": [],
   "source": [
    "a = ('a','b','c','d')\n",
    "print(a)\n",
    "print(type(a))"
   ]
  },
  {
   "cell_type": "markdown",
   "metadata": {},
   "source": [
    "#####  수정불가"
   ]
  },
  {
   "cell_type": "code",
   "execution_count": null,
   "metadata": {
    "scrolled": true
   },
   "outputs": [],
   "source": [
    "a[0] = 'A' \n",
    "print(a) "
   ]
  },
  {
   "cell_type": "markdown",
   "metadata": {},
   "source": [
    "## 5. Dict\n",
    "\n",
    "   + 데이터 검색의 용도 (Key : Value 한 쌍으로 갖는 자료형)\n",
    "   + {Key : Value}\n",
    "   + 순서가 없다(인덱스가 없다.)   "
   ]
  },
  {
   "cell_type": "code",
   "execution_count": null,
   "metadata": {},
   "outputs": [],
   "source": [
    "a = {'name':\"홍길동\",\"phone\":\"111-1111\",\"age\":25}\n",
    "print(a)\n",
    "print(type(a))"
   ]
  },
  {
   "cell_type": "markdown",
   "metadata": {},
   "source": [
    "* a.get(), a[\" \"] : 검색기능"
   ]
  },
  {
   "cell_type": "code",
   "execution_count": null,
   "metadata": {},
   "outputs": [],
   "source": [
    "print(a['name'], a['phone'],a['age'])                \n",
    "print(a.get(\"name\"),a.get(\"phone\"),a.get(\"age\"))                "
   ]
  },
  {
   "cell_type": "markdown",
   "metadata": {},
   "source": [
    "* a.keys : key들을 묶어서 보여줌 \n",
    "* a.values : value들을 묶어서 보여줌\n",
    "* a.items() : tuple로 묶어서 보여줌"
   ]
  },
  {
   "cell_type": "code",
   "execution_count": null,
   "metadata": {},
   "outputs": [],
   "source": [
    "print(a.keys())                                     \n",
    "print(a.values())                                    \n",
    "print(a.items())"
   ]
  },
  {
   "cell_type": "markdown",
   "metadata": {},
   "source": [
    "##### 수정 기능\n"
   ]
  },
  {
   "cell_type": "code",
   "execution_count": null,
   "metadata": {},
   "outputs": [],
   "source": [
    "a[\"name\"] = \"임꺽정\"\n",
    "print(a)"
   ]
  },
  {
   "cell_type": "markdown",
   "metadata": {},
   "source": [
    "#####  추가 기능"
   ]
  },
  {
   "cell_type": "code",
   "execution_count": null,
   "metadata": {},
   "outputs": [],
   "source": [
    "a[\"address\"] = \"서울시 강남구\"\n",
    "print(a)"
   ]
  },
  {
   "cell_type": "markdown",
   "metadata": {},
   "source": [
    "#####  삭제 기능"
   ]
  },
  {
   "cell_type": "code",
   "execution_count": null,
   "metadata": {},
   "outputs": [],
   "source": [
    "del a[\"age\"]\n",
    "print(a)"
   ]
  },
  {
   "cell_type": "markdown",
   "metadata": {},
   "source": [
    "## 6. Set\n",
    "   \n",
    "   + {값, ......} 사용 \n",
    "   + 순서가 없다(인데스가 없다) -> list나 tuple로 변환하여 사용\n",
    "   + 중복을 불가"
   ]
  },
  {
   "cell_type": "markdown",
   "metadata": {},
   "source": [
    "##### 중복 제거"
   ]
  },
  {
   "cell_type": "code",
   "execution_count": null,
   "metadata": {},
   "outputs": [],
   "source": [
    "a ={1, 2, 3, 4 , 3, 2, 4}\n",
    "print(a)                                             \n",
    "print(type(a))"
   ]
  },
  {
   "cell_type": "markdown",
   "metadata": {},
   "source": [
    "##### 순서가 없음(인덱스가 존재하지 않음)"
   ]
  },
  {
   "cell_type": "code",
   "execution_count": null,
   "metadata": {
    "scrolled": true
   },
   "outputs": [],
   "source": [
    "print(a[0])"
   ]
  },
  {
   "cell_type": "markdown",
   "metadata": {},
   "source": [
    "##### s1.union(s2) : 합집합 "
   ]
  },
  {
   "cell_type": "code",
   "execution_count": null,
   "metadata": {},
   "outputs": [],
   "source": [
    "s1 = {1, 2, 3, 4, 5, 6}\n",
    "s2 = {4, 5, 6, 7, 8, 9}\n",
    "\n",
    "# 합집합          \n",
    "print(s1.union(s2))                                  "
   ]
  },
  {
   "cell_type": "markdown",
   "metadata": {},
   "source": [
    "##### s1.intersection(s2) : 교집합"
   ]
  },
  {
   "cell_type": "code",
   "execution_count": null,
   "metadata": {},
   "outputs": [],
   "source": [
    "print(s1.intersection(s2))      "
   ]
  },
  {
   "cell_type": "markdown",
   "metadata": {},
   "source": [
    "##### s1.difference(s2) : 차집합"
   ]
  },
  {
   "cell_type": "code",
   "execution_count": null,
   "metadata": {},
   "outputs": [],
   "source": [
    "print(s1.difference(s2))                              "
   ]
  },
  {
   "cell_type": "markdown",
   "metadata": {},
   "source": [
    "##### s1.update({ 값, 값 })  : 여러 요소들 추가"
   ]
  },
  {
   "cell_type": "code",
   "execution_count": null,
   "metadata": {},
   "outputs": [],
   "source": [
    "s1.update({7, 8})\n",
    "print(s1)"
   ]
  },
  {
   "cell_type": "markdown",
   "metadata": {},
   "source": [
    "##### s1.add( ) : 한의 요소 추가"
   ]
  },
  {
   "cell_type": "code",
   "execution_count": null,
   "metadata": {},
   "outputs": [],
   "source": [
    "s1.add(9)                                             \n",
    "print(s1)"
   ]
  },
  {
   "cell_type": "markdown",
   "metadata": {},
   "source": [
    "## 7.  연산자(Operator)                        \n",
    "                                                   \n",
    "\n",
    "   1) 산술 연산자 \n",
    "     \n",
    "     :  + , -,  *, /,**(제곱근),  %(나머지),  //(몫: 정수만) \n",
    "    \n",
    "   2) 비교 연산자\n",
    "     \n",
    "     : >, <, >=, <= , ==, !=  \n",
    "     \n",
    "   3) 논리 연산자 (단락 회로 : 하나의 False라도 나온다면 회로를 끊음)\n",
    "     \n",
    "     : and : 두개 모두 참이면 참, 하나라도 거짓이면 거짓\n",
    "       or  : 둘 중 하나라도 참이면 참\n",
    "       not : 반대로 바꿔주는 연산자\n",
    "     \n",
    "      a     b     a and b   a or b     a not b\n",
    "      --------------------------------------------------------\n",
    "      T     T     True      Ture       False      \n",
    "      T     F     False     Ture       False\n",
    "      F     T     False     Ture       Ture\n",
    "      F     F     False     False      Ture\n",
    "      \n",
    "   4) 대입(치환, 할당) 연산자\n",
    "     \n",
    "     =, +=, *= ...... \n",
    "     "
   ]
  },
  {
   "cell_type": "markdown",
   "metadata": {},
   "source": [
    "##### 산술 연산자"
   ]
  },
  {
   "cell_type": "code",
   "execution_count": null,
   "metadata": {},
   "outputs": [],
   "source": [
    "print(10 / 3)             # / : 나누기 연산자\n",
    "print(10 % 3)             # % : + 나머지 값 출력\n",
    "print(10 // 3)            # // :+ 나머지 값의 정수만 출력\n",
    "print(2**10)              # ** :  제곱급 (2의 10승)"
   ]
  },
  {
   "cell_type": "markdown",
   "metadata": {},
   "source": [
    "##### 비교연산자"
   ]
  },
  {
   "cell_type": "code",
   "execution_count": null,
   "metadata": {},
   "outputs": [],
   "source": [
    "# 비교연산자의 결과같은 bool(ture/ false)만 나온다\n",
    "print(100 > 200)\n",
    "print(1000 != 1001) "
   ]
  },
  {
   "cell_type": "markdown",
   "metadata": {},
   "source": [
    "##### 대입(치환, 할당) 연산자\n"
   ]
  },
  {
   "cell_type": "code",
   "execution_count": null,
   "metadata": {},
   "outputs": [],
   "source": [
    "a = 1                     # a에게 1의 값을 할당하겠다.\n",
    "a = 2\n",
    "a = 3\n",
    "print(a)                  # 최종적으로 마지막의 값만 출력\n",
    "\n",
    "b = 1   \n",
    "b += 2        # b = b +2\n",
    "b += 3      \n",
    "print(b)"
   ]
  },
  {
   "attachments": {
    "image-2.png": {
     "image/png": "[encoded data removed]"
    }
   },
   "cell_type": "markdown",
   "metadata": {},
   "source": [
    "## 8. if 문\n",
    " - 파이썬에서 조건문을 사용하기 위하여 if 문을 사용한다. if 키워드 다음에 조건식을 적게 되고, 조건식 다음에 콜론(:) 을 써서 if 조건식 끝을 표현한다.\n",
    "![image-2.png](attachment:image-2.png)"
   ]
  },
  {
   "cell_type": "markdown",
   "metadata": {},
   "source": [
    "### 8.1 if 문 사용하기 \n",
    " - \"만약 3000원 이상의 돈을 가지고 있으면 택시를 타고 그렇지 않으면 걸어 가라.\""
   ]
  },
  {
   "cell_type": "code",
   "execution_count": 17,
   "metadata": {},
   "outputs": [
    {
     "name": "stdout",
     "output_type": "stream",
     "text": [
      "걸어가라\n"
     ]
    }
   ],
   "source": [
    "money = 2000\n",
    "\n",
    "if money >= 3000:\n",
    "    print(\"택시를 타고 가라\")\n",
    "else:\n",
    "    print(\"걸어가라\")"
   ]
  },
  {
   "cell_type": "markdown",
   "metadata": {},
   "source": [
    "### 8.2 논리 연산자를 사용한 if 문\n",
    " * \"만약 3000원 이상 있거나 카드가 있다면 택시를 타고 그렇지 않으면 걸어 가라.\""
   ]
  },
  {
   "cell_type": "code",
   "execution_count": 18,
   "metadata": {},
   "outputs": [
    {
     "name": "stdout",
     "output_type": "stream",
     "text": [
      "택시를 타고 가라\n"
     ]
    }
   ],
   "source": [
    "money = 2000\n",
    "card = True\n",
    "\n",
    "if money >= 3000 or card:\n",
    "    print(\"택시를 타고 가라\")\n",
    "else:\n",
    "    print(\"걸어가라\")"
   ]
  },
  {
   "attachments": {
    "image-2.png": {
     "image/png": "[encoded data removed]"
    }
   },
   "cell_type": "markdown",
   "metadata": {},
   "source": [
    "###  8.3 elif 문\n",
    "* if와 else만으로는 다양한 조건을 판단하기 어렵기 때문에, 더 많은 조건을 비교하기 위해서 사용된다.\n",
    "![image-2.png](attachment:image-2.png)"
   ]
  },
  {
   "cell_type": "code",
   "execution_count": 19,
   "metadata": {},
   "outputs": [
    {
     "name": "stdout",
     "output_type": "stream",
     "text": [
      "택시를 타고 가라\n"
     ]
    }
   ],
   "source": [
    "poket = [\"paper\", \"phone\"]\n",
    "card = True\n",
    "\n",
    "if money in poket:\n",
    "    print(\"택시를 타고 가라\")\n",
    "elif card:\n",
    "    print(\"택시를 타고 가라\")\n",
    "else:\n",
    "    print(\"걸어가라\")"
   ]
  },
  {
   "attachments": {
    "image-3.png": {
     "image/png": "[encoded data removed]"
    }
   },
   "cell_type": "markdown",
   "metadata": {},
   "source": [
    "## 9. 반복문\n",
    " * 파이썬에서 반복되는 루프를 만들기 위해 while 문이나 for 문을 사용할 수 있다. \n",
    "\n",
    "---\n",
    "### 9.1 while 문\n",
    " * while문은 while 키워드 다음의 조건식이 참일 경우 계속 while 안의 블럭을 실행한다.\n",
    " ![image-3.png](attachment:image-3.png)"
   ]
  },
  {
   "cell_type": "code",
   "execution_count": 20,
   "metadata": {
    "scrolled": true
   },
   "outputs": [
    {
     "name": "stdout",
     "output_type": "stream",
     "text": [
      "나무를 1번 찍었습니다.\n",
      "나무를 2번 찍었습니다.\n",
      "나무를 3번 찍었습니다.\n",
      "나무를 4번 찍었습니다.\n",
      "나무를 5번 찍었습니다.\n",
      "나무를 6번 찍었습니다.\n",
      "나무를 7번 찍었습니다.\n",
      "나무를 8번 찍었습니다.\n",
      "나무를 9번 찍었습니다.\n",
      "나무를 10번 찍었습니다.\n",
      "나무 넘어갑니다.\n"
     ]
    }
   ],
   "source": [
    "treeHit = 0\n",
    "\n",
    "while treeHit < 10:\n",
    "    treeHit = treeHit +1\n",
    "    print(\"나무를 %d번 찍었습니다.\" % treeHit)\n",
    "    if treeHit == 10:\n",
    "        print(\"나무 넘어갑니다.\")"
   ]
  },
  {
   "cell_type": "markdown",
   "metadata": {},
   "source": [
    "위 예에서 while문의 조건문은 treeHit < 10이다. 즉 treeHit가 10보다 작은 동안에 while문 안의 문장을 계속 수행한다. whlie문 안의 문장을 보면 제일 먼저 treeHit = treeHit + 1로 treeHit 값이 계속 1씩 증가한다. 그리고 나무를 treeHit번만큼 찍었음을 알리는 문장을 출력하고 treeHit가 10이 되면 \"나무 넘어갑니다.\"라는 문장을 출력한다. 그러고 나면 treeHit < 10 조건문이 거짓이 되므로 while문을 빠져나가게 된다."
   ]
  },
  {
   "attachments": {
    "image-2.png": {
     "image/png": "[encoded data removed]"
    }
   },
   "cell_type": "markdown",
   "metadata": {},
   "source": [
    "### 9.2 for문\n",
    " * 파이썬의 직관적인 특징을 가장 잘 대변해 주는 것이 바로 이 for문이다. while문과 비슷한 반복문인 for문은 매우 유용하고 문장 구조가 한눈에 쏙 들어온다는 장점이 있다 \n",
    " ![image-2.png](attachment:image-2.png)"
   ]
  },
  {
   "cell_type": "markdown",
   "metadata": {},
   "source": [
    "### 9.2.1 for문 사용하기 1"
   ]
  },
  {
   "cell_type": "code",
   "execution_count": 21,
   "metadata": {},
   "outputs": [
    {
     "name": "stdout",
     "output_type": "stream",
     "text": [
      "one\n",
      "two\n",
      "three\n"
     ]
    }
   ],
   "source": [
    "test_list = ['one', 'two', 'three'] \n",
    "for i in test_list: \n",
    "    print(i)"
   ]
  },
  {
   "cell_type": "markdown",
   "metadata": {},
   "source": [
    "['one', 'two', 'three']라는 리스트의 첫 번째 요소인 'one'이 먼저 i 변수에 대입된 후 print(i)라는 문장을 수행한다. 다음에 'two'라는 두 번째 요소가 i 변수에 대입된 후 print(i) 문장을 수행하고 리스트의 마지막 요소까지 이것을 반복한다.\n"
   ]
  },
  {
   "attachments": {
    "image.png": {
     "image/png": "[encoded data removed]"
    }
   },
   "cell_type": "markdown",
   "metadata": {},
   "source": [
    "### 9.2.2 for문 사용하기 2\n",
    " * for문의  쓰임새를 알기 위해 다음을 가정해보자\n",
    "![image.png](attachment:image.png)\n",
    "우선 5명의 시험 점수를 리스트로 표현해 보았다."
   ]
  },
  {
   "cell_type": "code",
   "execution_count": 22,
   "metadata": {},
   "outputs": [],
   "source": [
    "marks = [90, 25, 67, 45, 80]"
   ]
  },
  {
   "cell_type": "markdown",
   "metadata": {},
   "source": [
    "1번 학생은 90점이고 5번 학생은 80점이다.\n",
    "\n",
    "이런 점수를 차례로 검사해서 합격했는지 불합격했는지 통보해 주는 프로그램을 만들어 보자. "
   ]
  },
  {
   "cell_type": "code",
   "execution_count": 23,
   "metadata": {},
   "outputs": [
    {
     "name": "stdout",
     "output_type": "stream",
     "text": [
      "1번 학생은 합격입니다.\n",
      "2번 학생은 불합격입니다.\n",
      "3번 학생은 합격입니다.\n",
      "4번 학생은 불합격입니다.\n",
      "5번 학생은 합격입니다.\n"
     ]
    }
   ],
   "source": [
    "marks = [90, 25, 67, 45, 80]\n",
    "\n",
    "number = 0 \n",
    "for mark in marks: \n",
    "    number = number +1 \n",
    "    if mark >= 60: \n",
    "        print(\"%d번 학생은 합격입니다.\" % number)\n",
    "    else: \n",
    "        print(\"%d번 학생은 불합격입니다.\" % number)"
   ]
  },
  {
   "cell_type": "markdown",
   "metadata": {},
   "source": [
    "각각의 학생에게 번호를 붙여 주기 위해 number 변수를 사용하였다. 점수 리스트 marks에서 차례로 점수를 꺼내어 mark라는 변수에 대입하고 for문 안의 문장들을 수행한다. 우선 for문이 한 번씩 수행될 때마다 number는 1씩 증가한다.\n",
    "\n",
    "이 프로그램을 실행하면 mark가 60 이상일 때 합격 메시지를 출력하고 60을 넘지 않을 때 불합격 메시지를 출력한다."
   ]
  },
  {
   "cell_type": "markdown",
   "metadata": {},
   "source": [
    "### 9.2.3 for문과 함께 자주 사용하는 range 함수\n",
    " * for문은 숫자 리스트를 자동으로 만들어 주는 range 함수와 함께 사용하는 경우가 많다. 다음은 range 함수의 간단한 사용법이다."
   ]
  },
  {
   "cell_type": "code",
   "execution_count": 25,
   "metadata": {},
   "outputs": [
    {
     "data": {
      "text/plain": [
       "range(0, 10)"
      ]
     },
     "execution_count": 25,
     "metadata": {},
     "output_type": "execute_result"
    }
   ],
   "source": [
    "a = range(10)\n",
    "a"
   ]
  },
  {
   "cell_type": "markdown",
   "metadata": {},
   "source": [
    "ange(10)은 0부터 10 미만의 숫자를 포함하는 range 객체를 만들어 준다.<br/>시작 숫자와 끝 숫자를 지정하려면 range(시작 숫자, 끝 숫자) 형태를 사용하는데, 이때 끝 숫자는 포함되지 않는다."
   ]
  },
  {
   "cell_type": "markdown",
   "metadata": {},
   "source": [
    "##### for와 range 함수를 사용하면 1부터 10까지 더하는 것을 다음과 같이 쉽게 구현할 수 있다."
   ]
  },
  {
   "cell_type": "code",
   "execution_count": 26,
   "metadata": {},
   "outputs": [
    {
     "name": "stdout",
     "output_type": "stream",
     "text": [
      "55\n"
     ]
    }
   ],
   "source": [
    "add = 0 \n",
    "\n",
    "for i in range(1, 11): \n",
    "     add = add + i \n",
    "print(add)"
   ]
  },
  {
   "cell_type": "markdown",
   "metadata": {},
   "source": [
    "range(1, 11)은 숫자 1부터 10까지(1 이상 11 미만)의 숫자를 데이터로 갖는 객체이다.<br/>\n",
    "따라서 위 예에서 i 변수에 리스트의 숫자가 1부터 10까지 하나씩 차례로 대입되면서 add = add + i 문장을 반복적으로 수행하고 add는 최종적으로 55가 된다. \n"
   ]
  }
 ],
 "metadata": {
  "kernelspec": {
   "display_name": "Python 3",
   "language": "python",
   "name": "python3"
  },
  "language_info": {
   "codemirror_mode": {
    "name": "ipython",
    "version": 3
   },
   "file_extension": ".py",
   "mimetype": "text/x-python",
   "name": "python",
   "nbconvert_exporter": "python",
   "pygments_lexer": "ipython3",
   "version": "3.8.5"
  }
 },
 "nbformat": 4,
 "nbformat_minor": 4
}
