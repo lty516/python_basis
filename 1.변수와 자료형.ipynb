{
 "cells": [
  {
   "cell_type": "markdown",
   "metadata": {},
   "source": [
    "# 1.변수(Vairable)\n",
    "   + 임시 기억(저장) 공간\n",
    "   + 별도의 절차없이(선언없이) 사용가능\n",
    "   + DataType을 가리지 않는다.\n",
    "   + 값을 수정할 수 없음(수정X -> 참조)"
   ]
  },
  {
   "cell_type": "markdown",
   "metadata": {},
   "source": [
    "변수 : 데이터를 임시로 저장하는 공간 (교재 p.107)\n",
    "\n",
    "자격증 : 정보처리기사 기능사 산업기사 준비\n",
    "\n",
    "파이썬 : Major(자바,C,C++)언어 보다 빠르게 수정,작업가능\n",
    "\n",
    "Markdown : 전체적인 문서화 / 주석# : 부연 설명 "
   ]
  },
  {
   "cell_type": "code",
   "execution_count": 58,
   "metadata": {},
   "outputs": [
    {
     "data": {
      "text/plain": [
       "'파이썬'"
      ]
     },
     "execution_count": 58,
     "metadata": {},
     "output_type": "execute_result"
    }
   ],
   "source": [
    "# 별도의 절차없이 사용가능\n",
    "a = 10\n",
    "a\n",
    "\n",
    "a = 20\n",
    "a\n",
    "\n",
    "var1 = 30\n",
    "var1\n",
    "\n",
    "a = 3.14\n",
    "a\n",
    "\n",
    "a = \"파이썬\"\n",
    "a"
   ]
  },
  {
   "cell_type": "code",
   "execution_count": 48,
   "metadata": {},
   "outputs": [
    {
     "name": "stdout",
     "output_type": "stream",
     "text": [
      "10\n",
      "<class 'int'>\n",
      "3.14\n",
      "<class 'float'>\n",
      "홍길동\n",
      "<class 'str'>\n"
     ]
    }
   ],
   "source": [
    "# DateTpye을 가리지 않는다.\n",
    "a = 10\n",
    "print(a)\n",
    "print(type(a))\n",
    "\n",
    "a = 3.14\n",
    "print(a)\n",
    "print(type(a))\n",
    "\n",
    "a = \"홍길동\"\n",
    "print(a)\n",
    "print(type(a))"
   ]
  },
  {
   "cell_type": "code",
   "execution_count": 40,
   "metadata": {},
   "outputs": [
    {
     "name": "stdout",
     "output_type": "stream",
     "text": [
      "10\n",
      "140704639460016\n",
      "11\n",
      "140704639460048\n",
      "10\n",
      "140704639460016\n"
     ]
    }
   ],
   "source": [
    "# 값을 수정할 수 없다\n",
    "# 주소를 따로 저장함(참조)-> 수정이 아니라 새로운 값이 추가 되서 그 위치를 새롭게 받은 것일 뿐이다.\n",
    "                                                                       # Garbage ->  메모리의 낭비  \n",
    "a = 10 #참조\n",
    "print(a)\n",
    "print(id(a))\n",
    "\n",
    "a = 11\n",
    "print(a)\n",
    "print(id(a))\n",
    "\n",
    "a = 10 # 재할당받음\n",
    "print(a)\n",
    "print(id(a))"
   ]
  },
  {
   "cell_type": "markdown",
   "metadata": {},
   "source": [
    "## 자료형(Date Type)\n",
    "   \n",
    "   + 종류 :\n",
    "    - 기본 자료형  (수정 불가: immutable)\n",
    "        * Number(숫자형) : int(정수형), float(실수형)\n",
    "        * 문자형 : str \n",
    "        * 논리형 : bool (True or False) \n",
    "        * 그 외 : complex, function\n",
    "        * 단일 데이터를 저장\n",
    "        \n",
    "    - 집합(iter) 자료형\n",
    "        * list\n",
    "        * tuple\n",
    "        * dict\n",
    "        * set\n",
    "     "
   ]
  },
  {
   "cell_type": "code",
   "execution_count": 1,
   "metadata": {},
   "outputs": [
    {
     "name": "stdout",
     "output_type": "stream",
     "text": [
      "a10\n",
      "----------------------\n",
      "abcdefghijklmn\n",
      "abcdefg      \n",
      "hijklmb\n",
      "opqrstu\n",
      "----------------------\n",
      "안녕하세요. \n",
      "반갑습니다.\n",
      "안녕하세요. \t반갑습니다.\n",
      "\\t는 탭키의 기능입니다.\n",
      "\"\\n은 엔터키 기능이다.\"\n"
     ]
    }
   ],
   "source": [
    "# 문자열 \n",
    "\n",
    "a = 'a'\n",
    "a = 'ab'\n",
    "a = 'abc'\n",
    "a = '10'\n",
    "a =  'a'+'b'                                       #문자열 + 숫자열 = X\n",
    "a =  'a'+str(10)                                   #str() : 숫자를 문자로 바꿔주는 함수 \n",
    "print(a)\n",
    "\n",
    "print(\"----------------------\")\n",
    "\n",
    "a = 'abcdefg'\n",
    "a = a + 'hijklmn' \n",
    "print(a)\n",
    "\n",
    "b =\"\"\"abcdefg      \n",
    "hijklmb\n",
    "opqrstu\"\"\"                                         #\"\"\" \"\"\" = 여러 줄의 문자를 표현가능하게 함\n",
    "print(b)\n",
    "\n",
    "print(\"----------------------\")\n",
    "\n",
    "# 특수 문자 (제어 문자) : \\문자                    -교재p.48    \n",
    "# 이스케이프 문자 : \\ (역슬레쉬) \\ + 특수문자 = 평범한 문자로 돌아\n",
    "\n",
    "a = \"안녕하세요. \\n반갑습니다.\"                    # \\n = 문자열 안에 줄을 바꿀 때 사용 \n",
    "print(a)\n",
    "\n",
    "b = \"안녕하세요. \\t반갑습니다.\"                    # \\t = 문자열 사이에 tab 간격을 줄 때 사용 \n",
    "print(b)\n",
    "\n",
    "c = \"\\\\t는 탭키의 기능입니다.\"\n",
    "print(c)\n",
    "\n",
    "# \"\\n은 엔터키 기능이다.\"\n",
    "\n",
    "a = \"\\\"\\\\n은 엔터키 기능이다.\\\"\"                    # \"\"('') 역시 특수문자 이기 때문에 \\를 삽입하여 이스케이프 시키자\n",
    "print(a)                            \n",
    "                                                    # Document : python.org documentation 참고 "
   ]
  },
  {
   "cell_type": "code",
   "execution_count": 77,
   "metadata": {},
   "outputs": [
    {
     "name": "stdout",
     "output_type": "stream",
     "text": [
      "o\n",
      "n\n",
      "n\n",
      "o\n",
      "t o o\n",
      "too\n",
      "Life\n",
      "too\n",
      "Life\n",
      "too short, You need Python\n",
      "ho\n"
     ]
    }
   ],
   "source": [
    "# Indexing : 내가 원하는 문자의 위치를 찾아내는 기능\n",
    "\n",
    "a = \"Life is too short, You need Python\"\n",
    "print(a[10])                                        # Python은 0부터 숫자를 센다\n",
    "print(a[-1])                                        # - 숫자 = 문자열 끝에서 부터 index를 찾음\n",
    "print(a[33])\n",
    "print(a[-2])\n",
    "print(a[8], a[9], a[10])                            \n",
    "print(a[8] + a[9] + a[10])                          # 문자열을 연산자 + 를 이용하면 한문자로 출력\n",
    "\n",
    "# Slicing : 구간을 잘라서 출력시키는 것 (indexing을 확장한 방식)\n",
    "\n",
    "print(a[0:4])      # 0 <= x < 4 0이상4미만          # a[시작번호:끝번호]를 사용하여 구간으로 출력\n",
    "print(a[8:11])\n",
    "print(a[:4])                                        # 시작위치(0)를 생략하면 처음(0)부터 출력\n",
    "print(a[8:])                                        # 마지막 위치를 생략하면 선택한 곳부터 문자열 끝까지 출력\n",
    "print(a[-3:-1])                                "
   ]
  },
  {
   "cell_type": "code",
   "execution_count": 88,
   "metadata": {},
   "outputs": [
    {
     "name": "stdout",
     "output_type": "stream",
     "text": [
      "python\n"
     ]
    }
   ],
   "source": [
    "# 수정 불가\n",
    "str1 = \"pithon\"\n",
    "#str1 = \"python\"                                    # 수정이 아니라 새로운 데이터가 또하나 생성된 것 \n",
    "#str[1] = \"y\"                                       # 수정 불가능하여 에러\n",
    "str2 = str1[:1] + \"y\" + str1[2:]                    # 긴 문자열을 수정할 때 \n",
    "print(str2)"
   ]
  },
  {
   "cell_type": "code",
   "execution_count": 174,
   "metadata": {},
   "outputs": [
    {
     "name": "stdout",
     "output_type": "stream",
     "text": [
      "34\n",
      "n\n",
      "n\n",
      "-----------------------------------------------------------------------\n",
      "5 6\n",
      "-----------------------------------------------------------------------\n",
      "28 -1\n",
      "-----------------------------------------------------------------------\n",
      "28\n",
      "-----------------------------------------------------------------------\n",
      "a,b,c,d,e,f,g\n",
      "-----------------------------------------------------------------------\n",
      "a b c\n",
      "['a', 'b', 'c', 'd', 'e', 'f', 'g']\n",
      "-----------------------------------------------------------------------\n",
      "['홍길동', '임꺽정', '신돌석', '유비', '관우', '장비']\n",
      "-----------------------------------------------------------------------\n",
      "                     python         end\n",
      "python         end\n",
      "                     pythonend\n",
      "pythonend\n",
      "python\n",
      "-----------------------------------------------------------------------\n",
      "Hello, Python!  \n",
      "    Python is fantasy\n",
      "1이3사5육칠팔구\n",
      "일이삼사5육7팔9\n"
     ]
    }
   ],
   "source": [
    "# len(), count(), find(), Index(), join(), split(), ......          -교재p.67\n",
    "\n",
    "# len()\n",
    "a = \"Life is too short, You need Python\"\n",
    "\n",
    "print(len(a))                                       # len() : 변수의 글자수를 세는 함수 \n",
    "print(a[len(a)-1])                                                    \n",
    "print(a[-1])                                        # len()함수 외는 모두 문자열만을 취하기 때문에 사용법이 다름\n",
    "\n",
    "print(\"-----------------------------------------------------------------------\")\n",
    "\n",
    "# count()\n",
    "print(a.count(\"o\"),a.count(' '))                    # a = 객체(데이터를 저장하는 실제장소) / a.count('') : 특정문자의 숫자를 찾는 함수  \n",
    "\n",
    "print(\"-----------------------------------------------------------------------\")\n",
    "\n",
    "# finf()\n",
    "print(a.find('Python'), a.find(\"java\"))             # a.find('') : 문자열을 찾을 때, 찾지 못했을 땐 '-1'\n",
    "\n",
    "print(\"-----------------------------------------------------------------------\")\n",
    "\n",
    "# index()\n",
    "print(a.index(\"Python\"))                            # a.index('') : 문자열을 찾을 때, 찾지 못했을 땐 '에러'\n",
    "# print(a.index(\"java\"))\n",
    "\n",
    "print(\"-----------------------------------------------------------------------\")\n",
    "\n",
    "# jion()\n",
    "str1 = \"abcdefg\"                                    \n",
    "str2 = (\",\".join(str1))                             # ('').join(str) : 각각의 데이터를  join함수로 구분 \n",
    "print(str2)\n",
    "\n",
    "print(\"-----------------------------------------------------------------------\")\n",
    "\n",
    "# split()\n",
    "print(str1[0],str1[1],str1[2])                      # ('').split('기준') : 기준을 정하여 데이터를 출력 (원하는 문자열을 쪼개 낼 때 유용)\n",
    "print(str2.split(\",\"))\n",
    "\n",
    "print(\"-----------------------------------------------------------------------\")\n",
    "\n",
    "str3 = \"홍길동 임꺽정 신돌석 유비 관우 장비\"        # 하나의 데이터를 6개짜리의 데이터로 쪼개고 싶음\n",
    "print(str3.split(\" \"))                              # 단어들이 공백으로 구분되어 있으므로 split()함수를 사용하여 뽑아냄\n",
    "\n",
    "print(\"-----------------------------------------------------------------------\")\n",
    "\n",
    "# 공백제거  : lstrip(), rstrip(), strip()           :  중간의 공백은 제거 불가\n",
    "str1 = \"                     python         \"       # str1.lstrip() : 왼쪽공백제거\n",
    "print(str1+'end')                                   # str1.rstrip() : 오른쪽공백제거\n",
    "print(str1.lstrip()+'end')                          # str1.strip() : 양쪽공백제거\n",
    "print(str1.rstrip()+'end')\n",
    "print(str1.strip()+'end')\n",
    "\n",
    "str2 = '?!.python'\n",
    "print(str2.lstrip(\"?!.\"))                           # str2.lstrip(\"\"): 양쪽 원하는 문자(\"\")도 제거 가능\n",
    "\n",
    "print(\"-----------------------------------------------------------------------\")\n",
    "\n",
    "# 바꾸기 : replace(), {maketrans(), traslare()}    : 특정 단어들을 내가 원하는 단어로 바꿀때 사용\n",
    "\n",
    "str1 = \"\"\"Hello, World!  \n",
    "    World is fantasy\"\"\"\n",
    "\n",
    "str2 = str1.replace(\"World\",\"Python\")              # str1.replace(\"본문단어\",\"바꿀단어\")\n",
    "print(str2)\n",
    "\n",
    "str3 = \"일이삼사오육칠팔구\"                        # maketrans( ,maketrans(\"본문\",\"바꿀거\")) : 본문 중에서 무언가로 하나하나 바꾸고 싶을 때\n",
    "print(str3.translate(str3.maketrans(\"일삼오\",\"135\")))\n",
    "print(str3.translate(str3.maketrans(\"오칠구\",\"579\")))"
   ]
  },
  {
   "cell_type": "code",
   "execution_count": 12,
   "metadata": {},
   "outputs": [
    {
     "name": "stdout",
     "output_type": "stream",
     "text": [
      "덧셈 결과 : 5 + 10 = 15\n",
      "덧셈 결과 : 5 + 10 = 15\n",
      "덧셈 결과 : 10 + 10 = 10\n",
      "덧셈 결과 : 5 + 10 = 15\n"
     ]
    }
   ],
   "source": [
    "# 포매팅 : format(), %             -교재 p.57     추가내용 : 교재 p.63-64\n",
    "\n",
    "\"덧셈 결과 : 3 + 4 = 7\"\n",
    "\n",
    "num1 = 3\n",
    "num2 = 4\n",
    "num1,num2 = 5, 10                                   # 한줄로도 변수 할당 가능 (파이썬 문법)\n",
    "                                                    # {} = place holder 자리만 잡아준다. 누가 올 것을 표시한다.\n",
    "print(\"덧셈 결과 : {0} + {1} = {2}\".format(num1, num2, num1+num2))      # .format()    -교재 p.62\n",
    "print(\"덧셈 결과 : {} + {} = {}\".format(num1, num2, num1+num2))      \n",
    "print(\"덧셈 결과 : {1} + {1} = {1}\".format(num1, num2, num1+num2))      # 특정한 값을 특정한 위치에 사용할 때 index를 사용함\n",
    "\n",
    "print(\"덧셈 결과 : %d + %d = %d\" %(num1, num2, num1+num2))              #  %( , , , )  -교재 p.59\n"
   ]
  },
  {
   "cell_type": "markdown",
   "metadata": {},
   "source": [
    "---\n"
   ]
  },
  {
   "cell_type": "markdown",
   "metadata": {},
   "source": [
    "# Tip : jupyter 테마 변경하기\n",
    "  \n",
    "     https://github.com/dunovank/jupyter-themes  \n",
    "   * DOS 창에서 명령어 입력\n",
    "   * pip install jupyterthemes:  (jt -t Chesterish)\n",
    "   "
   ]
  },
  {
   "cell_type": "markdown",
   "metadata": {},
   "source": [
    "---"
   ]
  },
  {
   "cell_type": "markdown",
   "metadata": {},
   "source": [
    "### list \n",
    "\n",
    "   + 임의의 객체를 순차적으로 저장하는 집합적 자료형\n",
    "   + 각 값에 대해서 인덱스가 부여됨\n",
    "   + 수정이 가능함\n",
    "   + []를 사용"
   ]
  },
  {
   "cell_type": "code",
   "execution_count": 13,
   "metadata": {},
   "outputs": [
    {
     "name": "stdout",
     "output_type": "stream",
     "text": [
      "<class 'int'>\n",
      "<class 'list'>\n",
      "1 3 5\n"
     ]
    }
   ],
   "source": [
    "#각 값에 대해서 인덱스가 부여됨\n",
    "n1 ,n2 ,n3 ,n4, n5 = 1 ,3 ,5 ,7 ,9\n",
    "n= [1, 3, 5, 7, 9]\n",
    "\n",
    "print(type(n1))\n",
    "print(type(n))\n",
    "print(n[0],n[1],n[2])                               # list는 값이 하나로 묶여있기 때문에 index를 써야한다."
   ]
  },
  {
   "cell_type": "code",
   "execution_count": 34,
   "metadata": {},
   "outputs": [
    {
     "name": "stdout",
     "output_type": "stream",
     "text": [
      "[10, 20, 3.14, True, False, '홍길동']\n"
     ]
    }
   ],
   "source": [
    "a =[10, 20, 3.14, True, False, \"홍길동\"]           # 서로 다른 자료형도 하나로 묶을 수 있다.\n",
    "print(a)                                              "
   ]
  },
  {
   "cell_type": "code",
   "execution_count": 35,
   "metadata": {},
   "outputs": [
    {
     "name": "stdout",
     "output_type": "stream",
     "text": [
      "[10, 200, 3.14, True, False, '홍길동']\n"
     ]
    }
   ],
   "source": [
    "# 수정 가능\n",
    "a[1] = 200\n",
    "print(a)"
   ]
  },
  {
   "cell_type": "code",
   "execution_count": 52,
   "metadata": {},
   "outputs": [
    {
     "name": "stdout",
     "output_type": "stream",
     "text": [
      "[10, 20, 3.14, True, False, '홍길동']\n",
      "10 20 3.14\n",
      "10 ['a', 'b', 'c']\n",
      "b\n",
      "[20, 3.14, True, False]\n",
      "3.14\n",
      "['b', 'c']\n",
      "['b', 'c']\n",
      "b c\n"
     ]
    }
   ],
   "source": [
    "# indexing  : 특정 위치에 접근하기 위한 방법\n",
    "a =[10, 20, 3.14, True, False, \"홍길동\"]\n",
    "print(a)                                            # 데이터를 꺼내오는 것이 아니다. \n",
    "print(a[0], a[1], a[2])                             # 연속된 주소이기때문에 첫 주소만 알면된다.->index만 알면 접근가능\n",
    "\n",
    "b = [10, 20, 30, ['a', 'b', 'c']]                   #list 안에 list 저장(복잡한 데이터도 처리 가능)\n",
    "print(b[0],b[3]) \n",
    "print(b[3][1])                                      \n",
    "\n",
    "# Slicing \n",
    "print(a[1:5]) \n",
    "print(a[1:5][1])\n",
    "\n",
    "# b에 있는 데이터들 중에서 'b'와 'c'를 꺼내서 출력\n",
    "print(b[3][1:3])\n",
    "print(b[3][1:])\n",
    "print(b[3][1],b[3][2])"
   ]
  },
  {
   "cell_type": "code",
   "execution_count": 60,
   "metadata": {},
   "outputs": [
    {
     "name": "stdout",
     "output_type": "stream",
     "text": [
      "[1, 2, 3, 4, 5, 6, 7, '홍길동']\n",
      "[1, 2, 3, 1, 2, 3, 1, 2, 3]\n"
     ]
    }
   ],
   "source": [
    "# 리스트 연산        -교재 p.77\n",
    "a =[1, 2, 3]\n",
    "b =[4, 5, 6, 7, \"홍길동\"]\n",
    "\n",
    "print(a + b)                                       # 리스트 더하기 (연결O, 덧셈X)\n",
    "\n",
    "print(a*3)                                         # 리스트 곱하기 (반복O, 곱셈X)\n"
   ]
  },
  {
   "cell_type": "code",
   "execution_count": 70,
   "metadata": {},
   "outputs": [
    {
     "name": "stdout",
     "output_type": "stream",
     "text": [
      "[10, 2, 3, 4, 5]\n",
      "[10, 2, 3, 4, 5]\n",
      "-------------------------------------------------------\n",
      "[10, 2, 3, 4, 5]\n",
      "[10, 2, 3, 4, 5]\n",
      "[100, 2, 3, 4, 5]\n"
     ]
    }
   ],
   "source": [
    "# 리스트 복사 (얕은 복사 / 깊은 복사)       -교재 p.109\n",
    "a =[1, 2, 3, 4, 5]                                # 데이터 주소만 저장(파이썬) : 실제 데이터를 변화 시키지 않음 \n",
    "b = a                                             # 얕은 복사 : 하나의 데이터 주소값만 할당함 \n",
    "b[0] = 10                                                \n",
    "print(a)                                          # a 에서 작업한 것이 b에서도 변함\n",
    "print(b)\n",
    "\n",
    "print(\"-------------------------------------------------------\")\n",
    "\n",
    "c = a[:]                                          # 깊은 복사 : 새로운 데이터를 똑같이 복사해서 c에게 주소값을 넘겨줌 \n",
    "c[0] = 100                                        # [:] : 전체데이터를 slicing \n",
    "print(a)                                          # copy 모듈 사용 (추후에 사용)\n",
    "print(b)                                        \n",
    "print(c)                                          # a와 b는 변함없이 c만 단독적으로 변함"
   ]
  },
  {
   "cell_type": "code",
   "execution_count": 84,
   "metadata": {},
   "outputs": [
    {
     "name": "stdout",
     "output_type": "stream",
     "text": [
      "<class 'list'> <class 'list'> <class 'list'>\n",
      "[0, 1, 2, 3, 4, 5, 6, 7, 8, 9]\n",
      "range(0, 10)\n",
      "[5, 6, 7, 8, 9, 10, 11]\n",
      "[0, 2, 4, 6, 8, 10]\n"
     ]
    }
   ],
   "source": [
    "# 리스트 만들기 \n",
    "a = [1, 2, 3, 4]\n",
    "a1 = []                                          # 리스트 형태만 만들고 나중에 데이터 추가하기 위함\n",
    "a2 = list()                                      # <a = []> = <a = list()>\n",
    "print(type(a),type(a1),type(a2))\n",
    "\n",
    "a = list(range(10))                              # range() = 데이터 자동생성 함수 \n",
    "print(a)\n",
    "\n",
    "print(range(10))        # => 주소값      list(range(10)) => 실제 데이터 꺼내옴\n",
    "print(list(range(5,12)))\n",
    "print(list(range(0,11,2)))                       # list(range(시작위치, 끝위치, 증가단위))"
   ]
  },
  {
   "cell_type": "code",
   "execution_count": 97,
   "metadata": {},
   "outputs": [
    {
     "name": "stdout",
     "output_type": "stream",
     "text": [
      "[10, 20, 30]\n",
      "[5, 10, 20, 30]\n",
      "[5, 10, 15, 20, 30]\n",
      "[5, 10, 15, 20, 30, [31, 31, 33]]\n",
      "[5, 10, 15, 20, 30, [31, 31, 33], 34, 35, 36]\n",
      "[5, 10, 15, 20, 30, [31, 31, 33], 34, 35, 36, 37, 38, 37, 38]\n"
     ]
    }
   ],
   "source": [
    "# 데이터 삽입, 추가     - insert(), append(), extend()\n",
    "\n",
    "a = []                     \n",
    "a.append(10)                                    # a.append() : 리스트 가장 끝자리에 추가 \n",
    "a.append(20)\n",
    "a.append(30)\n",
    "print(a)\n",
    "\n",
    "a.insert(0,5)                                   # a.insert(자리,숫자) : 원하는 자리에 추가 \n",
    "print(a)\n",
    "a.insert(2,15)\n",
    "print(a)\n",
    "\n",
    "a.append([31,31,33])                            # 여러개를 추가할땐 반드시 list()로 묶어야 함\n",
    "print(a)\n",
    "\n",
    "a.extend([34, 35, 36])                          # a.extend() : 2차 리스트가 아닌 1차 리스트에 바로 추가\n",
    "print(a)                                       \n",
    "\n",
    "#a = a + [37, 38]                               # extend() 와 동일\n",
    "a += [37, 38]           # => 더 간단한 표현 \n",
    "print(a)"
   ]
  },
  {
   "cell_type": "code",
   "execution_count": 113,
   "metadata": {},
   "outputs": [
    {
     "name": "stdout",
     "output_type": "stream",
     "text": [
      "[1, 2, 3, 4]\n",
      "[4, 3, 2, 1]\n"
     ]
    }
   ],
   "source": [
    "# 정렬 기능                                     # 문법보다는 알고리즘이 더 중요\n",
    "a = [1, 4, 3 , 2]\n",
    "a.sort()                                        # a.sort() : 오름차순 자동정렬\n",
    "print(a)\n",
    "\n",
    "a.reverse()                                     # a.reverse() : 역순으로 정렬  / sort() + reverse() = 내림차순 정렬\n",
    "print(a) "
   ]
  },
  {
   "cell_type": "code",
   "execution_count": 115,
   "metadata": {},
   "outputs": [
    {
     "name": "stdout",
     "output_type": "stream",
     "text": [
      "[1, 1, 2, 3]\n",
      "[1, 2, 1, 2, 3]\n",
      "[1, 2, 3, 2, 3]\n",
      "[]\n",
      "[1, 2]\n",
      "3\n"
     ]
    }
   ],
   "source": [
    "# 리스트 삭제, 제거 \n",
    "\n",
    "a = [1, 2, 3, 1, 2, 3]\n",
    "a[1:3] = []                                     # 범위지정 삭제\n",
    "print(a)\n",
    "\n",
    "a = [1, 2, 3, 1, 2, 3]\n",
    "a.remove(3)                                     # a.remove() : 처음으로 발견되는 데이터 삭제\n",
    "print(a)\n",
    "\n",
    "a = [1, 2, 3, 1, 2, 3]\n",
    "del a[3]                                        #del a() : 메모리를 제거 (강력)\n",
    "print(a)\n",
    "\n",
    "a = [1, 2, 3, 1, 2, 3]\n",
    "a[:]= [] \n",
    "print(a)\n",
    "\n",
    "a = [1, 2, 3, 1, 2, 3]\n",
    "del a                                           # a를 찾지 못 함 -> a를 메모리에서 완전히 지워버림\n",
    "#print(a)\n",
    "\n",
    "# pop() : Stack의 데이터는 삭제 하지만 삭제한 데이터를 사용 가능하게 한다\n",
    "a = [1, 2, 3]\n",
    "b= a.pop()\n",
    "print(a)                                        # pop() : a는 삭제되나 b는 사용가능한 상태로 만드는 함수\n",
    "print(b)"
   ]
  },
  {
   "cell_type": "code",
   "execution_count": 118,
   "metadata": {},
   "outputs": [
    {
     "name": "stdout",
     "output_type": "stream",
     "text": [
      "True\n",
      "False\n"
     ]
    }
   ],
   "source": [
    "# 리스트 검색 기능 \n",
    "\n",
    "a= [1, 2, 3, 4, 5]                                                   \n",
    "print(2 in a)                                   # in 연산자 하나만으로 검색을 할 수 있다.\n",
    "print(6 in a)             "
   ]
  },
  {
   "cell_type": "markdown",
   "metadata": {},
   "source": [
    "## Tuple\n",
    "\n",
    "   + list와 거의 동일\n",
    "   + ()를 사용\n",
    "   + 수정 불가 "
   ]
  },
  {
   "cell_type": "code",
   "execution_count": 126,
   "metadata": {},
   "outputs": [
    {
     "name": "stdout",
     "output_type": "stream",
     "text": [
      "('a', 'b', 'c', 'd')\n",
      "<class 'tuple'>\n"
     ]
    }
   ],
   "source": [
    "a = ('a','b','c','d')\n",
    "print(a)\n",
    "print(type(a))\n",
    "\n",
    "# 수정불가\n",
    "# a[0] = 'A' \n",
    "# print(a) "
   ]
  },
  {
   "cell_type": "code",
   "execution_count": 133,
   "metadata": {},
   "outputs": [
    {
     "name": "stdout",
     "output_type": "stream",
     "text": [
      "<class 'tuple'>\n",
      "<class 'list'>\n",
      "<class 'tuple'>\n"
     ]
    }
   ],
   "source": [
    "# 형 변환 \n",
    "\n",
    "a = ('a', 'b', 'c', 'd')\n",
    "print(type(a))\n",
    "\n",
    "b = list(a)\n",
    "print(type(b))\n",
    "\n",
    "c = tuple(b)\n",
    "print(type(c))"
   ]
  },
  {
   "cell_type": "code",
   "execution_count": 147,
   "metadata": {},
   "outputs": [
    {
     "name": "stdout",
     "output_type": "stream",
     "text": [
      "<class 'int'>\n",
      "<class 'str'>\n",
      "<class 'float'> 10.0\n",
      "<class 'int'> 10\n",
      "True True False False False False\n"
     ]
    }
   ],
   "source": [
    "# 자료형 함수\n",
    "a = 10                                           # str(), int(), float(), bool() ...... 모두 형변환 가능\n",
    "print(type(a))                                   # bool() 는 값이 존재 : True   값이 존재 하지 않음 : False\n",
    " \n",
    "a = str(10)\n",
    "print(type(a))\n",
    "\n",
    "a = float(10)\n",
    "print(type(a),a)\n",
    "\n",
    "a = int(a)\n",
    "print(type(a),a)\n",
    "\n",
    "print(bool(\"Hello\"),bool(10),bool([]),bool(\"\"),bool(()),bool(None))    # bool(None) = \"값이 없다\"의 의미의 키워드"
   ]
  },
  {
   "cell_type": "code",
   "execution_count": 157,
   "metadata": {},
   "outputs": [
    {
     "name": "stdout",
     "output_type": "stream",
     "text": [
      "(10, 20, 30)\n",
      "<class 'tuple'>\n",
      "10 20 30\n"
     ]
    }
   ],
   "source": [
    "# Packing, unpacking         -교재 p.85\n",
    "\n",
    "a, b, c = 10, 20, 30     \n",
    "\n",
    "a =  10, 20, 30   # Packing                         # 한가지 변수에 여러가지 값을 입력하느것 , 여러개의 데이터를 하나로 묶는 것\n",
    "print(a)                                            # 수정시 list()로 변환하여 수정\n",
    "print(type(a))\n",
    "\n",
    "a1, a2, a3 = a\n",
    "print(a1, a2, a3) # Unpacking"
   ]
  },
  {
   "cell_type": "markdown",
   "metadata": {},
   "source": [
    "### Dict\n",
    "\n",
    "   + 데이터 검색의 용도 (Key : Value 한 쌍으로 갖는 자료형)\n",
    "   + {Key : Value}\n",
    "   + 순서가 없다(인덱스가 없다.)   "
   ]
  },
  {
   "cell_type": "code",
   "execution_count": 204,
   "metadata": {},
   "outputs": [
    {
     "name": "stdout",
     "output_type": "stream",
     "text": [
      "{'name': '홍길동', 'phone': '111-1111', 'age': 25}\n",
      "<class 'dict'>\n",
      "-------------------------------------------------------\n",
      "홍길동 111-1111 25\n",
      "홍길동 111-1111 25\n",
      "-------------------------------------------------------\n",
      "dict_keys(['name', 'phone', 'age'])\n",
      "dict_values(['홍길동', '111-1111', 25])\n",
      "dict_items([('name', '홍길동'), ('phone', '111-1111'), ('age', 25)])\n",
      "<class 'dict_items'>\n",
      "<class 'list'>\n",
      "-------------------------------------------------------\n",
      "{'name': '임꺽정', 'phone': '111-1111', 'age': 25}\n",
      "-------------------------------------------------------\n",
      "{'name': '임꺽정', 'phone': '111-1111', 'age': 25, 'address': '서울시 강남구'}\n",
      "-------------------------------------------------------\n",
      "{'name': '임꺽정', 'phone': '111-1111', 'address': '서울시 강남구'}\n",
      "{}\n",
      "-------------------------------------------------------\n",
      "{'name': '홍길동', 'phone': '111-1111', 'age': 25}\n"
     ]
    }
   ],
   "source": [
    "a = {'name':\"홍길동\",\"phone\":\"111-1111\",\"age\":25}\n",
    "print(a)\n",
    "print(type(a))\n",
    "\n",
    "print(\"-------------------------------------------------------\")\n",
    "\n",
    "print(a['name'], a['phone'],a['age'])                # a.get()  / a[\" \"] : 검색 \n",
    "print(a.get(\"name\"),a.get(\"phone\"),a.get(\"age\"))                \n",
    "\n",
    "print(\"-------------------------------------------------------\")   \n",
    "\n",
    "print(a.keys())                                      # a.keys : key들을 묶어서 보여줌 \n",
    "print(a.values())                                    # a.values : value들을 묶어서 보여줌\n",
    "print(a.items())                                     # a.items() : tuple로 묶어서 보여줌\n",
    "\n",
    "b = a.items()\n",
    "print(type(b))\n",
    "\n",
    "c = list(a.items())\n",
    "print(type(c))\n",
    "\n",
    "print(\"-------------------------------------------------------\") \n",
    "\n",
    "# 수정 기능\n",
    "a[\"name\"] = \"임꺽정\"\n",
    "print(a)\n",
    "\n",
    "print(\"-------------------------------------------------------\") \n",
    "\n",
    "# 추가 기능\n",
    "a[\"address\"] = \"서울시 강남구\"\n",
    "print(a)\n",
    "\n",
    "print(\"-------------------------------------------------------\") \n",
    "\n",
    "# 삭제 기능\n",
    "del a[\"age\"]\n",
    "print(a)\n",
    "\n",
    "a.clear()                                              # a.clear() : 메모리 삭제 X\n",
    "print(a)\n",
    "\n",
    "print(\"-------------------------------------------------------\") \n",
    "\n",
    "a = dict(name = \"홍길동\", phone = \"111-1111\", age = 25)\n",
    "print(a)"
   ]
  },
  {
   "cell_type": "markdown",
   "metadata": {},
   "source": [
    "### Set\n",
    "   \n",
    "   + {값, ......} 사용 \n",
    "   + 순서가 없다(인데스가 없다) -> list나 tuple로 변환하여 사용\n",
    "   + 중복을 불가"
   ]
  },
  {
   "cell_type": "code",
   "execution_count": 209,
   "metadata": {},
   "outputs": [
    {
     "name": "stdout",
     "output_type": "stream",
     "text": [
      "{1, 2, 3, 4}\n",
      "<class 'set'>\n",
      "1 2\n"
     ]
    }
   ],
   "source": [
    "a ={1, 2, 3, 4 , 3, 2, 4}\n",
    "print(a)                                              # 중복을 제거해줌\n",
    "print(type(a))\n",
    "#print(a[0])           ->인덱스가 없음\n",
    "\n",
    "b = list(a)\n",
    "print(b[0],b[1])"
   ]
  },
  {
   "cell_type": "code",
   "execution_count": 217,
   "metadata": {},
   "outputs": [
    {
     "name": "stdout",
     "output_type": "stream",
     "text": [
      "{1, 2, 3, 4, 5, 6, 7, 8, 9}\n",
      "{4, 5, 6}\n",
      "{1, 2, 3}\n"
     ]
    }
   ],
   "source": [
    "s1 = {1, 2, 3, 4, 5, 6}\n",
    "s2 = {4, 5, 6, 7, 8, 9}\n",
    "\n",
    "# 합집합          \n",
    "print(s1.union(s2))                                   # s1.union(s2)\n",
    "\n",
    "# 교집합\n",
    "print(s1.intersection(s2))                            #s1.intersection(s2)\n",
    "\n",
    "# 차집합\n",
    "print(s1.difference(s2))                              # s1.difference(s2) "
   ]
  },
  {
   "cell_type": "code",
   "execution_count": 220,
   "metadata": {},
   "outputs": [
    {
     "name": "stdout",
     "output_type": "stream",
     "text": [
      "{1, 2, 3, 4, 5, 6, 7, 8, 9}\n",
      "{1, 2, 3, 4, 5, 6, 7, 8, 9}\n",
      "{1, 2, 3, 4, 5, 6, 7, 9}\n"
     ]
    }
   ],
   "source": [
    "# 여러개 추가\n",
    "s1.update({7, 8})                                     # s1.update({ , })     \n",
    "print(s1)\n",
    "\n",
    "# 한 개 추가\n",
    "s1.add(9)                                             # s1.add( )\n",
    "print(s1)\n",
    "\n",
    "# 삭제 \n",
    "s1.remove(8)                                          # s1.remove()\n",
    "print(s1)"
   ]
  },
  {
   "cell_type": "code",
   "execution_count": 223,
   "metadata": {},
   "outputs": [
    {
     "name": "stdout",
     "output_type": "stream",
     "text": [
      "{1, 2, 3, 4, 6}\n"
     ]
    }
   ],
   "source": [
    "a = [1, 2, 3, 2, 4, 6, 3, 2]\n",
    "b = set(a)\n",
    "print(b)"
   ]
  },
  {
   "cell_type": "code",
   "execution_count": 232,
   "metadata": {},
   "outputs": [],
   "source": [
    "# 1. 수정 가능한 자료(list,dict,set) 와 수정 불가능한 자료 구분(나머지는 X)\n",
    "# 2. 순서가 있는 자료형(list, dict,tuple, str)과 없는 자료형 (set)"
   ]
  },
  {
   "cell_type": "markdown",
   "metadata": {},
   "source": [
    "---"
   ]
  },
  {
   "cell_type": "markdown",
   "metadata": {},
   "source": [
    "###  연산자(Operator)                        \n",
    "                                                    -교재 3장 p.~\n",
    "                                                   \n",
    "\n",
    "   1) 산술 연산자 \n",
    "     \n",
    "     :  + , -,  *, **(제곱근), /(몫),  %(나머지),  //(몫: 정수만) \n",
    "    \n",
    "   2) 비교 연산자\n",
    "     \n",
    "     : >, <, >=, <= , ==, !=  \n",
    "     \n",
    "   3) 논리 연산자 (단락 회로 : 하나의 False라도 나온다면 회로를 끊음)\n",
    "     \n",
    "     : 이항 - and, or \n",
    "       단항(토글) - not : 반대로 바꿔주는 연산자\n",
    "     \n",
    "      a     b     a and b   a or b     a not b\n",
    "      --------------------------------------------------------\n",
    "      T     T     True      Ture       False      \n",
    "      T     F     False     Ture       False\n",
    "      F     T     False     Ture       Ture\n",
    "      F     F     False     False      Ture\n",
    "      \n",
    "   4) 대입(치환, 할당) 연산자\n",
    "     \n",
    "     =, +=, *=, /=, %=, ...... \n",
    "     \n",
    "   * 연산자를 사용할 때, 항상 ()를 쓰는 습관을 길러라. (언제나 간단 명료하게)\n",
    "   \n",
    "===============================================================================\n",
    "\n",
    "   5) 포함 여부 연산자\n",
    "   \n",
    "       in     \n",
    "       not in\n",
    "    \n",
    "   6) 비트 연산자   (단락 회로 연산기능이 없음) -> 어떤 경우는 논리연산자가 더 효율적\n",
    "  \n",
    "      &(     |     ^     ~     <<     >>   ......\n",
    "      ---------------------------------------------------------\n",
    "      and    or    xor\n",
    "                 \"캐럿\"\n",
    "                (exclusive)\n",
    "                \n",
    "      a   b   a^b                    \n",
    "      -----------                \n",
    "      T   T    F   서로 같은 값인 경우는 F              \n",
    "      T   F    T   서로 다른 값인 경우만 T            \n",
    "      F   T    T        (배타적) -> 데이터를 암호화 & 복호      \n",
    "      F   F    F                               \n",
    "                 \n",
    "      2진수로 연산 -> 속도가 빠름 but 사람이 직관적으로 이해하기 힘듬\n",
    "      진법 변환을 익혀야 사용가능 (10진수 -> 2진수, 2진수->10진수)"
   ]
  },
  {
   "cell_type": "code",
   "execution_count": 122,
   "metadata": {},
   "outputs": [
    {
     "name": "stdout",
     "output_type": "stream",
     "text": [
      "3.3333333333333335\n",
      "1\n",
      "3\n",
      "1024\n",
      "---------------------------------------------------------\n",
      "False\n",
      "True\n",
      "---------------------------------------------------------\n",
      "3\n",
      "6\n",
      "---------------------------------------------------------\n",
      "False\n",
      "False\n",
      "6\n",
      "4\n",
      "14\n",
      "---------------------------------------------------------\n",
      "1442\n",
      "941126\n"
     ]
    }
   ],
   "source": [
    "print(10 / 3)             # / : 나누기 연산자\n",
    "print(10 % 3)             # % : + 나머지 값 출력\n",
    "print(10 // 3)            # // :+ 나머지 값의 정수만 출력\n",
    "print(2**10)              # ** :  제곱급 (2의 10승)\n",
    "\n",
    "# 본래 컴퓨터는 실수 연산을 할 수가 없다. \n",
    "# 반드시 실수를 정의 할 때 정확한 소수점 자리수 / 반올림 여부 등 정책을 확실히 세우고 작업해야함 \n",
    "\n",
    "print(\"---------------------------------------------------------\")\n",
    "\n",
    "print(100 > 200)\n",
    "print(1000 != 1001) \n",
    "\n",
    "# 비교연산자의 결과같은 bool(ture/ false)만 나온다\n",
    "\n",
    "print(\"---------------------------------------------------------\")\n",
    "\n",
    "a = 1                     # a에게 1의 값을 할당하겠다.\n",
    "a = 2\n",
    "a = 3\n",
    "print(a)                  # 최종적으로 마지막의 값만 출력\n",
    "\n",
    "b = 1   \n",
    "b += 2        # b = b +2\n",
    "b += 3      \n",
    "print(b)\n",
    "\n",
    "print(\"---------------------------------------------------------\")\n",
    "\n",
    "print(12>5 and 6<=3)\n",
    "print(12>5 & 6<=3)\n",
    "\n",
    "print(12 and 6)\n",
    "print(12 & 6)                         # 10진수 -> 2진수 : 소인수 분해  12 = 1100\n",
    "print(12 | 6)                         \n",
    "\n",
    "print(\"---------------------------------------------------------\")\n",
    "\n",
    "password = 941126\n",
    "key = 940516\n",
    "\n",
    "encode = password^key                 # 암호화\n",
    "print(encode)\n",
    "\n",
    "decode = encode^key                   # 복호화\n",
    "print(decode)\n"
   ]
  },
  {
   "cell_type": "markdown",
   "metadata": {},
   "source": [
    "### 연습문제 "
   ]
  },
  {
   "cell_type": "markdown",
   "metadata": {},
   "source": [
    "1."
   ]
  },
  {
   "cell_type": "code",
   "execution_count": 87,
   "metadata": {},
   "outputs": [
    {
     "name": "stdout",
     "output_type": "stream",
     "text": [
      "210\n",
      "70.0\n"
     ]
    }
   ],
   "source": [
    "\n",
    "grade = [80 , 75, 55]\n",
    "\n",
    "_sum = sum(grade)\n",
    "\n",
    "print(_sum)\n",
    "print(_sum/len(grade))\n"
   ]
  },
  {
   "cell_type": "markdown",
   "metadata": {},
   "source": [
    "2."
   ]
  },
  {
   "cell_type": "code",
   "execution_count": 143,
   "metadata": {},
   "outputs": [
    {
     "name": "stdout",
     "output_type": "stream",
     "text": [
      "숫자를 입력하세요13\n",
      "홀수입니다.\n"
     ]
    }
   ],
   "source": [
    "# 자연수13이 홀수인지 짝수인지 판별할 수 있는 방법에 대해 말해보자.\n",
    "\n",
    "\n",
    "num = int(input (\"숫자를 입력하세요\"))\n",
    "if num % 2 == 0:\n",
    "    print(\"짝수입니다.\")\n",
    "else:\n",
    "    print(\"홀수입니다.\")"
   ]
  },
  {
   "cell_type": "markdown",
   "metadata": {},
   "source": [
    "3."
   ]
  },
  {
   "cell_type": "code",
   "execution_count": 25,
   "metadata": {},
   "outputs": [
    {
     "name": "stdout",
     "output_type": "stream",
     "text": [
      "881120\n",
      "1068234\n"
     ]
    }
   ],
   "source": [
    "pin = \"881120-1068234\"\n",
    "yyyymmdd = pin[:6]\n",
    "num = pin[7:]\n",
    "print(yyyymmdd)\n",
    "print(num)"
   ]
  },
  {
   "cell_type": "markdown",
   "metadata": {},
   "source": [
    "4."
   ]
  },
  {
   "cell_type": "code",
   "execution_count": 155,
   "metadata": {},
   "outputs": [
    {
     "name": "stdout",
     "output_type": "stream",
     "text": [
      "남자입니다.\n"
     ]
    }
   ],
   "source": [
    "pin = \"881120-1068234\"\n",
    "num = pin[7]\n",
    "\n",
    "if num != 1:\n",
    "    print(\"남자입니다.\")"
   ]
  },
  {
   "cell_type": "markdown",
   "metadata": {},
   "source": [
    "5."
   ]
  },
  {
   "cell_type": "code",
   "execution_count": 44,
   "metadata": {},
   "outputs": [
    {
     "ename": "SyntaxError",
     "evalue": "unexpected character after line continuation character (<ipython-input-44-e6581deeabe4>, line 2)",
     "output_type": "error",
     "traceback": [
      "\u001b[1;36m  File \u001b[1;32m\"<ipython-input-44-e6581deeabe4>\"\u001b[1;36m, line \u001b[1;32m2\u001b[0m\n\u001b[1;33m    b = a.replace(\\:,str\u001b[0m\n\u001b[1;37m                        ^\u001b[0m\n\u001b[1;31mSyntaxError\u001b[0m\u001b[1;31m:\u001b[0m unexpected character after line continuation character\n"
     ]
    }
   ],
   "source": [
    "a = \"a:b:c:d\"\n",
    "b = a.replace(\\:,str\n",
    "print(b)"
   ]
  },
  {
   "cell_type": "markdown",
   "metadata": {},
   "source": [
    "6."
   ]
  },
  {
   "cell_type": "code",
   "execution_count": 15,
   "metadata": {},
   "outputs": [
    {
     "name": "stdout",
     "output_type": "stream",
     "text": [
      "[5, 4, 3, 2, 1]\n"
     ]
    }
   ],
   "source": [
    "a = [1, 3, 5, 4, 2]\n",
    "a.sort()\n",
    "a.reverse()\n",
    "\n",
    "print(a)"
   ]
  },
  {
   "cell_type": "markdown",
   "metadata": {},
   "source": [
    "7."
   ]
  },
  {
   "cell_type": "code",
   "execution_count": 100,
   "metadata": {},
   "outputs": [
    {
     "name": "stdout",
     "output_type": "stream",
     "text": [
      "Life is too short\n"
     ]
    }
   ],
   "source": [
    "a = [\"Life\", \"is\", \"too\", \"short\"]\n",
    "result = (\" \").join(a)\n",
    "print(result)"
   ]
  },
  {
   "cell_type": "markdown",
   "metadata": {},
   "source": [
    "8."
   ]
  },
  {
   "cell_type": "code",
   "execution_count": 70,
   "metadata": {},
   "outputs": [
    {
     "ename": "TypeError",
     "evalue": "can only concatenate tuple (not \"str\") to tuple",
     "output_type": "error",
     "traceback": [
      "\u001b[1;31m---------------------------------------------------------------------------\u001b[0m",
      "\u001b[1;31mTypeError\u001b[0m                                 Traceback (most recent call last)",
      "\u001b[1;32m<ipython-input-70-3aec484b59b8>\u001b[0m in \u001b[0;36m<module>\u001b[1;34m\u001b[0m\n\u001b[0;32m      1\u001b[0m \u001b[0ma\u001b[0m \u001b[1;33m=\u001b[0m \u001b[1;33m(\u001b[0m\u001b[1;36m1\u001b[0m\u001b[1;33m,\u001b[0m \u001b[1;36m2\u001b[0m\u001b[1;33m,\u001b[0m \u001b[1;36m3\u001b[0m\u001b[1;33m)\u001b[0m\u001b[1;33m\u001b[0m\u001b[1;33m\u001b[0m\u001b[0m\n\u001b[1;32m----> 2\u001b[1;33m \u001b[0ma\u001b[0m \u001b[1;33m=\u001b[0m  \u001b[0ma\u001b[0m \u001b[1;33m+\u001b[0m \u001b[1;34m\"4\"\u001b[0m\u001b[1;33m\u001b[0m\u001b[1;33m\u001b[0m\u001b[0m\n\u001b[0m\u001b[0;32m      3\u001b[0m \u001b[0mprint\u001b[0m\u001b[1;33m(\u001b[0m\u001b[0ma\u001b[0m\u001b[1;33m)\u001b[0m\u001b[1;33m\u001b[0m\u001b[1;33m\u001b[0m\u001b[0m\n",
      "\u001b[1;31mTypeError\u001b[0m: can only concatenate tuple (not \"str\") to tuple"
     ]
    }
   ],
   "source": [
    "a = (1, 2, 3)\n",
    "a =  a + \"4\"\n",
    "print(a)"
   ]
  },
  {
   "cell_type": "markdown",
   "metadata": {},
   "source": [
    "9."
   ]
  },
  {
   "cell_type": "code",
   "execution_count": 82,
   "metadata": {},
   "outputs": [
    {
     "name": "stdout",
     "output_type": "stream",
     "text": [
      "{250: 'python'}\n"
     ]
    }
   ],
   "source": [
    "a = dict()\n",
    "a[250] = 'python'\n",
    "print(a)"
   ]
  },
  {
   "cell_type": "markdown",
   "metadata": {},
   "source": [
    "10."
   ]
  },
  {
   "cell_type": "code",
   "execution_count": 15,
   "metadata": {},
   "outputs": [
    {
     "name": "stdout",
     "output_type": "stream",
     "text": [
      "{'A': 90, 'C': 70}\n",
      "80\n"
     ]
    }
   ],
   "source": [
    "a = {'A':90, 'B':80, \"C\":70}\n",
    "result = a.pop(\"B\")\n",
    "print(a)\n",
    "print(result) "
   ]
  },
  {
   "cell_type": "markdown",
   "metadata": {},
   "source": [
    "11."
   ]
  },
  {
   "cell_type": "code",
   "execution_count": 110,
   "metadata": {},
   "outputs": [
    {
     "name": "stdout",
     "output_type": "stream",
     "text": [
      "[1, 2, 3, 4, 5]\n"
     ]
    }
   ],
   "source": [
    "a =[1, 1, 1, 2, 2, 3, 3, 3, 4, 4, 5]\n",
    "aSet = set(a)\n",
    "b = list(aSet)\n",
    "print(b)"
   ]
  },
  {
   "cell_type": "markdown",
   "metadata": {},
   "source": [
    "12."
   ]
  },
  {
   "cell_type": "code",
   "execution_count": 1,
   "metadata": {},
   "outputs": [
    {
     "name": "stdout",
     "output_type": "stream",
     "text": [
      "[1, 4, 3]\n"
     ]
    }
   ],
   "source": [
    "a = b =[1, 2, 3]\n",
    "a[1] = 4 \n",
    "print(b)                            #  얕은 복사 : 같은 주소의 "
   ]
  },
  {
   "cell_type": "markdown",
   "metadata": {},
   "source": [
    "# 입력기능"
   ]
  },
  {
   "cell_type": "code",
   "execution_count": 158,
   "metadata": {},
   "outputs": [
    {
     "name": "stdout",
     "output_type": "stream",
     "text": [
      "당신의 이름은한성오\n",
      "당신의 이름은 한성오 입니다.\n"
     ]
    }
   ],
   "source": [
    "name = input(\"당신의 이름은\")\n",
    "print(\"당신의 이름은\",name,\"입니다.\")"
   ]
  },
  {
   "cell_type": "code",
   "execution_count": 164,
   "metadata": {},
   "outputs": [
    {
     "name": "stdout",
     "output_type": "stream",
     "text": [
      "첫번째 숫자?1\n",
      "두번째 숫자?1\n",
      "두수의 합:  2\n"
     ]
    }
   ],
   "source": [
    "num1 = input(\"첫번째 숫자?\")\n",
    "num2 = input(\"두번째 숫자?\")\n",
    "\n",
    "print(\"두수의 합: \",int(num1) + int(num2))   # 문자열을 정수형으로 바꿔야 함"
   ]
  }
 ],
 "metadata": {
  "kernelspec": {
   "display_name": "Python 3",
   "language": "python",
   "name": "python3"
  },
  "language_info": {
   "codemirror_mode": {
    "name": "ipython",
    "version": 3
   },
   "file_extension": ".py",
   "mimetype": "text/x-python",
   "name": "python",
   "nbconvert_exporter": "python",
   "pygments_lexer": "ipython3",
   "version": "3.7.6"
  }
 },
 "nbformat": 4,
 "nbformat_minor": 4
}
