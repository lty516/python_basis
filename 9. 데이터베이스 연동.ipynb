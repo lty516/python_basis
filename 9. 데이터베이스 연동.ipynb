{
 "cells": [
  {
   "cell_type": "markdown",
   "metadata": {},
   "source": [
    "# 데이터베이스 연동\n",
    "---\n",
    "## 1.파이썬과 MYSQL 활용\n",
    "\n",
    "###        모듈 \n",
    "                    1) mysqlclient, pymysql\n",
    "                    2) pip install mysqlclient, pip install pymysql"
   ]
  },
  {
   "cell_type": "markdown",
   "metadata": {},
   "source": [
    "###  MySQLclient 모듈 사용"
   ]
  },
  {
   "cell_type": "code",
   "execution_count": null,
   "metadata": {},
   "outputs": [],
   "source": [
    "import MySQLdb"
   ]
  },
  {
   "cell_type": "code",
   "execution_count": null,
   "metadata": {},
   "outputs": [],
   "source": [
    "# mysql 서버에 접속\n",
    "conn = MySQLdb.connect(host=\"127.0.0.1\", user ='root',password = '1111', database ='testdb')\n",
    "print(conn)\n",
    "conn.close()"
   ]
  },
  {
   "cell_type": "code",
   "execution_count": null,
   "metadata": {},
   "outputs": [],
   "source": [
    "config= {'host':'127.0.0.1','user':'root','password':'1111','database':'testdb'}\n",
    "\n",
    "conn= MySQLdb.connect(**config)\n",
    "print(conn)\n",
    "conn.close()"
   ]
  },
  {
   "cell_type": "code",
   "execution_count": null,
   "metadata": {},
   "outputs": [],
   "source": [
    "# Select \n",
    "conn = MySQLdb.connect(**config)\n",
    "\n",
    "\n",
    "sql ='Select empno, ename, sal, job, deptno From emp'\n",
    "cur = conn.cursor()   # 명령어와 결과값을 들고오는 cursor\n",
    "cur.execute(sql)  \n",
    "#print(cur)\n",
    "#print(type(cur))\n",
    "\n",
    "#for data in cur:\n",
    "    #print(data)\n",
    "#    print(\"%d, %s, %d, %s, %d\" %data) # unpacking \n",
    "    \n",
    "for empno, ename, sal, job, deptno in cur:   #for 문 안에서 직접 unpacking\n",
    "    print(empno, ename, sal, job, deptno)\n",
    "    \n",
    "    \n",
    "conn.close()"
   ]
  },
  {
   "cell_type": "code",
   "execution_count": null,
   "metadata": {},
   "outputs": [],
   "source": [
    "# Insert \n",
    "\n",
    "conn= MySQLdb.connect(**config)\n",
    "cur = conn.cursor()\n",
    "\n",
    "sql ='''Insert Into emp(empno, ename, sal, job, mgr, deptno, hiredate) \n",
    "    Values(1, 'tom', 700, 'clerk', 7788, 20, now())'''\n",
    "\n",
    "cur.execute(sql)\n",
    "conn.commit()\n",
    "\n",
    "conn.close()"
   ]
  },
  {
   "cell_type": "code",
   "execution_count": null,
   "metadata": {},
   "outputs": [],
   "source": [
    "conn= MySQLdb.connect(**config)\n",
    "cur = conn.cursor()\n",
    "\n",
    "v_empno = 5\n",
    "v_ename = 'Johnson'\n",
    "v_sal = 1500    \n",
    "sql ='Insert Into emp(empno, ename, sal, hiredate) Values('+str(v_empno) + \",'\" +\\\n",
    "    v_ename +\"',\"+ str(v_sal) +\", now())\"\n",
    "print(sql)\n",
    "\n",
    "cur.execute(sql)\n",
    "conn.commit()\n",
    "conn.close()"
   ]
  },
  {
   "cell_type": "code",
   "execution_count": null,
   "metadata": {},
   "outputs": [],
   "source": [
    "conn= MySQLdb.connect(**config)\n",
    "cur = conn.cursor()\n",
    "\n",
    "v_empno = 10\n",
    "v_ename = 'Jane'\n",
    "v_sal = 2000    \n",
    "sql ='Insert Into emp(empno, ename, sal, hiredate) Values(%s,%s,%s,now())'\n",
    "sql_data = (str(v_empno),v_ename,str(v_sal))\n",
    "print(sql)\n",
    "\n",
    "cur.execute(sql,sql_data)\n",
    "conn.commit()\n",
    "conn.close()"
   ]
  },
  {
   "cell_type": "code",
   "execution_count": null,
   "metadata": {},
   "outputs": [],
   "source": [
    "conn = MySQLdb.connect(**config)\n",
    "cur = conn.cursor()\n",
    "\n",
    "sql=\"delete from emp Where empno BETWEEN 1 AND 10\"\n",
    "print(sql)\n",
    "\n",
    "cur.execute(sql)\n",
    "conn.commit()\n",
    "conn.close()"
   ]
  },
  {
   "cell_type": "markdown",
   "metadata": {},
   "source": [
    "### PyMySQL"
   ]
  },
  {
   "cell_type": "code",
   "execution_count": null,
   "metadata": {},
   "outputs": [],
   "source": [
    "import pymysql"
   ]
  },
  {
   "cell_type": "code",
   "execution_count": null,
   "metadata": {},
   "outputs": [],
   "source": [
    "conn = pymysql.connect(host = '127.0.0.1', user= 'root', passwd='1111', db ='testdb',port =3306, charset='utf8')\n",
    "print(conn)\n",
    "conn.close()"
   ]
  },
  {
   "cell_type": "code",
   "execution_count": null,
   "metadata": {},
   "outputs": [],
   "source": [
    "config = {\"host\": \"127.0.0.1\",\"user\":\"root\",\"passwd\":\"1111\",\"db\":\"testdb\",\"port\":3306,\"charset\":\"utf8\"}\n",
    "conn =pymysql.connect(**config)\n",
    "print(conn)\n",
    "conn.close"
   ]
  },
  {
   "cell_type": "code",
   "execution_count": null,
   "metadata": {},
   "outputs": [],
   "source": [
    "conn = pymysql.connect(**config)\n",
    "cur = conn.cursor()\n",
    "\n",
    "sql = '''\n",
    "CREATE TABLE IF NOT EXISTS pythonTable(\n",
    "    id    int    unsigned not null auto_increment,\n",
    "    name    varchar(20)  not null,\n",
    "    regdate   datetime,\n",
    "    primary  key(id)\n",
    "    );\n",
    "'''\n",
    "\n",
    "cur.execute(sql)\n",
    "cur.execute('show tables')\n",
    "\n",
    "for i in cur:\n",
    "    print(i)\n",
    "conn.commit()\n",
    "conn.close()"
   ]
  },
  {
   "cell_type": "code",
   "execution_count": null,
   "metadata": {},
   "outputs": [],
   "source": [
    "conn = pymysql.connect(**config)\n",
    "try:\n",
    "    cur = conn.cursor()\n",
    "\n",
    "    sql ='''\n",
    "         CREATE TABLE IF NOT EXISTS pythonTable(\n",
    "            id    int    unsigned not null auto_increment,\n",
    "            name    varchar(20)  not null,\n",
    "            regdate   datetime,\n",
    "        primary  key(id)\n",
    "        );\n",
    "        '''\n",
    "\n",
    "    cur.execute(sql)\n",
    "    conn.commit()\n",
    "\n",
    "finally:\n",
    "    conn.close()"
   ]
  },
  {
   "cell_type": "code",
   "execution_count": null,
   "metadata": {},
   "outputs": [],
   "source": [
    "# CSV파일을 DB에 저장하기\n",
    "\n",
    "'''\n",
    "CREATE TABLE IF NOT EXISTS suppliers(\n",
    "    Supplier_Name    varchar(20),\n",
    "    Invoice_Number   varchar(20),\n",
    "    Part_Number      varchar(20),\n",
    "    Cost             float,\n",
    "    Purchase_Date    date\n",
    ");\n",
    "'''\n",
    "\n",
    "import csv\n",
    "from datetime import  datetime \n",
    "\n",
    "conn = pymysql.connect(**config)\n",
    "try:\n",
    "    cur = conn.cursor()\n",
    "    \n",
    "    # 새로운데이터를 읽어서 저장하기 전에 이전의 데이터를 삭제 \n",
    "    sql = \"delete from suppliers\"\n",
    "    cur.execute(sql)\n",
    "    conn.commit()\n",
    "    \n",
    "    file = csv.reader(open('data/input.csv'))\n",
    "    #print(file)\n",
    "    \n",
    "    header = next(file)\n",
    "    \n",
    "    for row in file:  \n",
    "          cur.execute(\"Insert Into suppliers VALUES(%s, %s, %s, %s, %s)\",row)\n",
    "   \n",
    "\n",
    "\n",
    "    #for row in file:\n",
    "    #   data = []\n",
    "    #  for col in range(len(header)):\n",
    "    #     if col == 4:\n",
    "    #        tmp = datetime.strptime(row[col],'%Y-%m-%d')                           #strptime : 날짜를 문자열로 바꿔주는 함수\n",
    "    #       data.append(tmp)\n",
    "    #  else:\n",
    "    #     data.append(row[col])\n",
    "    \n",
    "    #    cur.execute(\"Insert Into suppliers VALUES(%s, %s, %s, %s, %s)\",data)\n",
    "        \n",
    "    conn.commit()\n",
    "    \n",
    "finally:\n",
    "    conn.close()"
   ]
  },
  {
   "cell_type": "code",
   "execution_count": null,
   "metadata": {},
   "outputs": [],
   "source": [
    "# DB에서 가져온 데이터를 CSV형식의 파일로 저장\n",
    "\n",
    "conn = pymysql.connect(**config)\n",
    "try:\n",
    "    cur = conn.cursor()\n",
    "    \n",
    "    cur.execute('SELECT * FROM suppliers WHERE cost > 500000')\n",
    "#     for i in cur:\n",
    "#         print(i)\n",
    "    file = csv.writer(open('data/output2.csv', 'w'), delimiter = ',')\n",
    "    \n",
    "    header = ['Supplier Name', 'Invoice Number', 'Part Number', 'Cost', 'Purchase Date']\n",
    "    file.writerow(header)\n",
    "    \n",
    "finally:\n",
    "    conn.close()"
   ]
  },
  {
   "cell_type": "markdown",
   "metadata": {},
   "source": [
    "---\n",
    "#  2. 파이썬과 SQL Lite\n",
    "---\n",
    "        1. 로컬 DB : 네트워크 기능이 없는 DB\n",
    "            - Access\n",
    "            - SQL Lite\n",
    "            - Microsoft SQL Server Compact Edition\n",
    "            - Fire Bird Embeded Server\n",
    "            - H2\n",
    "            - HSQL\n",
    "            - Apache Derby\n",
    "\n",
    "        2. 특징\n",
    "            1) 파일기반의 DBMS, 저메모리, 빠른 처리속도 \n",
    "            2) 오픈 소스\n",
    "            3) 별도의 DB서버가 없어도 쉽고 편리하게 사용할 수 있는 Embeded SQL DB 엔진\n",
    "            4) 안드로이드, 아이폰 등의 스마트폰에 기본 내장된 DB\n",
    "            5) 표준 SQL 지원\n",
    "            6) 파이썬의 내장\n",
    "            __________________________________________\n",
    "            7) 컬럼을 삭제하거나 변경하는 것 등이 제한\n",
    "            8) Left OUT JOIN만 지원\n",
    "            9) 읽기 전용 View만 제공\n",
    "        \n",
    "        3. 공식사이트 : http://sqlite.org\n",
    "        \n",
    "        4. 클라이언트 툴 \n",
    "            - http://www.sqliteexpert.com\n",
    "            "
   ]
  },
  {
   "cell_type": "code",
   "execution_count": null,
   "metadata": {},
   "outputs": [],
   "source": [
    "# sqlliteexpert 를 이용해서 db 생성 :mysqllite.db  \n",
    "    \n",
    "\"\"\"\n",
    "CREATE TABLE tblmember(\n",
    "          id int,\n",
    "          name varchar(10),\n",
    "          regdate datetime\n",
    "    \n",
    ");\n",
    "\"\"\"\n",
    "\n",
    "\"\"\"\n",
    "INSERT INTO tblmember values(1,'홍길동','2020-05-05');\n",
    "INSERT INTO tblmember values(2,'임꺽정',date('now'));\n",
    "\"\"\""
   ]
  },
  {
   "cell_type": "code",
   "execution_count": null,
   "metadata": {},
   "outputs": [],
   "source": [
    "import sqlite3\n",
    "\n",
    "print(sqlite3.version)\n",
    "print(sqlite3.sqlite_version)"
   ]
  },
  {
   "cell_type": "code",
   "execution_count": null,
   "metadata": {},
   "outputs": [],
   "source": [
    "conn = sqlite3.connect('data/mysqllite.db')\n",
    "print(conn)\n",
    "cur = conn.cursor()\n",
    "print(cur)\n",
    "conn.close()"
   ]
  },
  {
   "cell_type": "code",
   "execution_count": null,
   "metadata": {},
   "outputs": [],
   "source": [
    "# SELECT\n",
    "\n",
    "conn = sqlite3.connect('data/mysqllite.db')\n",
    "cur = conn.cursor()\n",
    "\n",
    "cur.execute(\"Select * From tblmember\")\n",
    "for row in cur:\n",
    "    print(row)\n",
    "\n",
    "\n",
    "conn.close()"
   ]
  },
  {
   "cell_type": "code",
   "execution_count": null,
   "metadata": {},
   "outputs": [],
   "source": [
    "# INSERT\n",
    "conn = sqlite3.connect('data/mysqllite.db')\n",
    "cur = conn.cursor()\n",
    "\n",
    "cur.execute(\"Insert Into tblmember values(3,'나비',date('now'))\")\n",
    "\n",
    "\n",
    "conn.commit()\n",
    "conn.close()\n"
   ]
  },
  {
   "cell_type": "code",
   "execution_count": null,
   "metadata": {},
   "outputs": [],
   "source": [
    "# CSV 파일을 읽어서 DB에 저장\n",
    "import csv\n",
    "\n",
    "file =csv.reader(open(\"data/input.csv\",'r').delimiter =',')\n",
    "header = next(file)\n",
    "\n",
    "conn= sqlite3.connect(\"data/mysqllite.db\")\n",
    "cur = conn.cursor()\n",
    "\n",
    "for row in file:\n",
    "    cur.execute(\"INSERT INTO suppliers Values(?,?,?,?,?)\",row)\n",
    "conn.commit()\n",
    "conn.close()"
   ]
  },
  {
   "cell_type": "code",
   "execution_count": null,
   "metadata": {},
   "outputs": [],
   "source": [
    "\"\"\" 연습문제\n",
    "1) mysql의 emp테이블을 emp.csv로 저장\n",
    "\n",
    "2) emp테이블을 이용해서 아래와 같은 프로그램\n",
    "예시)\n",
    "        1. mysql\n",
    "        2. sqlite\n",
    "        연결할 db의 종류 :\n",
    "        \n",
    "        연결할 주소와 계정을 입력: (mysql일 경우)\n",
    "        주소 : xxx.xxx.xxx.xxx\n",
    "        아이디 : xxx\n",
    "        패스워드 : xxx\n",
    "        \n",
    "        메뉴 선택\n",
    "        1. 조회\n",
    "        2. 입력\n",
    "        3. 수정\n",
    "        4. 삭제\n",
    "        메뉴 : \n",
    "    \n",
    "\"\"\""
   ]
  },
  {
   "cell_type": "code",
   "execution_count": null,
   "metadata": {},
   "outputs": [],
   "source": [
    "# 메모리 DB \n",
    "\n",
    "conn = sqlite3.connect(\":memory:\")\n",
    "cur = conn.cursor()\n",
    "#print(cur)\n",
    "\n",
    "cur.execute(\"CREATE TABLE phonebook(name text, phounnum varchar(20));\")             \n",
    "cur.execute(\"INSERT INTO phonebook VAlues(?,?);\",(\"TOM\",\"010-111-1111\"))"
   ]
  },
  {
   "cell_type": "code",
   "execution_count": null,
   "metadata": {},
   "outputs": [],
   "source": [
    "cur.execute(\"Select *from phonebook\")\n",
    "for i in cur.fetchmany(5): \n",
    "    print(i)"
   ]
  },
  {
   "cell_type": "code",
   "execution_count": null,
   "metadata": {},
   "outputs": [],
   "source": [
    "# 입력데이터 인자를 변수명 처리 \n",
    "\n",
    "sql = \"INSERT INTO phonebook VALUES(:vName, :vPhone)\"\n",
    "cur.execute(sql,{'vPhone':'010-222-2222','vName':'Johnson'})"
   ]
  },
  {
   "cell_type": "code",
   "execution_count": null,
   "metadata": {},
   "outputs": [],
   "source": [
    "# 여러 개의 데이터를 한번에 처리 : executemany()\n",
    "datalist =(('jane','010-333-3333'),('paul','010-444-4444'),('chris','010-555-5555'))\n",
    "\n",
    "cur.executemany(\"INSERT INTO phonebook Values(?,?)\",datalist)  "
   ]
  },
  {
   "cell_type": "code",
   "execution_count": null,
   "metadata": {},
   "outputs": [],
   "source": [
    "# 작업한 내용을 script로 저장\n",
    "f = open(\"data/dump.sql\",'w')\n",
    "for line in conn.iterdump():\n",
    "    #print(line)\n",
    "    f.write(\"{}\\n\".format(line))\n",
    "    \n",
    "f.close()\n",
    "conn.close()"
   ]
  },
  {
   "cell_type": "code",
   "execution_count": null,
   "metadata": {},
   "outputs": [],
   "source": [
    "conn = sqlite3.connect(\":memory:\")\n",
    "cur = conn.cursor()\n",
    "\n",
    "# 스크립트 불러오기 \n",
    "f=open(\"data/dump.sql\")\n",
    "script = f.read()\n",
    "#print(script)\n",
    "\n",
    "cur.executescript(script)\n",
    "\n",
    "cur.execute(\"Select *from phonebook\")\n",
    "for i in cur.fetchmany(5): \n",
    "    print(i)\n",
    "\n",
    "f.close()\n",
    "conn.close()"
   ]
  },
  {
   "cell_type": "markdown",
   "metadata": {},
   "source": [
    "# 3. MongoDB와 연동\n",
    "---\n",
    "    pip install pymongo"
   ]
  },
  {
   "cell_type": "code",
   "execution_count": 6,
   "metadata": {},
   "outputs": [],
   "source": [
    "#import pymongo\n",
    "from pymongo import MongoClient\n"
   ]
  },
  {
   "cell_type": "code",
   "execution_count": 9,
   "metadata": {},
   "outputs": [
    {
     "name": "stdout",
     "output_type": "stream",
     "text": [
      "MongoClient(host=['127.0.0.1:27017'], document_class=dict, tz_aware=False, connect=True)\n"
     ]
    }
   ],
   "source": [
    "#conn= pymongo.MongoClient(\"127.0.0.1\",27017)\n",
    "#print(conn)\n",
    "#conn.close()\n",
    "\n",
    "#conn = MongoClient(\"127.0.0.1\",27017)\n",
    "conn = MongoClient(\"mongodb://127.0.0.1:27017\")\n",
    "print(conn)\n",
    "conn.close()"
   ]
  },
  {
   "cell_type": "code",
   "execution_count": 11,
   "metadata": {},
   "outputs": [
    {
     "name": "stdout",
     "output_type": "stream",
     "text": [
      "Database(MongoClient(host=['127.0.0.1:27017'], document_class=dict, tz_aware=False, connect=True), 'testdb')\n"
     ]
    }
   ],
   "source": [
    "#DB 연결\n",
    "conn = MongoClient(\"127.0.0.1\",27017)\n",
    "\n",
    "#db= conn.testdb\n",
    "#db= conn.testdb2\n",
    "db= conn[\"testdb\"]\n",
    "\n",
    "print(db)\n",
    "\n",
    "conn.close()"
   ]
  },
  {
   "cell_type": "code",
   "execution_count": 13,
   "metadata": {},
   "outputs": [
    {
     "name": "stdout",
     "output_type": "stream",
     "text": [
      "Collection(Database(MongoClient(host=['127.0.0.1:27017'], document_class=dict, tz_aware=False, connect=True), 'testdb'), 'articles')\n"
     ]
    }
   ],
   "source": [
    "# Collection과 연결\n",
    "\n",
    "conn = MongoClient(\"mongodb://127.0.0.1:27017\")\n",
    "db= conn[\"testdb\"]\n",
    "#coll = db.articles\n",
    "#coll = db[\"articles\"]\n",
    "coll = db.get_collection(\"articles\")\n",
    "\n",
    "\n",
    "print(coll)\n",
    "\n",
    "conn.close()"
   ]
  },
  {
   "cell_type": "code",
   "execution_count": 20,
   "metadata": {},
   "outputs": [
    {
     "name": "stdout",
     "output_type": "stream",
     "text": [
      "6\n",
      "5ed0bd90cacc8ce7a6e13b95\n"
     ]
    },
    {
     "name": "stderr",
     "output_type": "stream",
     "text": [
      "C:\\Users\\acorn\\Anaconda3\\lib\\site-packages\\ipykernel_launcher.py:6: DeprecationWarning: count is deprecated. Use estimated_document_count or count_documents instead. Please note that $where must be replaced by $expr, $near must be replaced by $geoWithin with $center, and $nearSphere must be replaced by $geoWithin with $centerSphere\n",
      "  \n"
     ]
    }
   ],
   "source": [
    "# 데이터 한 개 입력\n",
    "conn = MongoClient(\"mongodb://127.0.0.1:27017\")\n",
    "db= conn[\"testdb\"]\n",
    "coll = db.people\n",
    "\n",
    "print(coll.count())\n",
    "\n",
    "#data ={\"author\":\"Mike\",\"text\":\"my first blog post!\",\"tag\":[\"mongodb\",\"python\"]}\n",
    "#coll.insert_one(data)\n",
    "\n",
    "data ={\"author\":\"Mike\",\"text\":\"my second blog post!\",\"tag\":[\"mongodb\",\"python\"]}\n",
    "post_id =coll.insert_one(data).inserted_id\n",
    "\n",
    "print(post_id)\n",
    "\n",
    "conn.close()"
   ]
  },
  {
   "cell_type": "code",
   "execution_count": 23,
   "metadata": {},
   "outputs": [
    {
     "name": "stdout",
     "output_type": "stream",
     "text": [
      "17\n",
      "27\n"
     ]
    },
    {
     "name": "stderr",
     "output_type": "stream",
     "text": [
      "C:\\Users\\acorn\\Anaconda3\\lib\\site-packages\\ipykernel_launcher.py:7: DeprecationWarning: count is deprecated. Use estimated_document_count or count_documents instead. Please note that $where must be replaced by $expr, $near must be replaced by $geoWithin with $center, and $nearSphere must be replaced by $geoWithin with $centerSphere\n",
      "  import sys\n",
      "C:\\Users\\acorn\\Anaconda3\\lib\\site-packages\\ipykernel_launcher.py:17: DeprecationWarning: count is deprecated. Use estimated_document_count or count_documents instead. Please note that $where must be replaced by $expr, $near must be replaced by $geoWithin with $center, and $nearSphere must be replaced by $geoWithin with $centerSphere\n"
     ]
    }
   ],
   "source": [
    "# 데이터 여러 개 입력 \n",
    "\n",
    "conn = MongoClient(\"mongodb://127.0.0.1:27017\")\n",
    "db= conn[\"testdb\"]\n",
    "coll = db.people\n",
    "\n",
    "print(coll.count())\n",
    "\n",
    "coll.insert_many([{\"number\":i} for i in range(10)])\n",
    "\n",
    "#data=[]\n",
    "#for i in range(10):\n",
    "#    temp = {\"number\":i}\n",
    "#    data.append(temp)\n",
    "#coll.insert_many(data)\n",
    "\n",
    "print(coll.count())\n",
    "conn.close()"
   ]
  },
  {
   "cell_type": "code",
   "execution_count": 30,
   "metadata": {},
   "outputs": [
    {
     "name": "stdout",
     "output_type": "stream",
     "text": [
      "{'_id': ObjectId('5ed0a54980b73231139478bf'), 'name': 'Betty', 'age': 20.0, 'score': 10.0}\n",
      "{'_id': ObjectId('5ed0a54980b73231139478bf'), 'name': 'Betty', 'age': 20.0, 'score': 10.0}\n",
      "{'_id': ObjectId('5ed0a54980b73231139478c0'), 'name': 'Charlie', 'age': 23.0, 'skills': ['mongodb', 'python']}\n",
      "{'_id': ObjectId('5ed0a54980b73231139478c1'), 'name': 'David', 'age': 23.0, 'score': 20.0}\n",
      "{'_id': ObjectId('5ed0bd1bcacc8ce7a6e13b93'), 'author': 'Mike', 'text': 'my first blog post!', 'tag': ['mongodb', 'python']}\n"
     ]
    }
   ],
   "source": [
    "#조회\n",
    "conn = MongoClient(\"mongodb://127.0.0.1:27017\")\n",
    "db= conn[\"testdb\"]\n",
    "coll = db.people\n",
    "\n",
    "#for i in coll.find():\n",
    "#    print(i)\n",
    "\n",
    "#age가 20인 document 조회\n",
    "for i in coll.find({\"age\":20}):\n",
    "    print(i)\n",
    "#age가 20이상인 document 조회\n",
    "for i in coll.find({\"age\":{\"$gte\":20}}):\n",
    "    print(i)\n",
    "\n",
    "print(coll.find_one({\"author\":\"Mike\"}))\n",
    "    \n",
    "    \n",
    "conn.close()"
   ]
  },
  {
   "cell_type": "code",
   "execution_count": 45,
   "metadata": {},
   "outputs": [
    {
     "name": "stdout",
     "output_type": "stream",
     "text": [
      "{'_id': ObjectId('5ed0bd1bcacc8ce7a6e13b93'), 'author': 'Mike', 'text': 'my third blog post!!!!!', 'tag': ['mongodb', 'python'], 'test': 'my third blog post!!!!!'}\n"
     ]
    }
   ],
   "source": [
    "# 데이터 수정\n",
    "conn = MongoClient(\"mongodb://127.0.0.1:27017\")\n",
    "db= conn[\"testdb\"]\n",
    "coll = db.people\n",
    "\n",
    "coll.update_one({\"author\":\"Mike\"},{\"$set\":{\"text\":\"my third blog post!!!!!\"}})\n",
    "\n",
    "print(coll.find_one({\"author\":\"Mike\"}))\n",
    "\n",
    "\n",
    "\n",
    "conn.close()"
   ]
  },
  {
   "cell_type": "code",
   "execution_count": null,
   "metadata": {},
   "outputs": [],
   "source": []
  },
  {
   "cell_type": "code",
   "execution_count": null,
   "metadata": {},
   "outputs": [],
   "source": []
  },
  {
   "cell_type": "code",
   "execution_count": null,
   "metadata": {},
   "outputs": [],
   "source": []
  },
  {
   "cell_type": "code",
   "execution_count": null,
   "metadata": {},
   "outputs": [],
   "source": []
  }
 ],
 "metadata": {
  "kernelspec": {
   "display_name": "Python 3",
   "language": "python",
   "name": "python3"
  },
  "language_info": {
   "codemirror_mode": {
    "name": "ipython",
    "version": 3
   },
   "file_extension": ".py",
   "mimetype": "text/x-python",
   "name": "python",
   "nbconvert_exporter": "python",
   "pygments_lexer": "ipython3",
   "version": "3.7.6"
  }
 },
 "nbformat": 4,
 "nbformat_minor": 4
}
